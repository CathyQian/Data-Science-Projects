{
 "cells": [
  {
   "cell_type": "markdown",
   "metadata": {},
   "source": [
    "### Introduction \n",
    "The following code used machine learning to figure out 1) the best model to predict the synthesis outcome (fail or success) of any input oligonucleotides, 2) the main features responsible for the failure of the synthesis of the input oligonucleotides.\n",
    "\n",
    "The data contains 17.5% failied and 82.5% succeeded oligonucleotides and their physical parameters. From statistical analysis, length, miminum free energy, paired group and paired GC group are correlated with the failed synthesis. Please read the Statistical_Analysis_of_All_Data.ipynb file first to get more details of the data.\n"
   ]
  },
  {
   "cell_type": "markdown",
   "metadata": {},
   "source": [
    "### Data Import and Feature Engineering\n",
    "First, let's import python modules including csv, numpy, pandas and scikit learn (for machine learning) used for this project."
   ]
  },
  {
   "cell_type": "code",
   "execution_count": 1,
   "metadata": {
    "collapsed": true
   },
   "outputs": [],
   "source": [
    "import csv as csv\n",
    "import numpy as np\n",
    "import pandas as pd\n",
    "from pandas.tools.plotting import scatter_matrix\n",
    "import matplotlib.pyplot as plt\n",
    "from sklearn.model_selection import train_test_split\n",
    "from sklearn.model_selection import KFold\n",
    "from sklearn.model_selection import cross_val_score\n",
    "from sklearn.model_selection import GridSearchCV\n",
    "from sklearn.preprocessing import StandardScaler\n",
    "from sklearn.pipeline import Pipeline\n",
    "from sklearn.linear_model import LogisticRegression\n",
    "from sklearn.tree import DecisionTreeClassifier\n",
    "from sklearn.neighbors import KNeighborsClassifier\n",
    "from sklearn.discriminant_analysis import LinearDiscriminantAnalysis\n",
    "from sklearn.naive_bayes import GaussianNB\n",
    "from sklearn.svm import SVC\n",
    "from sklearn.ensemble import AdaBoostClassifier\n",
    "from sklearn.ensemble import GradientBoostingClassifier\n",
    "from sklearn.ensemble import RandomForestClassifier\n",
    "from sklearn.ensemble import ExtraTreesClassifier\n",
    "from sklearn.metrics import accuracy_score\n",
    "from sklearn.decomposition import PCA\n",
    "%matplotlib inline"
   ]
  },
  {
   "cell_type": "markdown",
   "metadata": {},
   "source": [
    "Let's first import data and do some data cleaning and feature engineering. Please refer to Statistical_Analysis_of_All_Data.ipynb file for detailed explaination.  "
   ]
  },
  {
   "cell_type": "code",
   "execution_count": 2,
   "metadata": {
    "collapsed": false
   },
   "outputs": [
    {
     "data": {
      "text/html": [
       "<div>\n",
       "<table border=\"1\" class=\"dataframe\">\n",
       "  <thead>\n",
       "    <tr style=\"text-align: right;\">\n",
       "      <th></th>\n",
       "      <th>length</th>\n",
       "      <th>GC_norm</th>\n",
       "      <th>mfe_norm</th>\n",
       "      <th>paired_norm</th>\n",
       "      <th>pairedGC_norm</th>\n",
       "      <th>hairpin_norm</th>\n",
       "      <th>bulge_norm</th>\n",
       "      <th>multi_loop_norm</th>\n",
       "      <th>external_norm</th>\n",
       "    </tr>\n",
       "  </thead>\n",
       "  <tbody>\n",
       "    <tr>\n",
       "      <th>0</th>\n",
       "      <td>562</td>\n",
       "      <td>0.521352</td>\n",
       "      <td>-0.310498</td>\n",
       "      <td>0.629893</td>\n",
       "      <td>0.384342</td>\n",
       "      <td>0.128114</td>\n",
       "      <td>0.023132</td>\n",
       "      <td>0.083630</td>\n",
       "      <td>0.005338</td>\n",
       "    </tr>\n",
       "    <tr>\n",
       "      <th>1</th>\n",
       "      <td>528</td>\n",
       "      <td>0.494318</td>\n",
       "      <td>-0.300000</td>\n",
       "      <td>0.632576</td>\n",
       "      <td>0.352273</td>\n",
       "      <td>0.132576</td>\n",
       "      <td>0.022727</td>\n",
       "      <td>0.096591</td>\n",
       "      <td>0.043561</td>\n",
       "    </tr>\n",
       "    <tr>\n",
       "      <th>2</th>\n",
       "      <td>529</td>\n",
       "      <td>0.506616</td>\n",
       "      <td>-0.333459</td>\n",
       "      <td>0.608696</td>\n",
       "      <td>0.349716</td>\n",
       "      <td>0.179584</td>\n",
       "      <td>0.037807</td>\n",
       "      <td>0.068053</td>\n",
       "      <td>0.018904</td>\n",
       "    </tr>\n",
       "    <tr>\n",
       "      <th>3</th>\n",
       "      <td>664</td>\n",
       "      <td>0.493976</td>\n",
       "      <td>-0.297139</td>\n",
       "      <td>0.629518</td>\n",
       "      <td>0.368976</td>\n",
       "      <td>0.115964</td>\n",
       "      <td>0.028614</td>\n",
       "      <td>0.097892</td>\n",
       "      <td>0.012048</td>\n",
       "    </tr>\n",
       "    <tr>\n",
       "      <th>4</th>\n",
       "      <td>722</td>\n",
       "      <td>0.468144</td>\n",
       "      <td>-0.262188</td>\n",
       "      <td>0.573407</td>\n",
       "      <td>0.332410</td>\n",
       "      <td>0.098338</td>\n",
       "      <td>0.037396</td>\n",
       "      <td>0.090028</td>\n",
       "      <td>0.041551</td>\n",
       "    </tr>\n",
       "  </tbody>\n",
       "</table>\n",
       "</div>"
      ],
      "text/plain": [
       "   length   GC_norm  mfe_norm  paired_norm  pairedGC_norm  hairpin_norm  \\\n",
       "0     562  0.521352 -0.310498     0.629893       0.384342      0.128114   \n",
       "1     528  0.494318 -0.300000     0.632576       0.352273      0.132576   \n",
       "2     529  0.506616 -0.333459     0.608696       0.349716      0.179584   \n",
       "3     664  0.493976 -0.297139     0.629518       0.368976      0.115964   \n",
       "4     722  0.468144 -0.262188     0.573407       0.332410      0.098338   \n",
       "\n",
       "   bulge_norm  multi_loop_norm  external_norm  \n",
       "0    0.023132         0.083630       0.005338  \n",
       "1    0.022727         0.096591       0.043561  \n",
       "2    0.037807         0.068053       0.018904  \n",
       "3    0.028614         0.097892       0.012048  \n",
       "4    0.037396         0.090028       0.041551  "
      ]
     },
     "execution_count": 2,
     "metadata": {},
     "output_type": "execute_result"
    }
   ],
   "source": [
    "train = pd.read_csv('base_data.csv', header = 0)\n",
    "train['GC'] = train['unpairedGC'] + train['pairedGC']\n",
    "train['GC_norm'] = train['GC']/train['length']\n",
    "train['mfe_norm'] = train['mfe']/train['length']\n",
    "train['paired_norm'] = train['paired']/train['length']\n",
    "train['pairedGC_norm'] = train['pairedGC']/train['length']\n",
    "train['hairpin_norm'] = train['hairpin']/train['length']\n",
    "train['interior_loop'] = train['interior_loop']/train['length']\n",
    "train['bulge_norm'] = train['bulge']/train['length']\n",
    "train['multi_loop_norm'] = train['multi_loop']/train['length']\n",
    "train['external_norm'] = train['external']/train['length']\n",
    "Y = train['success']\n",
    "train = train.drop(['rec','mfe', 'stack', 'unpaired', 'unpairedGC', 'hairpin', 'interior_loop', 'bulge', 'multi_loop',\n",
    "                    'external', 'GC', 'paired', 'pairedGC', 'success'], axis=1)\n",
    "\n",
    "train.head(5)"
   ]
  },
  {
   "cell_type": "code",
   "execution_count": 3,
   "metadata": {
    "collapsed": false
   },
   "outputs": [
    {
     "name": "stdout",
     "output_type": "stream",
     "text": [
      "<class 'pandas.core.frame.DataFrame'>\n",
      "RangeIndex: 2880 entries, 0 to 2879\n",
      "Data columns (total 9 columns):\n",
      "length             2880 non-null int64\n",
      "GC_norm            2880 non-null float64\n",
      "mfe_norm           2880 non-null float64\n",
      "paired_norm        2880 non-null float64\n",
      "pairedGC_norm      2880 non-null float64\n",
      "hairpin_norm       2880 non-null float64\n",
      "bulge_norm         2880 non-null float64\n",
      "multi_loop_norm    2880 non-null float64\n",
      "external_norm      2880 non-null float64\n",
      "dtypes: float64(8), int64(1)\n",
      "memory usage: 202.6 KB\n"
     ]
    }
   ],
   "source": [
    "train.info()"
   ]
  },
  {
   "cell_type": "markdown",
   "metadata": {},
   "source": [
    "### Building single models\n",
    "\n",
    "First, let's split the data into train and test dataset.\n",
    "Ideally we would have two data sets: train and test dataset. Then we split train dataset into two parts, one for training the model, the other one for validate the model to avoid overfitting.  Here we only have one data set and split it into train and test data set. Each model is validated using cross validation. "
   ]
  },
  {
   "cell_type": "code",
   "execution_count": 4,
   "metadata": {
    "collapsed": false
   },
   "outputs": [],
   "source": [
    "# change dataframe into numpy array\n",
    "X = train.values\n",
    "\n",
    "# use 80% data for training models and 20% for cross validation\n",
    "test_size = 0.20\n",
    "\n",
    "# fix random_state to make the results reproducible\n",
    "seed = 6\n",
    "\n",
    "# randomly split data into train and test dataset\n",
    "X_train, X_test, Y_train, Y_test = train_test_split(X, Y, test_size \n",
    "                                               = test_size, random_state = seed)"
   ]
  },
  {
   "cell_type": "markdown",
   "metadata": {},
   "source": [
    "Let's then building models. Given that it is a classification problem and the data has labels, we'll try supervised machine learning methods such as logistic regression, linear discriminant analysis, decision tree, Gaussian Naive Bayes, and support vector machine. We will also try unsupervised machine learning method such as K nearest neighbor."
   ]
  },
  {
   "cell_type": "code",
   "execution_count": 5,
   "metadata": {
    "collapsed": true
   },
   "outputs": [],
   "source": [
    "models = []\n",
    "models.append(('LR', LogisticRegression()))\n",
    "models.append(('LDA', LinearDiscriminantAnalysis()))\n",
    "models.append(('KNN', KNeighborsClassifier()))\n",
    "models.append(('CART', DecisionTreeClassifier()))\n",
    "models.append(('NB', GaussianNB()))\n",
    "models.append(('SVM', SVC()))"
   ]
  },
  {
   "cell_type": "markdown",
   "metadata": {},
   "source": [
    "Evaluate each model. Here we will use ten-fold cross validation with accuracy as the evaluation metric."
   ]
  },
  {
   "cell_type": "code",
   "execution_count": 6,
   "metadata": {
    "collapsed": false
   },
   "outputs": [
    {
     "name": "stdout",
     "output_type": "stream",
     "text": [
      "LR: 0.825936 (0.027286)\n",
      "LDA: 0.847632 (0.028897)\n",
      "KNN: 0.818146 (0.032452)\n",
      "CART: 0.769977 (0.025938)\n",
      "NB: 0.814643 (0.030258)\n",
      "SVM: 0.838952 (0.028845)\n"
     ]
    }
   ],
   "source": [
    "results = []\n",
    "names = []\n",
    "\n",
    "# set evaluation metric as accuracy\n",
    "scoring = 'accuracy'\n",
    "\n",
    "# use 10-fold cross validation\n",
    "num_folds = 10\n",
    "\n",
    "# fix random state\n",
    "seed = 7\n",
    "\n",
    "def run_model(modelname):\n",
    "    for name, model in modelname:\n",
    "    \n",
    "        # KFold returns the training set indices and testing set indices for that splitting\n",
    "        kfold = KFold(n_splits = num_folds, random_state = seed)\n",
    "    \n",
    "        # cross_val_score returns an array of scores of the estimator for each run of the cross validation. It is a 10*1 array here.\n",
    "        cv_results = cross_val_score(model, X_train, Y_train, cv = kfold, scoring = 'accuracy')\n",
    "    \n",
    "        # put all cv_results in a list named results and names in a list named names\n",
    "        results.append(cv_results)\n",
    "        names.append(name)\n",
    "    \n",
    "        # output model name, mean and standard deviation of accuracy of the cross validation for each model\n",
    "        msg = \"%s: %f (%f)\" %(name, cv_results.mean(), cv_results.std())\n",
    "        print(msg)\n",
    "\n",
    "run_model(models)"
   ]
  },
  {
   "cell_type": "markdown",
   "metadata": {},
   "source": [
    "Let's visualize the results of these algorithms."
   ]
  },
  {
   "cell_type": "code",
   "execution_count": 7,
   "metadata": {
    "collapsed": false
   },
   "outputs": [
    {
     "data": {
      "image/png": "[encoded data removed]",
      "text/plain": [
       "<matplotlib.figure.Figure at 0x1f169ae1eb8>"
      ]
     },
     "metadata": {},
     "output_type": "display_data"
    }
   ],
   "source": [
    "# making plots using matplotlib\n",
    "\n",
    "fig = plt.figure()\n",
    "fig.suptitle('Algorithm Comparison')\n",
    "ax = fig.add_subplot(111)\n",
    "plt.boxplot(results)\n",
    "ax.set_xticklabels(names)\n",
    "plt.show()"
   ]
  },
  {
   "cell_type": "markdown",
   "metadata": {},
   "source": [
    "We can tell that linear discriminant analysis (LDA) and support vector machine (SVM) gives the highest accuracy. Logistic \n",
    "regression gives slightly lower accuracy but also much lower standard deviation. Decision tree performs really bad here."
   ]
  },
  {
   "cell_type": "markdown",
   "metadata": {},
   "source": [
    "### Standardize Dataset\n",
    "It is known that many machine learning algorithms don't perform well if the individual features look more or less like Guassian \n",
    "distribution. Therefore, let's standardize the dataset by subtracting the mean and scaling to unit variance (x --> (x-u)/sigma). Hopefully the algorithms perform better."
   ]
  },
  {
   "cell_type": "code",
   "execution_count": 8,
   "metadata": {
    "collapsed": false
   },
   "outputs": [
    {
     "name": "stdout",
     "output_type": "stream",
     "text": [
      "ScaledLR: 0.836350 (0.028877)\n",
      "ScaledLDA: 0.847632 (0.028897)\n",
      "ScaledKNN: 0.833301 (0.030390)\n",
      "ScaledCART: 0.766497 (0.030351)\n",
      "ScaledNB: 0.813776 (0.030776)\n",
      "ScaledSVM: 0.855016 (0.028724)\n"
     ]
    }
   ],
   "source": [
    "pipelines = []\n",
    "\n",
    "# Each Pipeline contains one or many transforms and a final estimator in the format of (name, operation).\n",
    "pipelines.append(('ScaledLR', Pipeline([('Scaler', StandardScaler()), ('LR', LogisticRegression())])))\n",
    "pipelines.append(('ScaledLDA', Pipeline([('Scaler', StandardScaler()), ('LDA', LinearDiscriminantAnalysis())])))\n",
    "pipelines.append(('ScaledKNN', Pipeline([('Scaler', StandardScaler()), ('KNN', KNeighborsClassifier())])))\n",
    "pipelines.append(('ScaledCART', Pipeline([('Scaler', StandardScaler()), ('CART', DecisionTreeClassifier())])))\n",
    "pipelines.append(('ScaledNB', Pipeline([('Scaler', StandardScaler()), ('NB', GaussianNB())])))\n",
    "pipelines.append(('ScaledSVM', Pipeline([('Scaler', StandardScaler()), ('SVM', SVC())])))\n",
    "\n",
    "results = []\n",
    "names = []\n",
    "\n",
    "run_model(pipelines)"
   ]
  },
  {
   "cell_type": "markdown",
   "metadata": {},
   "source": [
    "Similarily, let's visualize the results of the algorithms"
   ]
  },
  {
   "cell_type": "code",
   "execution_count": 9,
   "metadata": {
    "collapsed": false
   },
   "outputs": [
    {
     "data": {
      "image/png": "[encoded data removed]",
      "text/plain": [
       "<matplotlib.figure.Figure at 0x1f1779b76a0>"
      ]
     },
     "metadata": {},
     "output_type": "display_data"
    }
   ],
   "source": [
    "fig = plt.figure()\n",
    "fig.suptitle('Scaled Algorithm Comparison')\n",
    "ax = fig.add_subplot(111)\n",
    "\n",
    "# input of boxplot is results, which is a list of 10*1 arrays containing accuracy. \n",
    "plt.boxplot(results)\n",
    "ax.set_xticklabels(names)\n",
    "plt.show()\n"
   ]
  },
  {
   "cell_type": "markdown",
   "metadata": {},
   "source": [
    "Standardizing the data improved the accuracy of all algorithms. The general trend is still the same: linear discriminant analysis (LDA) and support vector machine (SVM) gives the highest accuracy. Let's further tuning the parameters of these two algorithms to achieve higher accuracy. \n",
    "\n",
    "We'll start with scaled LDA."
   ]
  },
  {
   "cell_type": "code",
   "execution_count": 10,
   "metadata": {
    "collapsed": false
   },
   "outputs": [
    {
     "name": "stdout",
     "output_type": "stream",
     "text": [
      "Best: 0.847656 using {'solver': 'svd'}\n",
      "results from scaled LDA are 0.847656 (0.028888) with: ({'solver': 'svd'}, {'solver': 'lsqr'}, {'solver': 'eigen'})\n",
      "results from scaled LDA are 0.847656 (0.028888) with: ({'solver': 'svd'}, {'solver': 'lsqr'}, {'solver': 'eigen'})\n",
      "results from scaled LDA are 0.825955 (0.027269) with: ({'solver': 'svd'}, {'solver': 'lsqr'}, {'solver': 'eigen'})\n"
     ]
    }
   ],
   "source": [
    "# standardize X_train\n",
    "scaler = StandardScaler().fit(X_train)\n",
    "rescaledX = scaler.transform(X_train)\n",
    "\n",
    "# scan three different solver value, try to find the optimum value\n",
    "solver_value = ['svd', 'lsqr', 'eigen']\n",
    "param_grid = dict(solver = solver_value)\n",
    "\n",
    "# define model\n",
    "model = LinearDiscriminantAnalysis()\n",
    "kfold = KFold(n_splits = num_folds, random_state = seed)\n",
    "\n",
    "# grid search different solver value\n",
    "grid = GridSearchCV(estimator = model, param_grid = param_grid, scoring = 'accuracy', cv = kfold)\n",
    "grid_result = grid.fit(rescaledX, Y_train)\n",
    "print(\"Best: %f using %s\" % (grid_result.best_score_, grid_result.best_params_))\n",
    "\n",
    "# output grid search results (mean, standard deviation)\n",
    "means = grid_result.cv_results_['mean_test_score']\n",
    "stds = grid_result.cv_results_['std_test_score']\n",
    "params = grid_result.cv_results_['params']\n",
    "\n",
    "for mean, stdev, param in zip(means, stds, params):\n",
    "    print(\"results from scaled LDA are %f (%f) with: %r\" % (mean, stdev, params))"
   ]
  },
  {
   "cell_type": "markdown",
   "metadata": {},
   "source": [
    "The accuracy of scaled LDA improved from 0.847632 to 0.847656. Not a lot but still worth the effort.\n",
    "\n",
    "Similarily, let's tune scaled SVM."
   ]
  },
  {
   "cell_type": "code",
   "execution_count": 11,
   "metadata": {
    "collapsed": false
   },
   "outputs": [
    {
     "name": "stdout",
     "output_type": "stream",
     "text": [
      "Best: 0.855035 using {'C': 0.3, 'kernel': 'poly'}\n",
      "results from scaled SVM are 0.825955 (0.027269) with: {'C': 0.1, 'kernel': 'linear'}\n",
      "results from scaled SVM are 0.854167 (0.030255) with: {'C': 0.1, 'kernel': 'poly'}\n",
      "results from scaled SVM are 0.845920 (0.028381) with: {'C': 0.1, 'kernel': 'rbf'}\n",
      "results from scaled SVM are 0.813802 (0.034130) with: {'C': 0.1, 'kernel': 'sigmoid'}\n",
      "results from scaled SVM are 0.825955 (0.027269) with: {'C': 0.3, 'kernel': 'linear'}\n",
      "results from scaled SVM are 0.855035 (0.029435) with: {'C': 0.3, 'kernel': 'poly'}\n",
      "results from scaled SVM are 0.853733 (0.030178) with: {'C': 0.3, 'kernel': 'rbf'}\n",
      "results from scaled SVM are 0.767795 (0.032777) with: {'C': 0.3, 'kernel': 'sigmoid'}\n",
      "results from scaled SVM are 0.825955 (0.027269) with: {'C': 0.5, 'kernel': 'linear'}\n",
      "results from scaled SVM are 0.855035 (0.029435) with: {'C': 0.5, 'kernel': 'poly'}\n",
      "results from scaled SVM are 0.854167 (0.030193) with: {'C': 0.5, 'kernel': 'rbf'}\n",
      "results from scaled SVM are 0.737413 (0.031944) with: {'C': 0.5, 'kernel': 'sigmoid'}\n",
      "results from scaled SVM are 0.825955 (0.027269) with: {'C': 0.7, 'kernel': 'linear'}\n",
      "results from scaled SVM are 0.853733 (0.030240) with: {'C': 0.7, 'kernel': 'poly'}\n",
      "results from scaled SVM are 0.854601 (0.029561) with: {'C': 0.7, 'kernel': 'rbf'}\n",
      "results from scaled SVM are 0.727865 (0.037578) with: {'C': 0.7, 'kernel': 'sigmoid'}\n",
      "results from scaled SVM are 0.825955 (0.027269) with: {'C': 0.9, 'kernel': 'linear'}\n",
      "results from scaled SVM are 0.854601 (0.029932) with: {'C': 0.9, 'kernel': 'poly'}\n",
      "results from scaled SVM are 0.855035 (0.028712) with: {'C': 0.9, 'kernel': 'rbf'}\n",
      "results from scaled SVM are 0.718316 (0.033530) with: {'C': 0.9, 'kernel': 'sigmoid'}\n",
      "results from scaled SVM are 0.825955 (0.027269) with: {'C': 1.0, 'kernel': 'linear'}\n",
      "results from scaled SVM are 0.854601 (0.029932) with: {'C': 1.0, 'kernel': 'poly'}\n",
      "results from scaled SVM are 0.855035 (0.028712) with: {'C': 1.0, 'kernel': 'rbf'}\n",
      "results from scaled SVM are 0.715712 (0.033398) with: {'C': 1.0, 'kernel': 'sigmoid'}\n",
      "results from scaled SVM are 0.825955 (0.027269) with: {'C': 1.3, 'kernel': 'linear'}\n",
      "results from scaled SVM are 0.854167 (0.030556) with: {'C': 1.3, 'kernel': 'poly'}\n",
      "results from scaled SVM are 0.854601 (0.028709) with: {'C': 1.3, 'kernel': 'rbf'}\n",
      "results from scaled SVM are 0.709635 (0.034643) with: {'C': 1.3, 'kernel': 'sigmoid'}\n",
      "results from scaled SVM are 0.825955 (0.027269) with: {'C': 1.5, 'kernel': 'linear'}\n",
      "results from scaled SVM are 0.853733 (0.031403) with: {'C': 1.5, 'kernel': 'poly'}\n",
      "results from scaled SVM are 0.854601 (0.028709) with: {'C': 1.5, 'kernel': 'rbf'}\n",
      "results from scaled SVM are 0.708767 (0.035871) with: {'C': 1.5, 'kernel': 'sigmoid'}\n",
      "results from scaled SVM are 0.825955 (0.027269) with: {'C': 1.7, 'kernel': 'linear'}\n",
      "results from scaled SVM are 0.853733 (0.031403) with: {'C': 1.7, 'kernel': 'poly'}\n",
      "results from scaled SVM are 0.855035 (0.028636) with: {'C': 1.7, 'kernel': 'rbf'}\n",
      "results from scaled SVM are 0.708767 (0.036110) with: {'C': 1.7, 'kernel': 'sigmoid'}\n",
      "results from scaled SVM are 0.825955 (0.027269) with: {'C': 2.0, 'kernel': 'linear'}\n",
      "results from scaled SVM are 0.854167 (0.030802) with: {'C': 2.0, 'kernel': 'poly'}\n",
      "results from scaled SVM are 0.855035 (0.028636) with: {'C': 2.0, 'kernel': 'rbf'}\n",
      "results from scaled SVM are 0.706597 (0.037026) with: {'C': 2.0, 'kernel': 'sigmoid'}\n"
     ]
    }
   ],
   "source": [
    "# scan c values (c is the penalty parameter, default value is 1.0) and kernel type\n",
    "c_values = [0.1, 0.3, 0.5, 0.7, 0.9, 1.0, 1.3, 1.5, 1.7, 2.0]\n",
    "kernel_values = ['linear', 'poly', 'rbf', 'sigmoid']\n",
    "param_grid = dict(C=c_values, kernel= kernel_values)\n",
    "\n",
    "# define model\n",
    "model = SVC()\n",
    "kfold = KFold(n_splits = num_folds, random_state = seed)\n",
    "\n",
    "# grid search\n",
    "grid = GridSearchCV(estimator = model, param_grid = param_grid, scoring = 'accuracy', cv = kfold)\n",
    "grid_result = grid.fit(rescaledX, Y_train)\n",
    "print(\"Best: %f using %s\" %(grid_result.best_score_, grid_result.best_params_))\n",
    "\n",
    "# output grid search result\n",
    "means = grid_result.cv_results_['mean_test_score']\n",
    "stds = grid_result.cv_results_['std_test_score']\n",
    "params = grid_result.cv_results_['params']\n",
    "\n",
    "for mean, stdev, param in zip(means, stds, params):\n",
    "    print(\"results from scaled SVM are %f (%f) with: %r\" % (mean, stdev, param))"
   ]
  },
  {
   "cell_type": "markdown",
   "metadata": {},
   "source": [
    "The accuracy of scaled LDA improved from 0.855016 to 0.855035.\n",
    "\n",
    "### Ensemble Method\n",
    "Ensemble learning helps improve machine learning results by combining several models. Let's check how ensemble learning improves\n",
    "the accuracy of these algorithms.\n",
    "\n",
    "The ensemble methods we use are AdaBoosting, gradient boosting, random forest and extra trees."
   ]
  },
  {
   "cell_type": "code",
   "execution_count": 12,
   "metadata": {
    "collapsed": false
   },
   "outputs": [
    {
     "name": "stdout",
     "output_type": "stream",
     "text": [
      "AB: 0.848080 (0.030391)\n",
      "GBM: 0.860222 (0.026446)\n",
      "RF: 0.849366 (0.024629)\n",
      "ET: 0.848965 (0.019929)\n"
     ]
    }
   ],
   "source": [
    "ensembles = []\n",
    "ensembles.append(('AB', AdaBoostClassifier()))\n",
    "ensembles.append(('GBM', GradientBoostingClassifier()))\n",
    "ensembles.append(('RF', RandomForestClassifier()))\n",
    "ensembles.append(('ET', ExtraTreesClassifier()))\n",
    "results = []\n",
    "names = []\n",
    "\n",
    "run_model(ensembles)"
   ]
  },
  {
   "cell_type": "markdown",
   "metadata": {},
   "source": [
    "Visualize results as follows:"
   ]
  },
  {
   "cell_type": "code",
   "execution_count": 13,
   "metadata": {
    "collapsed": false
   },
   "outputs": [
    {
     "data": {
      "image/png": "[encoded data removed]",
      "text/plain": [
       "<matplotlib.figure.Figure at 0x1f17453bac8>"
      ]
     },
     "metadata": {},
     "output_type": "display_data"
    }
   ],
   "source": [
    "fig = plt.figure()\n",
    "fig.suptitle('Ensemble Algorithm Comparison')\n",
    "ax = fig.add_subplot(111)\n",
    "plt.boxplot(results)\n",
    "ax.set_xticklabels(names)\n",
    "plt.show()"
   ]
  },
  {
   "cell_type": "markdown",
   "metadata": {},
   "source": [
    "Gradient boosting gives the highest accuracy 0.860222. Let's further tune the parameters of this model."
   ]
  },
  {
   "cell_type": "code",
   "execution_count": 14,
   "metadata": {
    "collapsed": false
   },
   "outputs": [
    {
     "name": "stdout",
     "output_type": "stream",
     "text": [
      "Best: 0.863715 using {'max_features': 1, 'loss': 'deviance', 'min_samples_split': 1, 'n_estimators': 400}\n",
      "results from scaled GB are 0.859375 (0.028691) with: {'max_features': 1, 'loss': 'deviance', 'min_samples_split': 1, 'n_estimators': 100}\n",
      "results from scaled GB are 0.856771 (0.025016) with: {'max_features': 1, 'loss': 'deviance', 'min_samples_split': 1, 'n_estimators': 200}\n",
      "results from scaled GB are 0.858941 (0.022665) with: {'max_features': 1, 'loss': 'deviance', 'min_samples_split': 1, 'n_estimators': 300}\n",
      "results from scaled GB are 0.861979 (0.024672) with: {'max_features': 1, 'loss': 'deviance', 'min_samples_split': 1, 'n_estimators': 400}\n",
      "results from scaled GB are 0.857205 (0.021282) with: {'max_features': 1, 'loss': 'deviance', 'min_samples_split': 1, 'n_estimators': 500}\n",
      "results from scaled GB are 0.856771 (0.027160) with: {'max_features': 1, 'loss': 'deviance', 'min_samples_split': 2, 'n_estimators': 100}\n",
      "results from scaled GB are 0.860243 (0.025022) with: {'max_features': 1, 'loss': 'deviance', 'min_samples_split': 2, 'n_estimators': 200}\n",
      "results from scaled GB are 0.860677 (0.024943) with: {'max_features': 1, 'loss': 'deviance', 'min_samples_split': 2, 'n_estimators': 300}\n",
      "results from scaled GB are 0.861979 (0.020826) with: {'max_features': 1, 'loss': 'deviance', 'min_samples_split': 2, 'n_estimators': 400}\n",
      "results from scaled GB are 0.856771 (0.021457) with: {'max_features': 1, 'loss': 'deviance', 'min_samples_split': 2, 'n_estimators': 500}\n",
      "results from scaled GB are 0.858941 (0.024196) with: {'max_features': 2, 'loss': 'deviance', 'min_samples_split': 1, 'n_estimators': 100}\n",
      "results from scaled GB are 0.856771 (0.028260) with: {'max_features': 2, 'loss': 'deviance', 'min_samples_split': 1, 'n_estimators': 200}\n",
      "results from scaled GB are 0.861111 (0.026392) with: {'max_features': 2, 'loss': 'deviance', 'min_samples_split': 1, 'n_estimators': 300}\n",
      "results from scaled GB are 0.858941 (0.023003) with: {'max_features': 2, 'loss': 'deviance', 'min_samples_split': 1, 'n_estimators': 400}\n",
      "results from scaled GB are 0.858507 (0.026119) with: {'max_features': 2, 'loss': 'deviance', 'min_samples_split': 1, 'n_estimators': 500}\n",
      "results from scaled GB are 0.856771 (0.024468) with: {'max_features': 2, 'loss': 'deviance', 'min_samples_split': 2, 'n_estimators': 100}\n",
      "results from scaled GB are 0.861545 (0.024539) with: {'max_features': 2, 'loss': 'deviance', 'min_samples_split': 2, 'n_estimators': 200}\n",
      "results from scaled GB are 0.861979 (0.024608) with: {'max_features': 2, 'loss': 'deviance', 'min_samples_split': 2, 'n_estimators': 300}\n",
      "results from scaled GB are 0.854167 (0.026168) with: {'max_features': 2, 'loss': 'deviance', 'min_samples_split': 2, 'n_estimators': 400}\n",
      "results from scaled GB are 0.860243 (0.024714) with: {'max_features': 2, 'loss': 'deviance', 'min_samples_split': 2, 'n_estimators': 500}\n",
      "results from scaled GB are 0.855469 (0.027839) with: {'max_features': 1, 'loss': 'exponential', 'min_samples_split': 1, 'n_estimators': 100}\n",
      "results from scaled GB are 0.859375 (0.028301) with: {'max_features': 1, 'loss': 'exponential', 'min_samples_split': 1, 'n_estimators': 200}\n",
      "results from scaled GB are 0.856771 (0.023963) with: {'max_features': 1, 'loss': 'exponential', 'min_samples_split': 1, 'n_estimators': 300}\n",
      "results from scaled GB are 0.859375 (0.026076) with: {'max_features': 1, 'loss': 'exponential', 'min_samples_split': 1, 'n_estimators': 400}\n",
      "results from scaled GB are 0.861979 (0.022656) with: {'max_features': 1, 'loss': 'exponential', 'min_samples_split': 1, 'n_estimators': 500}\n",
      "results from scaled GB are 0.855903 (0.025923) with: {'max_features': 1, 'loss': 'exponential', 'min_samples_split': 2, 'n_estimators': 100}\n",
      "results from scaled GB are 0.858507 (0.025927) with: {'max_features': 1, 'loss': 'exponential', 'min_samples_split': 2, 'n_estimators': 200}\n",
      "results from scaled GB are 0.858073 (0.025479) with: {'max_features': 1, 'loss': 'exponential', 'min_samples_split': 2, 'n_estimators': 300}\n",
      "results from scaled GB are 0.859375 (0.025575) with: {'max_features': 1, 'loss': 'exponential', 'min_samples_split': 2, 'n_estimators': 400}\n",
      "results from scaled GB are 0.860243 (0.024362) with: {'max_features': 1, 'loss': 'exponential', 'min_samples_split': 2, 'n_estimators': 500}\n",
      "results from scaled GB are 0.859809 (0.026764) with: {'max_features': 2, 'loss': 'exponential', 'min_samples_split': 1, 'n_estimators': 100}\n",
      "results from scaled GB are 0.858507 (0.026804) with: {'max_features': 2, 'loss': 'exponential', 'min_samples_split': 1, 'n_estimators': 200}\n",
      "results from scaled GB are 0.859375 (0.028797) with: {'max_features': 2, 'loss': 'exponential', 'min_samples_split': 1, 'n_estimators': 300}\n",
      "results from scaled GB are 0.860677 (0.023026) with: {'max_features': 2, 'loss': 'exponential', 'min_samples_split': 1, 'n_estimators': 400}\n",
      "results from scaled GB are 0.861111 (0.024177) with: {'max_features': 2, 'loss': 'exponential', 'min_samples_split': 1, 'n_estimators': 500}\n",
      "results from scaled GB are 0.858507 (0.026644) with: {'max_features': 2, 'loss': 'exponential', 'min_samples_split': 2, 'n_estimators': 100}\n",
      "results from scaled GB are 0.857205 (0.028470) with: {'max_features': 2, 'loss': 'exponential', 'min_samples_split': 2, 'n_estimators': 200}\n",
      "results from scaled GB are 0.861111 (0.025198) with: {'max_features': 2, 'loss': 'exponential', 'min_samples_split': 2, 'n_estimators': 300}\n",
      "results from scaled GB are 0.861111 (0.022904) with: {'max_features': 2, 'loss': 'exponential', 'min_samples_split': 2, 'n_estimators': 400}\n",
      "results from scaled GB are 0.860677 (0.026927) with: {'max_features': 2, 'loss': 'exponential', 'min_samples_split': 2, 'n_estimators': 500}\n",
      "results from scaled GB are 0.858507 (0.026380) with: {'max_features': 1, 'loss': 'deviance', 'min_samples_split': 1, 'n_estimators': 100}\n",
      "results from scaled GB are 0.855035 (0.024538) with: {'max_features': 1, 'loss': 'deviance', 'min_samples_split': 1, 'n_estimators': 200}\n",
      "results from scaled GB are 0.858507 (0.026995) with: {'max_features': 1, 'loss': 'deviance', 'min_samples_split': 1, 'n_estimators': 300}\n",
      "results from scaled GB are 0.863715 (0.022503) with: {'max_features': 1, 'loss': 'deviance', 'min_samples_split': 1, 'n_estimators': 400}\n",
      "results from scaled GB are 0.860243 (0.026355) with: {'max_features': 1, 'loss': 'deviance', 'min_samples_split': 1, 'n_estimators': 500}\n",
      "results from scaled GB are 0.854167 (0.024892) with: {'max_features': 1, 'loss': 'deviance', 'min_samples_split': 2, 'n_estimators': 100}\n",
      "results from scaled GB are 0.855469 (0.027495) with: {'max_features': 1, 'loss': 'deviance', 'min_samples_split': 2, 'n_estimators': 200}\n",
      "results from scaled GB are 0.857205 (0.024574) with: {'max_features': 1, 'loss': 'deviance', 'min_samples_split': 2, 'n_estimators': 300}\n",
      "results from scaled GB are 0.858073 (0.025770) with: {'max_features': 1, 'loss': 'deviance', 'min_samples_split': 2, 'n_estimators': 400}\n",
      "results from scaled GB are 0.857205 (0.027177) with: {'max_features': 1, 'loss': 'deviance', 'min_samples_split': 2, 'n_estimators': 500}\n",
      "results from scaled GB are 0.861111 (0.028169) with: {'max_features': 2, 'loss': 'deviance', 'min_samples_split': 1, 'n_estimators': 100}\n",
      "results from scaled GB are 0.858941 (0.027434) with: {'max_features': 2, 'loss': 'deviance', 'min_samples_split': 1, 'n_estimators': 200}\n",
      "results from scaled GB are 0.857639 (0.027266) with: {'max_features': 2, 'loss': 'deviance', 'min_samples_split': 1, 'n_estimators': 300}\n",
      "results from scaled GB are 0.861111 (0.024597) with: {'max_features': 2, 'loss': 'deviance', 'min_samples_split': 1, 'n_estimators': 400}\n",
      "results from scaled GB are 0.859375 (0.021232) with: {'max_features': 2, 'loss': 'deviance', 'min_samples_split': 1, 'n_estimators': 500}\n",
      "results from scaled GB are 0.858073 (0.027219) with: {'max_features': 2, 'loss': 'deviance', 'min_samples_split': 2, 'n_estimators': 100}\n",
      "results from scaled GB are 0.856337 (0.026826) with: {'max_features': 2, 'loss': 'deviance', 'min_samples_split': 2, 'n_estimators': 200}\n",
      "results from scaled GB are 0.858941 (0.024264) with: {'max_features': 2, 'loss': 'deviance', 'min_samples_split': 2, 'n_estimators': 300}\n",
      "results from scaled GB are 0.856337 (0.024037) with: {'max_features': 2, 'loss': 'deviance', 'min_samples_split': 2, 'n_estimators': 400}\n",
      "results from scaled GB are 0.855903 (0.023106) with: {'max_features': 2, 'loss': 'deviance', 'min_samples_split': 2, 'n_estimators': 500}\n"
     ]
    }
   ],
   "source": [
    "# the following parameters are scanned.\n",
    "loss_values = ['deviance', 'exponential','deviance']\n",
    "n_estimators_value = [100, 200, 300, 400, 500]\n",
    "min_samples_split_value = [1, 2]\n",
    "max_features_value = [1, 2]\n",
    "\n",
    "param_grid = dict(loss = loss_values, n_estimators = n_estimators_value,\n",
    "                  min_samples_split = min_samples_split_value, max_features = max_features_value)\n",
    "model = GradientBoostingClassifier()\n",
    "kfold = KFold(n_splits = num_folds, random_state = seed)\n",
    "\n",
    "# Grid search\n",
    "grid = GridSearchCV(estimator = model, param_grid = param_grid, scoring = 'accuracy', cv = kfold)\n",
    "grid_result = grid.fit(rescaledX, Y_train)\n",
    "print(\"Best: %f using %s\" %(grid_result.best_score_, grid_result.best_params_))\n",
    "\n",
    "# output results\n",
    "means = grid_result.cv_results_['mean_test_score']\n",
    "stds = grid_result.cv_results_['std_test_score']\n",
    "params = grid_result.cv_results_['params']\n",
    "for mean, stdev, param in zip(means, stds, params):\n",
    "    print(\"results from scaled GB are %f (%f) with: %r\" % (mean, stdev, param))"
   ]
  },
  {
   "cell_type": "markdown",
   "metadata": {},
   "source": [
    "So far we figured out the model with the highest cross validation accuracy is gradient boosting(0.863715). Let's finalize the model and make predictions on the test dataset."
   ]
  },
  {
   "cell_type": "code",
   "execution_count": 22,
   "metadata": {
    "collapsed": false
   },
   "outputs": [
    {
     "data": {
      "text/plain": [
       "GradientBoostingClassifier(criterion='friedman_mse', init=None,\n",
       "              learning_rate=0.1, loss='deviance', max_depth=3,\n",
       "              max_features=1, max_leaf_nodes=None,\n",
       "              min_impurity_split=1e-07, min_samples_leaf=1,\n",
       "              min_samples_split=1, min_weight_fraction_leaf=0.0,\n",
       "              n_estimators=400, presort='auto', random_state=None,\n",
       "              subsample=1.0, verbose=0, warm_start=False)"
      ]
     },
     "execution_count": 22,
     "metadata": {},
     "output_type": "execute_result"
    }
   ],
   "source": [
    "model = GradientBoostingClassifier(loss = 'deviance', max_features = 1, n_estimators = 400, min_samples_split = 1)\n",
    "model.fit(rescaledX, Y_train)"
   ]
  },
  {
   "cell_type": "markdown",
   "metadata": {},
   "source": [
    "Let's estimate the accuracy on the test dataset."
   ]
  },
  {
   "cell_type": "code",
   "execution_count": 23,
   "metadata": {
    "collapsed": false
   },
   "outputs": [
    {
     "name": "stdout",
     "output_type": "stream",
     "text": [
      "Prediction Accuracy is:  0.819444444444\n"
     ]
    }
   ],
   "source": [
    "rescaledX_validation = scaler.transform(X_test)\n",
    "predictions = model.predict(X_test).astype(int)\n",
    "predict_accuracy = accuracy_score(Y_test, predictions)\n",
    "print('Prediction Accuracy is: ', predict_accuracy)"
   ]
  },
  {
   "cell_type": "markdown",
   "metadata": {},
   "source": [
    "### XGBoost\n",
    "\n",
    "As a go-to algorithm, XGBoost is famous for its performance. Let's give it a try here as an initial effor to gain higher prediction accuracy.\n"
   ]
  },
  {
   "cell_type": "code",
   "execution_count": 27,
   "metadata": {
    "collapsed": false
   },
   "outputs": [
    {
     "name": "stdout",
     "output_type": "stream",
     "text": [
      "[0]\tvalidation_0-error:0.157986\n",
      "Will train until validation_0-error hasn't improved in 10 rounds.\n",
      "[1]\tvalidation_0-error:0.159722\n",
      "[2]\tvalidation_0-error:0.159722\n",
      "[3]\tvalidation_0-error:0.159722\n",
      "[4]\tvalidation_0-error:0.159722\n",
      "[5]\tvalidation_0-error:0.159722\n",
      "[6]\tvalidation_0-error:0.159722\n",
      "[7]\tvalidation_0-error:0.159722\n",
      "[8]\tvalidation_0-error:0.159722\n",
      "[9]\tvalidation_0-error:0.159722\n",
      "[10]\tvalidation_0-error:0.159722\n",
      "Stopping. Best iteration:\n",
      "[0]\tvalidation_0-error:0.157986\n",
      "\n",
      "Accuracy: 84.38%\n"
     ]
    }
   ],
   "source": [
    "from xgboost import XGBClassifier\n",
    "from xgboost import plot_importance\n",
    "\n",
    "# fit model no training data\n",
    "model = XGBClassifier()\n",
    "\n",
    "# monitor performance and early termination\n",
    "eval_set = [(X_test, Y_test)]\n",
    "model.fit(X_train, Y_train, early_stopping_rounds = 10, eval_metric = \"error\", eval_set = eval_set, verbose = True)\n",
    "\n",
    "# use error evaluation to stop training once no further improvements have been made to the model.\n",
    "model.fit(X_train, Y_train)\n",
    "\n",
    "# make predictions for test data\n",
    "y_pred = model.predict(X_test)\n",
    "predictions = [round(value) for value in y_pred]\n",
    "\n",
    "# evaluate predictions\n",
    "accuracy = accuracy_score(Y_test, predictions)\n",
    "print(\"Accuracy: %.2f%%\"%(accuracy*100.0))"
   ]
  },
  {
   "cell_type": "markdown",
   "metadata": {},
   "source": [
    "Here XGBoost gives slightly higher  prediction accuracy than Gradient Boost (84.38% vs 81.94%), which is expected. This slight improvement also proves that results from gradient boost is decent enough. Given that our data only have 2880 entries, we are pretty satisfied with this prediction accuracy. While further feature engineering may give us higher prediction accuracy, we won't pursue more at this point. \n",
    "\n",
    "Next, let's output important features for this machine learning algorithm."
   ]
  },
  {
   "cell_type": "code",
   "execution_count": 28,
   "metadata": {
    "collapsed": false
   },
   "outputs": [
    {
     "name": "stdout",
     "output_type": "stream",
     "text": [
      "[ 0.14626391  0.16216215  0.06677265  0.0699523   0.0699523   0.14626391\n",
      "  0.14308426  0.0763116   0.11923689]\n"
     ]
    },
    {
     "data": {
      "image/png": "[encoded data removed]",
      "text/plain": [
       "<matplotlib.figure.Figure at 0x1f177df7c88>"
      ]
     },
     "metadata": {},
     "output_type": "display_data"
    }
   ],
   "source": [
    "print(model.feature_importances_)\n",
    "\n",
    "plot_importance(model)\n",
    "plt.show()"
   ]
  },
  {
   "cell_type": "markdown",
   "metadata": {
    "collapsed": true
   },
   "source": [
    "The above results show the four most important feature responsible for the fail or success of the oligonucleotide synthesis:\n",
    "  -  GC content (GC_norm)\n",
    "  -  haripin percentage (hairpin_norm)\n",
    "  -  length (length)\n",
    "  -  bulge percentage (bulge_norm)\n",
    "\n",
    "This is slightly different from the features correlated with the failed synthesis from the statistical analysis: \n",
    "  - length (length)\n",
    "  - miminum free energy (mfe)\n",
    "  - paired group\n",
    "  - paired GC group\n",
    "    \n",
    "These difference comes from 1) correlation doesn't mean causation 2) our statistical analysis is based on absolute value while\n",
    "our machine learning is based on normalized value. Here machine learning gave us more reliable results.\n",
    "Let's plot the four features identified via machine learning using normalized data."
   ]
  },
  {
   "cell_type": "code",
   "execution_count": 30,
   "metadata": {
    "collapsed": false
   },
   "outputs": [
    {
     "data": {
      "image/png": "[encoded data removed]",
      "text/plain": [
       "<matplotlib.figure.Figure at 0x1f1781b9908>"
      ]
     },
     "metadata": {},
     "output_type": "display_data"
    },
    {
     "data": {
      "image/png": "[encoded data removed]",
      "text/plain": [
       "<matplotlib.figure.Figure at 0x1f177f7bfd0>"
      ]
     },
     "metadata": {},
     "output_type": "display_data"
    },
    {
     "data": {
      "image/png": "[encoded data removed]",
      "text/plain": [
       "<matplotlib.figure.Figure at 0x1f177f76ba8>"
      ]
     },
     "metadata": {},
     "output_type": "display_data"
    },
    {
     "data": {
      "image/png": "[encoded data removed]",
      "text/plain": [
       "<matplotlib.figure.Figure at 0x1f178442b38>"
      ]
     },
     "metadata": {},
     "output_type": "display_data"
    }
   ],
   "source": [
    "def plot_var_norm(name):\n",
    "    plt.hist(train.loc[train.success == 1, name], bins = 50, color = 'b', normed = True, alpha = 0.5, log = False, \n",
    "             label = 'Succeed, 1')\n",
    "    plt.hist(train.loc[train.success == 0, name], bins = 50, color = 'r', normed = True, alpha = 0.5, log = False,\n",
    "             label = 'Fail, 0')\n",
    "    plt.legend()\n",
    "    plt.xlabel(name)\n",
    "    plt.ylabel('Number%')\n",
    "    plt.show()\n",
    "    \n",
    "# add the 'success' column\n",
    "train['success'] = Y\n",
    "\n",
    "plot_var_norm('GC_norm')\n",
    "plot_var_norm('hairpin_norm')\n",
    "plot_var_norm('length')\n",
    "plot_var_norm('bulge_norm')"
   ]
  },
  {
   "cell_type": "markdown",
   "metadata": {},
   "source": [
    "Conclusions drawn from the above histograph is:\n",
    "Oligonucleotides with higher GC content, lower hairpin content, longer length are more likely to fail in the synthesis. The bulge percentage alone does not give indication on whether the synthesis is likely to fail or succeed. It probably works together with other features. We will ignore it now for simplicity."
   ]
  },
  {
   "cell_type": "markdown",
   "metadata": {},
   "source": [
    "### Summary"
   ]
  },
  {
   "cell_type": "markdown",
   "metadata": {},
   "source": [
    "Here, we've build a XGBoost machine learning model which give us a prediction accuracy of 84.38% of the synthesis outcome (fail \n",
    "or success) for any input oligonucleotide. \n",
    "\n",
    "We figured out the three most important features responsible for the fail or success of the oligonucleotide synthesis are:\n",
    "  -  GC content (GC_norm)\n",
    "  -  haripin percentage (hairpin_norm)\n",
    "  -  length (length)\n",
    "\n",
    "Oligonucleotides with higher GC content, lower hairpin content, longer length ( ~ 820 is likely to be the threshold) are more \n",
    "likely to fail in the synthesis.\n",
    "\n",
    "In order to increase the success rate of the oligonucleotide synthesis, the researchers need to try to:\n",
    "    - 1) reduce the percentage of G, C bases, replace G, C with A, T bases if possible.\n",
    "    - 2) slightly increase the hairpin content if possible\n",
    "    - 3) decrease the length to below 820 base pair if possible. "
   ]
  },
  {
   "cell_type": "code",
   "execution_count": null,
   "metadata": {
    "collapsed": true
   },
   "outputs": [],
   "source": []
  }
 ],
 "metadata": {
  "kernelspec": {
   "display_name": "Python 3",
   "language": "python",
   "name": "python3"
  },
  "language_info": {
   "codemirror_mode": {
    "name": "ipython",
    "version": 3
   },
   "file_extension": ".py",
   "mimetype": "text/x-python",
   "name": "python",
   "nbconvert_exporter": "python",
   "pygments_lexer": "ipython3",
   "version": "3.5.2"
  }
 },
 "nbformat": 4,
 "nbformat_minor": 0
}
