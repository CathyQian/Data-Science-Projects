{
 "cells": [
  {
   "cell_type": "markdown",
   "metadata": {},
   "source": [
    "The goal of the following work is to use machine learning to figure out key indicators to tell whether a signed_up driver will\n",
    "complete their first trip and make suggestions to increase the completion rate of the signed_up drivers.\n",
    "\n",
    "Please see TApp_StatisticalAnalysis.ipynb for statistical analysis of the data and correlation relationship between different features and whether the drivers completed their first trip or not within 30 days."
   ]
  },
  {
   "cell_type": "markdown",
   "metadata": {},
   "source": [
    "### Import Data\n",
    "The imported data is the exported data from TApp_StatisticalAnalysis.ipynb."
   ]
  },
  {
   "cell_type": "code",
   "execution_count": 1,
   "metadata": {
    "collapsed": true
   },
   "outputs": [],
   "source": [
    "import pandas as pd\n",
    "import numpy as np\n",
    "import matplotlib.pyplot as plt\n",
    "from sklearn.model_selection import train_test_split\n",
    "from sklearn.tree import DecisionTreeClassifier\n",
    "from sklearn.model_selection import GridSearchCV\n",
    "from sklearn.metrics import accuracy_score\n",
    "\n",
    "%matplotlib inline"
   ]
  },
  {
   "cell_type": "code",
   "execution_count": 2,
   "metadata": {
    "collapsed": false
   },
   "outputs": [],
   "source": [
    "data = pd.read_csv('analyzed_data.csv')"
   ]
  },
  {
   "cell_type": "code",
   "execution_count": 3,
   "metadata": {
    "collapsed": false
   },
   "outputs": [
    {
     "data": {
      "text/html": [
       "<div>\n",
       "<table border=\"1\" class=\"dataframe\">\n",
       "  <thead>\n",
       "    <tr style=\"text-align: right;\">\n",
       "      <th></th>\n",
       "      <th>Unnamed: 0</th>\n",
       "      <th>vehicle_year</th>\n",
       "      <th>city</th>\n",
       "      <th>os</th>\n",
       "      <th>channel</th>\n",
       "      <th>signup_bgc</th>\n",
       "      <th>signup_vehicle_added</th>\n",
       "      <th>signup_first_completed</th>\n",
       "      <th>bgc_vehicle_added</th>\n",
       "      <th>completed</th>\n",
       "    </tr>\n",
       "  </thead>\n",
       "  <tbody>\n",
       "    <tr>\n",
       "      <th>0</th>\n",
       "      <td>0</td>\n",
       "      <td>NaN</td>\n",
       "      <td>1</td>\n",
       "      <td>1.0</td>\n",
       "      <td>1</td>\n",
       "      <td>NaN</td>\n",
       "      <td>NaN</td>\n",
       "      <td>NaN</td>\n",
       "      <td>NaN</td>\n",
       "      <td>0</td>\n",
       "    </tr>\n",
       "    <tr>\n",
       "      <th>1</th>\n",
       "      <td>1</td>\n",
       "      <td>NaN</td>\n",
       "      <td>1</td>\n",
       "      <td>3.0</td>\n",
       "      <td>1</td>\n",
       "      <td>NaN</td>\n",
       "      <td>NaN</td>\n",
       "      <td>NaN</td>\n",
       "      <td>NaN</td>\n",
       "      <td>0</td>\n",
       "    </tr>\n",
       "    <tr>\n",
       "      <th>2</th>\n",
       "      <td>2</td>\n",
       "      <td>NaN</td>\n",
       "      <td>3</td>\n",
       "      <td>3.0</td>\n",
       "      <td>2</td>\n",
       "      <td>0.0</td>\n",
       "      <td>NaN</td>\n",
       "      <td>NaN</td>\n",
       "      <td>NaN</td>\n",
       "      <td>0</td>\n",
       "    </tr>\n",
       "    <tr>\n",
       "      <th>3</th>\n",
       "      <td>3</td>\n",
       "      <td>2016.0</td>\n",
       "      <td>2</td>\n",
       "      <td>2.0</td>\n",
       "      <td>3</td>\n",
       "      <td>5.0</td>\n",
       "      <td>5.0</td>\n",
       "      <td>5.0</td>\n",
       "      <td>0.0</td>\n",
       "      <td>1</td>\n",
       "    </tr>\n",
       "    <tr>\n",
       "      <th>4</th>\n",
       "      <td>4</td>\n",
       "      <td>2016.0</td>\n",
       "      <td>1</td>\n",
       "      <td>2.0</td>\n",
       "      <td>3</td>\n",
       "      <td>15.0</td>\n",
       "      <td>16.0</td>\n",
       "      <td>NaN</td>\n",
       "      <td>1.0</td>\n",
       "      <td>0</td>\n",
       "    </tr>\n",
       "  </tbody>\n",
       "</table>\n",
       "</div>"
      ],
      "text/plain": [
       "   Unnamed: 0  vehicle_year  city   os  channel  signup_bgc  \\\n",
       "0           0           NaN     1  1.0        1         NaN   \n",
       "1           1           NaN     1  3.0        1         NaN   \n",
       "2           2           NaN     3  3.0        2         0.0   \n",
       "3           3        2016.0     2  2.0        3         5.0   \n",
       "4           4        2016.0     1  2.0        3        15.0   \n",
       "\n",
       "   signup_vehicle_added  signup_first_completed  bgc_vehicle_added  completed  \n",
       "0                   NaN                     NaN                NaN          0  \n",
       "1                   NaN                     NaN                NaN          0  \n",
       "2                   NaN                     NaN                NaN          0  \n",
       "3                   5.0                     5.0                0.0          1  \n",
       "4                  16.0                     NaN                1.0          0  "
      ]
     },
     "execution_count": 3,
     "metadata": {},
     "output_type": "execute_result"
    }
   ],
   "source": [
    "data.head(5)"
   ]
  },
  {
   "cell_type": "markdown",
   "metadata": {},
   "source": [
    "Drop the index column and other two columns which won't be used in the following machine learning algorithms."
   ]
  },
  {
   "cell_type": "code",
   "execution_count": 4,
   "metadata": {
    "collapsed": false
   },
   "outputs": [],
   "source": [
    "data = data.drop(['Unnamed: 0', 'signup_first_completed', 'bgc_vehicle_added'], axis = 1)"
   ]
  },
  {
   "cell_type": "markdown",
   "metadata": {},
   "source": [
    "Map os missing values into categorical value"
   ]
  },
  {
   "cell_type": "code",
   "execution_count": 5,
   "metadata": {
    "collapsed": false
   },
   "outputs": [],
   "source": [
    "data['os'] = data['os'].fillna(6) "
   ]
  },
  {
   "cell_type": "markdown",
   "metadata": {},
   "source": [
    "Map vehicle_year, signup_bgc, signup_vehicle_added into categorical value 0 or 1"
   ]
  },
  {
   "cell_type": "code",
   "execution_count": 6,
   "metadata": {
    "collapsed": false
   },
   "outputs": [],
   "source": [
    "data['vehicle_year'] = data['vehicle_year'].map(lambda x: 1 if x >= 0 else 0) \n",
    "data['signup_bgc'] = data['signup_bgc'].map(lambda x: 1 if x >= 0 else 0) \n",
    "data['signup_vehicle_added'] = data['signup_vehicle_added'].map(lambda x: 1 if x >= 0 else 0) "
   ]
  },
  {
   "cell_type": "code",
   "execution_count": 7,
   "metadata": {
    "collapsed": false
   },
   "outputs": [
    {
     "name": "stdout",
     "output_type": "stream",
     "text": [
      "<class 'pandas.core.frame.DataFrame'>\n",
      "RangeIndex: 54681 entries, 0 to 54680\n",
      "Data columns (total 7 columns):\n",
      "vehicle_year            54681 non-null int64\n",
      "city                    54681 non-null int64\n",
      "os                      54681 non-null float64\n",
      "channel                 54681 non-null int64\n",
      "signup_bgc              54681 non-null int64\n",
      "signup_vehicle_added    54681 non-null int64\n",
      "completed               54681 non-null int64\n",
      "dtypes: float64(1), int64(6)\n",
      "memory usage: 2.9 MB\n"
     ]
    }
   ],
   "source": [
    "data.info()"
   ]
  },
  {
   "cell_type": "markdown",
   "metadata": {},
   "source": [
    "### Convert categorical variables into dummy/indicator variables"
   ]
  },
  {
   "cell_type": "code",
   "execution_count": 8,
   "metadata": {
    "collapsed": false
   },
   "outputs": [],
   "source": [
    "def process_dummies(name, newname):\n",
    "    global data\n",
    "    newname = pd.get_dummies(data[name], prefix=name)\n",
    "    data = pd.concat([data,newname], axis=1)\n",
    "    data.drop(name, axis=1, inplace=True)\n",
    "    "
   ]
  },
  {
   "cell_type": "code",
   "execution_count": 9,
   "metadata": {
    "collapsed": false
   },
   "outputs": [],
   "source": [
    "process_dummies('os', 'new_os')\n",
    "process_dummies('city', 'new_city')\n",
    "process_dummies('channel', 'new_channel')"
   ]
  },
  {
   "cell_type": "code",
   "execution_count": 10,
   "metadata": {
    "collapsed": false
   },
   "outputs": [
    {
     "data": {
      "text/html": [
       "<div>\n",
       "<table border=\"1\" class=\"dataframe\">\n",
       "  <thead>\n",
       "    <tr style=\"text-align: right;\">\n",
       "      <th></th>\n",
       "      <th>vehicle_year</th>\n",
       "      <th>signup_bgc</th>\n",
       "      <th>signup_vehicle_added</th>\n",
       "      <th>completed</th>\n",
       "      <th>os_1.0</th>\n",
       "      <th>os_2.0</th>\n",
       "      <th>os_3.0</th>\n",
       "      <th>os_4.0</th>\n",
       "      <th>os_5.0</th>\n",
       "      <th>os_6.0</th>\n",
       "      <th>city_1</th>\n",
       "      <th>city_2</th>\n",
       "      <th>city_3</th>\n",
       "      <th>channel_1</th>\n",
       "      <th>channel_2</th>\n",
       "      <th>channel_3</th>\n",
       "    </tr>\n",
       "  </thead>\n",
       "  <tbody>\n",
       "    <tr>\n",
       "      <th>0</th>\n",
       "      <td>0</td>\n",
       "      <td>0</td>\n",
       "      <td>0</td>\n",
       "      <td>0</td>\n",
       "      <td>1</td>\n",
       "      <td>0</td>\n",
       "      <td>0</td>\n",
       "      <td>0</td>\n",
       "      <td>0</td>\n",
       "      <td>0</td>\n",
       "      <td>1</td>\n",
       "      <td>0</td>\n",
       "      <td>0</td>\n",
       "      <td>1</td>\n",
       "      <td>0</td>\n",
       "      <td>0</td>\n",
       "    </tr>\n",
       "    <tr>\n",
       "      <th>1</th>\n",
       "      <td>0</td>\n",
       "      <td>0</td>\n",
       "      <td>0</td>\n",
       "      <td>0</td>\n",
       "      <td>0</td>\n",
       "      <td>0</td>\n",
       "      <td>1</td>\n",
       "      <td>0</td>\n",
       "      <td>0</td>\n",
       "      <td>0</td>\n",
       "      <td>1</td>\n",
       "      <td>0</td>\n",
       "      <td>0</td>\n",
       "      <td>1</td>\n",
       "      <td>0</td>\n",
       "      <td>0</td>\n",
       "    </tr>\n",
       "    <tr>\n",
       "      <th>2</th>\n",
       "      <td>0</td>\n",
       "      <td>1</td>\n",
       "      <td>0</td>\n",
       "      <td>0</td>\n",
       "      <td>0</td>\n",
       "      <td>0</td>\n",
       "      <td>1</td>\n",
       "      <td>0</td>\n",
       "      <td>0</td>\n",
       "      <td>0</td>\n",
       "      <td>0</td>\n",
       "      <td>0</td>\n",
       "      <td>1</td>\n",
       "      <td>0</td>\n",
       "      <td>1</td>\n",
       "      <td>0</td>\n",
       "    </tr>\n",
       "    <tr>\n",
       "      <th>3</th>\n",
       "      <td>1</td>\n",
       "      <td>1</td>\n",
       "      <td>1</td>\n",
       "      <td>1</td>\n",
       "      <td>0</td>\n",
       "      <td>1</td>\n",
       "      <td>0</td>\n",
       "      <td>0</td>\n",
       "      <td>0</td>\n",
       "      <td>0</td>\n",
       "      <td>0</td>\n",
       "      <td>1</td>\n",
       "      <td>0</td>\n",
       "      <td>0</td>\n",
       "      <td>0</td>\n",
       "      <td>1</td>\n",
       "    </tr>\n",
       "    <tr>\n",
       "      <th>4</th>\n",
       "      <td>1</td>\n",
       "      <td>1</td>\n",
       "      <td>1</td>\n",
       "      <td>0</td>\n",
       "      <td>0</td>\n",
       "      <td>1</td>\n",
       "      <td>0</td>\n",
       "      <td>0</td>\n",
       "      <td>0</td>\n",
       "      <td>0</td>\n",
       "      <td>1</td>\n",
       "      <td>0</td>\n",
       "      <td>0</td>\n",
       "      <td>0</td>\n",
       "      <td>0</td>\n",
       "      <td>1</td>\n",
       "    </tr>\n",
       "  </tbody>\n",
       "</table>\n",
       "</div>"
      ],
      "text/plain": [
       "   vehicle_year  signup_bgc  signup_vehicle_added  completed  os_1.0  os_2.0  \\\n",
       "0             0           0                     0          0       1       0   \n",
       "1             0           0                     0          0       0       0   \n",
       "2             0           1                     0          0       0       0   \n",
       "3             1           1                     1          1       0       1   \n",
       "4             1           1                     1          0       0       1   \n",
       "\n",
       "   os_3.0  os_4.0  os_5.0  os_6.0  city_1  city_2  city_3  channel_1  \\\n",
       "0       0       0       0       0       1       0       0          1   \n",
       "1       1       0       0       0       1       0       0          1   \n",
       "2       1       0       0       0       0       0       1          0   \n",
       "3       0       0       0       0       0       1       0          0   \n",
       "4       0       0       0       0       1       0       0          0   \n",
       "\n",
       "   channel_2  channel_3  \n",
       "0          0          0  \n",
       "1          0          0  \n",
       "2          1          0  \n",
       "3          0          1  \n",
       "4          0          1  "
      ]
     },
     "execution_count": 10,
     "metadata": {},
     "output_type": "execute_result"
    }
   ],
   "source": [
    "data.head(5)"
   ]
  },
  {
   "cell_type": "markdown",
   "metadata": {},
   "source": [
    "### Correlation Matrix of all columns in the dataset.\n",
    "Result here will be compared with the following machine learning results."
   ]
  },
  {
   "cell_type": "code",
   "execution_count": 11,
   "metadata": {
    "collapsed": false
   },
   "outputs": [
    {
     "data": {
      "image/png": "[encoded data removed]",
      "text/plain": [
       "<matplotlib.figure.Figure at 0x2590e8938d0>"
      ]
     },
     "metadata": {},
     "output_type": "display_data"
    }
   ],
   "source": [
    "fig = plt.figure()\n",
    "# subplot grid parameters encoded as a single integer.\n",
    "# For example, \"111\" means \"1x1 grid, first subplot\" and \"234\" means \"2x3 grid, 4th subplot\".\n",
    "# Alternative form for add_subplot(111) is add_subplot(1, 1, 1).\n",
    "ax = fig.add_subplot(111)  \n",
    "cax = ax.matshow(data.corr(), vmin = -1, vmax = 1, interpolation = 'none')\n",
    "fig.colorbar(cax)\n",
    "plt.show()"
   ]
  },
  {
   "cell_type": "markdown",
   "metadata": {},
   "source": [
    "It's obvious that the 'completed' column is closedly related to the first three columns: 'vehicle_year', 'signup_bgc'\n",
    "and 'signup_vehicle_added'. But correlation doesn't necessarily mean causation. Let's figure out causation using machine learning."
   ]
  },
  {
   "cell_type": "markdown",
   "metadata": {},
   "source": [
    "### Test/Train Data Split"
   ]
  },
  {
   "cell_type": "code",
   "execution_count": 12,
   "metadata": {
    "collapsed": true
   },
   "outputs": [],
   "source": [
    "y = data['completed']\n",
    "data = data.drop(['completed'], axis = 1)\n",
    "x = data.values\n",
    "\n",
    "train_x, test_x, train_y, test_y = train_test_split(x, y, test_size = 0.3, random_state = 7)"
   ]
  },
  {
   "cell_type": "markdown",
   "metadata": {},
   "source": [
    "### Decision Trees\n",
    "Previous experience tells me that decision trees model is a good try to start with."
   ]
  },
  {
   "cell_type": "code",
   "execution_count": 13,
   "metadata": {
    "collapsed": false
   },
   "outputs": [
    {
     "name": "stdout",
     "output_type": "stream",
     "text": [
      "Fitting 10 folds for each of 6 candidates, totalling 60 fits\n",
      "This is score:  mean: -0.19203, std: 0.01440, params: {'max_features': 1, 'criterion': 'entropy'}\n",
      "This is score:  mean: -0.19298, std: 0.01547, params: {'max_features': 2, 'criterion': 'entropy'}\n",
      "This is score:  mean: -0.19380, std: 0.01451, params: {'max_features': 3, 'criterion': 'entropy'}\n",
      "This is score:  mean: -0.19203, std: 0.01440, params: {'max_features': 1, 'criterion': 'gini'}\n",
      "This is score:  mean: -0.19298, std: 0.01547, params: {'max_features': 2, 'criterion': 'gini'}\n",
      "This is score:  mean: -0.19200, std: 0.01439, params: {'max_features': 3, 'criterion': 'gini'}\n",
      "This is test accuracy:  0.894483389211\n"
     ]
    },
    {
     "name": "stderr",
     "output_type": "stream",
     "text": [
      "[Parallel(n_jobs=1)]: Done  60 out of  60 | elapsed:    3.0s finished\n",
      "C:\\Users\\Administrator\\Anaconda3\\lib\\site-packages\\sklearn\\model_selection\\_search.py:662: DeprecationWarning: The grid_scores_ attribute was deprecated in version 0.18 in favor of the more elaborate cv_results_ attribute. The grid_scores_ attribute will not be available from 0.20\n",
      "  DeprecationWarning)\n"
     ]
    }
   ],
   "source": [
    "parameter = {'criterion':['entropy', 'gini'],'max_features':[1, 2, 3]} \n",
    "\n",
    "clf = DecisionTreeClassifier(random_state = 7)\n",
    "grid_search = GridSearchCV(estimator=clf, param_grid=parameter,scoring ='neg_log_loss', verbose=1, cv=10)\n",
    "grid_search.fit(train_x, train_y)\n",
    "for score in grid_search.grid_scores_:\n",
    "    print('This is score: ', score)\n",
    "\n",
    "output = grid_search.predict(test_x)\n",
    "testaccuracy = accuracy_score(test_y, output)\n",
    "print('This is test accuracy: ', testaccuracy)  "
   ]
  },
  {
   "cell_type": "markdown",
   "metadata": {},
   "source": [
    "#### Get importance of features in the decision tree classifier. \n",
    "The higher the value, the more important the feature. The importance of a feature is computed as the (normalized) total reduction of the criterion brought by that feature. It is also known as the Gini importance. \n",
    "\n",
    "Every time a split of a node is made on variable m the gini impurity criterion for the two descendent nodes is less than the \n",
    "parent node. Adding up the gini decreases for each individual variable over all trees in the forest gives a fast variable \n",
    "importance which is called Gini importance."
   ]
  },
  {
   "cell_type": "code",
   "execution_count": 14,
   "metadata": {
    "collapsed": false
   },
   "outputs": [
    {
     "data": {
      "text/plain": [
       "array([ 0.827499  ,  0.02896395,  0.03902152,  0.00430091,  0.00424533,\n",
       "        0.00196494,  0.00295934,  0.00090243,  0.01816635,  0.0016459 ,\n",
       "        0.00361833,  0.00091046,  0.04868431,  0.01083682,  0.00628041])"
      ]
     },
     "execution_count": 14,
     "metadata": {},
     "output_type": "execute_result"
    }
   ],
   "source": [
    "grid_search.best_estimator_.feature_importances_"
   ]
  },
  {
   "cell_type": "markdown",
   "metadata": {},
   "source": [
    "The top four most important features are vehicle_year(0.827499), channel_1 (0.04868431), signup_vehicle_added (0.03902152), signup_bgc(0.02896395). These results are in good agreement with the correlation map shown above.\n",
    "\n",
    "This method gives a prediction accuracy on the test data of 89.4%, which is quite decent. Let's try two other ensemble methods such as Random Forest or XGBoosting to see whether we can get more accurate prediction on 'completion' or not."
   ]
  },
  {
   "cell_type": "markdown",
   "metadata": {},
   "source": [
    "### Random Forest Model\n",
    "Ensemble method based on decision trees. It usually perform better than single decision tree."
   ]
  },
  {
   "cell_type": "code",
   "execution_count": 15,
   "metadata": {
    "collapsed": false
   },
   "outputs": [
    {
     "name": "stdout",
     "output_type": "stream",
     "text": [
      "Fitting 20 folds for each of 6 candidates, totalling 120 fits\n"
     ]
    },
    {
     "name": "stderr",
     "output_type": "stream",
     "text": [
      "[Parallel(n_jobs=1)]: Done 120 out of 120 | elapsed:  1.8min finished\n"
     ]
    },
    {
     "name": "stdout",
     "output_type": "stream",
     "text": [
      "Fitting 20 folds for each of 6 candidates, totalling 120 fits\n"
     ]
    },
    {
     "name": "stderr",
     "output_type": "stream",
     "text": [
      "[Parallel(n_jobs=1)]: Done 120 out of 120 | elapsed:  3.3min finished\n"
     ]
    },
    {
     "name": "stdout",
     "output_type": "stream",
     "text": [
      "Fitting 20 folds for each of 6 candidates, totalling 120 fits\n"
     ]
    },
    {
     "name": "stderr",
     "output_type": "stream",
     "text": [
      "[Parallel(n_jobs=1)]: Done 120 out of 120 | elapsed:  5.0min finished\n"
     ]
    },
    {
     "name": "stdout",
     "output_type": "stream",
     "text": [
      "This is testaccuracy: [0.89399573300822921, 0.89448338921060655, 0.89448338921060655]\n",
      "This is logloss: [-0.18729838425259235, -0.18725671585539175, -0.18728364787719037]\n"
     ]
    }
   ],
   "source": [
    "from sklearn.ensemble import RandomForestClassifier\n",
    "N = [50, 100, 150]\n",
    "testaccuracy = []\n",
    "logloss = []\n",
    "best_parameters = []\n",
    "for i in range(len(N)):\n",
    "    parameter = {'criterion':['entropy', 'gini'],'max_features':[1, 2, 3]}\n",
    "    clf = RandomForestClassifier(n_estimators = N[i])\n",
    "    grid_search = GridSearchCV(estimator=clf, param_grid=parameter, \n",
    "                                     scoring ='neg_log_loss', verbose=1, cv=20) \n",
    "    grid_search.fit(train_x, train_y)\n",
    "\n",
    "    output3 = grid_search.predict(test_x)\n",
    "    testaccuracy.append(accuracy_score(test_y, output3))\n",
    "    logloss.append(grid_search.best_score_)\n",
    "    best_parameters.append( grid_search.best_params_ )\n",
    "\n",
    "print(\"This is testaccuracy:\", testaccuracy)\n",
    "print(\"This is logloss:\", logloss)"
   ]
  },
  {
   "cell_type": "code",
   "execution_count": 16,
   "metadata": {
    "collapsed": false
   },
   "outputs": [
    {
     "data": {
      "text/plain": [
       "array([ 0.38312701,  0.10980233,  0.42470125,  0.00287724,  0.00365527,\n",
       "        0.00315925,  0.00385645,  0.00188086,  0.01856516,  0.00285487,\n",
       "        0.00279751,  0.00253751,  0.01352184,  0.00532578,  0.02133766])"
      ]
     },
     "execution_count": 16,
     "metadata": {},
     "output_type": "execute_result"
    }
   ],
   "source": [
    "grid_search.best_estimator_.feature_importances_"
   ]
  },
  {
   "cell_type": "markdown",
   "metadata": {},
   "source": [
    "Random Forest classifier offers similar prediction accuracy (89.4%) as decision tree classifier.\n",
    "\n",
    "It provides the top four important features: vehicle_year(0.41581213), signup_vehicle_added (0.40078183), signup_bgc (0.08047989), channel_3(0.03332108). This is in good agreement with results from decision trees algorithm."
   ]
  },
  {
   "cell_type": "markdown",
   "metadata": {},
   "source": [
    "### XGBoost"
   ]
  },
  {
   "cell_type": "code",
   "execution_count": 17,
   "metadata": {
    "collapsed": false
   },
   "outputs": [
    {
     "name": "stdout",
     "output_type": "stream",
     "text": [
      "[0]\tvalidation_0-error:0.108321\n",
      "Will train until validation_0-error hasn't improved in 10 rounds.\n",
      "[1]\tvalidation_0-error:0.108321\n",
      "[2]\tvalidation_0-error:0.108321\n",
      "[3]\tvalidation_0-error:0.105578\n",
      "[4]\tvalidation_0-error:0.105578\n",
      "[5]\tvalidation_0-error:0.105578\n",
      "[6]\tvalidation_0-error:0.105578\n",
      "[7]\tvalidation_0-error:0.105578\n",
      "[8]\tvalidation_0-error:0.105578\n",
      "[9]\tvalidation_0-error:0.105578\n",
      "[10]\tvalidation_0-error:0.105578\n",
      "[11]\tvalidation_0-error:0.105578\n",
      "[12]\tvalidation_0-error:0.105578\n",
      "[13]\tvalidation_0-error:0.105578\n",
      "Stopping. Best iteration:\n",
      "[3]\tvalidation_0-error:0.105578\n",
      "\n",
      "Accuracy: 89.54%\n"
     ]
    }
   ],
   "source": [
    "from xgboost import XGBClassifier\n",
    "from xgboost import plot_importance\n",
    "\n",
    "# fit model no training data\n",
    "model = XGBClassifier()\n",
    "\n",
    "# monitor performance and early termination\n",
    "eval_set = [(test_x, test_y)]\n",
    "model.fit(train_x, train_y, early_stopping_rounds = 10, eval_metric = \"error\", eval_set = eval_set, verbose = True)\n",
    "\n",
    "# use error evaluation to stop training once no further improvements have been made to the model.\n",
    "model.fit(train_x, train_y)\n",
    "\n",
    "# make predictions for test data\n",
    "y_pred = model.predict(test_x)\n",
    "predictions = [round(value) for value in y_pred]\n",
    "\n",
    "# evaluate predictions\n",
    "accuracy = accuracy_score(test_y, predictions)\n",
    "print(\"Accuracy: %.2f%%\"%(accuracy*100.0))"
   ]
  },
  {
   "cell_type": "markdown",
   "metadata": {},
   "source": [
    "XGBoost gives similar accuracy as decisiont trees and random forests models."
   ]
  },
  {
   "cell_type": "code",
   "execution_count": 18,
   "metadata": {
    "collapsed": false
   },
   "outputs": [
    {
     "name": "stdout",
     "output_type": "stream",
     "text": [
      "[ 0.10722101  0.28446388  0.05908096  0.02844639  0.0547046   0.03063457\n",
      "  0.04376367  0.02188184  0.0809628   0.03501094  0.01750547  0.03501094\n",
      "  0.09628009  0.01750547  0.08752735]\n"
     ]
    },
    {
     "data": {
      "image/png": "[encoded data removed]",
      "text/plain": [
       "<matplotlib.figure.Figure at 0x2590e7a94e0>"
      ]
     },
     "metadata": {},
     "output_type": "display_data"
    }
   ],
   "source": [
    "print(model.feature_importances_)\n",
    "plot_importance(model)\n",
    "plt.show()"
   ]
  },
  {
   "cell_type": "markdown",
   "metadata": {},
   "source": [
    "The most important features in XGBoost is signup_bgc (0.28446388), vehicle_year (0.10722101), channel_1 (0.09628009) and channel_3 (0.08752735)."
   ]
  },
  {
   "cell_type": "markdown",
   "metadata": {},
   "source": [
    "### Summary from the above three machine learning algorithms:"
   ]
  },
  {
   "cell_type": "markdown",
   "metadata": {},
   "source": [
    "- Decision trees, random forests and XGBoost gives similar prediction accuracy on the tetsting data: 89.5%. While there may be \n",
    "  still room for improving the prediction accuracy using other machine learning algorithms, we are quite satisfied with the \n",
    "  current prediction results and won't spend more time optimizing it.\n",
    "    \n",
    "- All these three models predicted that bgc, vehicle_year, vehicle_added and channel are most important features. So let's visualize these features to get a better understanding of the cause-and-effect relationship."
   ]
  },
  {
   "cell_type": "markdown",
   "metadata": {},
   "source": [
    "### Visualize key features"
   ]
  },
  {
   "cell_type": "markdown",
   "metadata": {},
   "source": [
    "Plot vehicle_year (not added: 0 or added: 1) vs completed"
   ]
  },
  {
   "cell_type": "code",
   "execution_count": 19,
   "metadata": {
    "collapsed": false
   },
   "outputs": [
    {
     "data": {
      "image/png": "[encoded data removed]",
      "text/plain": [
       "<matplotlib.figure.Figure at 0x2590e848f98>"
      ]
     },
     "metadata": {},
     "output_type": "display_data"
    }
   ],
   "source": [
    "data['completed'] = y\n",
    "plt.hist([data[data['completed'] == 0]['vehicle_year'], data[data['completed'] == 1]['vehicle_year']], stacked = True, \n",
    "         color = ['g','b'], label = ['not completed, 0', 'completed, 1'])\n",
    "plt.legend()\n",
    "plt.xlabel('vehicle year added  or not (0: unfinished, 1: finished)')\n",
    "plt.ylabel('Number')\n",
    "plt.show()"
   ]
  },
  {
   "cell_type": "code",
   "execution_count": 20,
   "metadata": {
    "collapsed": false
   },
   "outputs": [
    {
     "data": {
      "text/plain": [
       "0    41194\n",
       "1      264\n",
       "Name: completed, dtype: int64"
      ]
     },
     "execution_count": 20,
     "metadata": {},
     "output_type": "execute_result"
    }
   ],
   "source": [
    "data[data['vehicle_year'] == 0]['completed'].value_counts()"
   ]
  },
  {
   "cell_type": "code",
   "execution_count": 21,
   "metadata": {
    "collapsed": false
   },
   "outputs": [
    {
     "data": {
      "text/plain": [
       "0    7350\n",
       "1    5873\n",
       "Name: completed, dtype: int64"
      ]
     },
     "execution_count": 21,
     "metadata": {},
     "output_type": "execute_result"
    }
   ],
   "source": [
    "data[data['vehicle_year'] == 1]['completed'].value_counts()"
   ]
  },
  {
   "cell_type": "markdown",
   "metadata": {},
   "source": [
    "For signed_up drivers, only 264/(264+41194) = 0.6% of those who didn't added their vehicle year completed their first trip, \n",
    "while 5873/(5873+7350) = 44.4% of those who did completed their first trip. "
   ]
  },
  {
   "cell_type": "markdown",
   "metadata": {},
   "source": [
    "Plot signup_vehicle_added (not added: 0 or added: 1) vs completed"
   ]
  },
  {
   "cell_type": "code",
   "execution_count": 22,
   "metadata": {
    "collapsed": false
   },
   "outputs": [
    {
     "data": {
      "image/png": "[encoded data removed]",
      "text/plain": [
       "<matplotlib.figure.Figure at 0x2590e7672e8>"
      ]
     },
     "metadata": {},
     "output_type": "display_data"
    }
   ],
   "source": [
    "plt.hist([data[data['completed'] == 0]['signup_vehicle_added'], data[data['completed'] == 1]['signup_vehicle_added']], stacked = True, \n",
    "         color = ['g','b'], label = ['not completed, 0', 'completed, 1'])\n",
    "plt.legend()\n",
    "plt.xlabel('vehicle information added or not (0: not added, 1: added)')\n",
    "plt.ylabel('Number')\n",
    "plt.show()"
   ]
  },
  {
   "cell_type": "code",
   "execution_count": 23,
   "metadata": {
    "collapsed": false
   },
   "outputs": [
    {
     "data": {
      "text/plain": [
       "0    41282\n",
       "1      266\n",
       "Name: completed, dtype: int64"
      ]
     },
     "execution_count": 23,
     "metadata": {},
     "output_type": "execute_result"
    }
   ],
   "source": [
    "data[data['signup_vehicle_added'] == 0]['completed'].value_counts()"
   ]
  },
  {
   "cell_type": "code",
   "execution_count": 24,
   "metadata": {
    "collapsed": false
   },
   "outputs": [
    {
     "data": {
      "text/plain": [
       "0    7262\n",
       "1    5871\n",
       "Name: completed, dtype: int64"
      ]
     },
     "execution_count": 24,
     "metadata": {},
     "output_type": "execute_result"
    }
   ],
   "source": [
    "data[data['signup_vehicle_added'] == 1]['completed'].value_counts()"
   ]
  },
  {
   "cell_type": "markdown",
   "metadata": {},
   "source": [
    "For signed_up drivers, only 266/(266+41282) = 0.6% of those who didn't added their vehicle information completed their first trip, \n",
    "while 5871/(5871+7262) = 44.7% of those who did completed their first trip. "
   ]
  },
  {
   "cell_type": "markdown",
   "metadata": {},
   "source": [
    "Plot signup_bgc (not added: 0 or added: 1) vs completed"
   ]
  },
  {
   "cell_type": "code",
   "execution_count": 25,
   "metadata": {
    "collapsed": false
   },
   "outputs": [
    {
     "data": {
      "image/png": "[encoded data removed]",
      "text/plain": [
       "<matplotlib.figure.Figure at 0x25911880f60>"
      ]
     },
     "metadata": {},
     "output_type": "display_data"
    }
   ],
   "source": [
    "plt.hist([data[data['completed'] == 0]['signup_bgc'], data[data['completed'] == 1]['signup_bgc']], stacked = True, \n",
    "         color = ['g','b'], label = ['not completed, 0', 'completed, 1'])\n",
    "plt.legend()\n",
    "plt.xlabel('background information added or not (0: not added, 1: added)')\n",
    "plt.ylabel('Number')\n",
    "plt.show()"
   ]
  },
  {
   "cell_type": "code",
   "execution_count": 26,
   "metadata": {
    "collapsed": false
   },
   "outputs": [
    {
     "data": {
      "text/plain": [
       "0    21785\n",
       "Name: completed, dtype: int64"
      ]
     },
     "execution_count": 26,
     "metadata": {},
     "output_type": "execute_result"
    }
   ],
   "source": [
    "data[data['signup_bgc'] == 0]['completed'].value_counts()"
   ]
  },
  {
   "cell_type": "code",
   "execution_count": 27,
   "metadata": {
    "collapsed": false
   },
   "outputs": [
    {
     "data": {
      "text/plain": [
       "0    26759\n",
       "1     6137\n",
       "Name: completed, dtype: int64"
      ]
     },
     "execution_count": 27,
     "metadata": {},
     "output_type": "execute_result"
    }
   ],
   "source": [
    "data[data['signup_bgc'] == 1]['completed'].value_counts()"
   ]
  },
  {
   "cell_type": "markdown",
   "metadata": {},
   "source": [
    "For signed_up drivers, those who didn't added their background consent never completed their first trip, while 6137/(6137+26759) \n",
    "= 18.7% of those who did completed their first trip."
   ]
  },
  {
   "cell_type": "markdown",
   "metadata": {},
   "source": [
    "From previous statistical analysis, we know that the percentage of completed drivers among three different sign-up methods are\n",
    "Referral: 19.9%, Organic: 9.0%, Paid: 6.2%. Using machine learning methods, we know that channel_1(Paid) and channel_3(Referral) plays a big role in predicting whether the signed_up drivers would finish their first trip or not. These observations are in good agreement."
   ]
  },
  {
   "cell_type": "markdown",
   "metadata": {},
   "source": [
    "### Summary"
   ]
  },
  {
   "cell_type": "markdown",
   "metadata": {},
   "source": [
    "- Decision trees, random forests and XGBoost give similar prediction accuracy on the testing data: 89.5%. While there may be \n",
    "  still room for improving the prediction accuracy using other machine learning algorithms, we are quite satisfied with the \n",
    "  current prediction results.\n",
    "\n",
    "- All these three models predicted that bgc, vehicle_year, vehicle_added and channel are most important features. \n",
    "  - Statistical analysis of these features showed that signed_up drivers who didn't add their vehicle year, or vehicle information or background consent are unlikely to complete their first trip. These drivers should be recognized early and sent reminders \n",
    "    before the 30-day deadline in order to improve their possiblity to complete the first trip.\n",
    "  - Drivers signed up by referral are two and three times more likely to complete their first trip compared to those signed up by\n",
    "    organic or paid method, respectively. Therefore, signing up by referral should be highly encouraged and promoted in order to \n",
    "    increase the probability for signed_up drivers to complete their first trip."
   ]
  },
  {
   "cell_type": "code",
   "execution_count": null,
   "metadata": {
    "collapsed": true
   },
   "outputs": [],
   "source": []
  },
  {
   "cell_type": "code",
   "execution_count": null,
   "metadata": {
    "collapsed": true
   },
   "outputs": [],
   "source": []
  }
 ],
 "metadata": {
  "kernelspec": {
   "display_name": "Python 3",
   "language": "python",
   "name": "python3"
  },
  "language_info": {
   "codemirror_mode": {
    "name": "ipython",
    "version": 3
   },
   "file_extension": ".py",
   "mimetype": "text/x-python",
   "name": "python",
   "nbconvert_exporter": "python",
   "pygments_lexer": "ipython3",
   "version": "3.5.2"
  }
 },
 "nbformat": 4,
 "nbformat_minor": 0
}
