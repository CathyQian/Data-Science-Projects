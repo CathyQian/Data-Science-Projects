{
 "cells": [
  {
   "cell_type": "markdown",
   "metadata": {},
   "source": [
    "The following work will present data cleaning, feature engineering, statistical analysis and visualization of the data."
   ]
  },
  {
   "cell_type": "markdown",
   "metadata": {},
   "source": [
    "### Import Data"
   ]
  },
  {
   "cell_type": "code",
   "execution_count": 2,
   "metadata": {
    "collapsed": false
   },
   "outputs": [],
   "source": [
    "import numpy as np\n",
    "import pandas as pd\n",
    "import matplotlib.pyplot as plt\n",
    "%matplotlib inline\n",
    "\n",
    "data = pd.read_csv('transportation_data.csv', header = 0)"
   ]
  },
  {
   "cell_type": "markdown",
   "metadata": {},
   "source": [
    "### Data Analysis"
   ]
  },
  {
   "cell_type": "markdown",
   "metadata": {},
   "source": [
    "First, let's take a quick look at the data."
   ]
  },
  {
   "cell_type": "code",
   "execution_count": 3,
   "metadata": {
    "collapsed": false
   },
   "outputs": [
    {
     "data": {
      "text/html": [
       "<div>\n",
       "<table border=\"1\" class=\"dataframe\">\n",
       "  <thead>\n",
       "    <tr style=\"text-align: right;\">\n",
       "      <th></th>\n",
       "      <th>id</th>\n",
       "      <th>city_name</th>\n",
       "      <th>signup_os</th>\n",
       "      <th>signup_channel</th>\n",
       "      <th>signup_date</th>\n",
       "      <th>bgc_date</th>\n",
       "      <th>vehicle_added_date</th>\n",
       "      <th>vehicle_make</th>\n",
       "      <th>vehicle_model</th>\n",
       "      <th>vehicle_year</th>\n",
       "      <th>first_completed_date</th>\n",
       "    </tr>\n",
       "  </thead>\n",
       "  <tbody>\n",
       "    <tr>\n",
       "      <th>0</th>\n",
       "      <td>1</td>\n",
       "      <td>Strark</td>\n",
       "      <td>ios web</td>\n",
       "      <td>Paid</td>\n",
       "      <td>1/2/2016</td>\n",
       "      <td>NaN</td>\n",
       "      <td>NaN</td>\n",
       "      <td>NaN</td>\n",
       "      <td>NaN</td>\n",
       "      <td>NaN</td>\n",
       "      <td>NaN</td>\n",
       "    </tr>\n",
       "    <tr>\n",
       "      <th>1</th>\n",
       "      <td>2</td>\n",
       "      <td>Strark</td>\n",
       "      <td>windows</td>\n",
       "      <td>Paid</td>\n",
       "      <td>1/21/2016</td>\n",
       "      <td>NaN</td>\n",
       "      <td>NaN</td>\n",
       "      <td>NaN</td>\n",
       "      <td>NaN</td>\n",
       "      <td>NaN</td>\n",
       "      <td>NaN</td>\n",
       "    </tr>\n",
       "    <tr>\n",
       "      <th>2</th>\n",
       "      <td>3</td>\n",
       "      <td>Wrouver</td>\n",
       "      <td>windows</td>\n",
       "      <td>Organic</td>\n",
       "      <td>1/11/2016</td>\n",
       "      <td>1/11/2016</td>\n",
       "      <td>NaN</td>\n",
       "      <td>NaN</td>\n",
       "      <td>NaN</td>\n",
       "      <td>NaN</td>\n",
       "      <td>NaN</td>\n",
       "    </tr>\n",
       "    <tr>\n",
       "      <th>3</th>\n",
       "      <td>4</td>\n",
       "      <td>Berton</td>\n",
       "      <td>android web</td>\n",
       "      <td>Referral</td>\n",
       "      <td>1/29/2016</td>\n",
       "      <td>2/3/2016</td>\n",
       "      <td>2/3/2016</td>\n",
       "      <td>Toyota</td>\n",
       "      <td>Corolla</td>\n",
       "      <td>2016.0</td>\n",
       "      <td>2/3/2016</td>\n",
       "    </tr>\n",
       "    <tr>\n",
       "      <th>4</th>\n",
       "      <td>5</td>\n",
       "      <td>Strark</td>\n",
       "      <td>android web</td>\n",
       "      <td>Referral</td>\n",
       "      <td>1/10/2016</td>\n",
       "      <td>1/25/2016</td>\n",
       "      <td>1/26/2016</td>\n",
       "      <td>Hyundai</td>\n",
       "      <td>Sonata</td>\n",
       "      <td>2016.0</td>\n",
       "      <td>NaN</td>\n",
       "    </tr>\n",
       "  </tbody>\n",
       "</table>\n",
       "</div>"
      ],
      "text/plain": [
       "   id city_name    signup_os signup_channel signup_date   bgc_date  \\\n",
       "0   1    Strark      ios web           Paid    1/2/2016        NaN   \n",
       "1   2    Strark      windows           Paid   1/21/2016        NaN   \n",
       "2   3   Wrouver      windows        Organic   1/11/2016  1/11/2016   \n",
       "3   4    Berton  android web       Referral   1/29/2016   2/3/2016   \n",
       "4   5    Strark  android web       Referral   1/10/2016  1/25/2016   \n",
       "\n",
       "  vehicle_added_date vehicle_make vehicle_model  vehicle_year  \\\n",
       "0                NaN          NaN           NaN           NaN   \n",
       "1                NaN          NaN           NaN           NaN   \n",
       "2                NaN          NaN           NaN           NaN   \n",
       "3           2/3/2016       Toyota       Corolla        2016.0   \n",
       "4          1/26/2016      Hyundai        Sonata        2016.0   \n",
       "\n",
       "  first_completed_date  \n",
       "0                  NaN  \n",
       "1                  NaN  \n",
       "2                  NaN  \n",
       "3             2/3/2016  \n",
       "4                  NaN  "
      ]
     },
     "execution_count": 3,
     "metadata": {},
     "output_type": "execute_result"
    }
   ],
   "source": [
    "data.head(5)"
   ]
  },
  {
   "cell_type": "code",
   "execution_count": 4,
   "metadata": {
    "collapsed": false
   },
   "outputs": [
    {
     "name": "stdout",
     "output_type": "stream",
     "text": [
      "<class 'pandas.core.frame.DataFrame'>\n",
      "RangeIndex: 54681 entries, 0 to 54680\n",
      "Data columns (total 11 columns):\n",
      "id                      54681 non-null int64\n",
      "city_name               54681 non-null object\n",
      "signup_os               47824 non-null object\n",
      "signup_channel          54681 non-null object\n",
      "signup_date             54681 non-null object\n",
      "bgc_date                32896 non-null object\n",
      "vehicle_added_date      13134 non-null object\n",
      "vehicle_make            13223 non-null object\n",
      "vehicle_model           13223 non-null object\n",
      "vehicle_year            13223 non-null float64\n",
      "first_completed_date    6137 non-null object\n",
      "dtypes: float64(1), int64(1), object(9)\n",
      "memory usage: 4.6+ MB\n"
     ]
    }
   ],
   "source": [
    "data.info()"
   ]
  },
  {
   "cell_type": "markdown",
   "metadata": {},
   "source": [
    "Main information extracted from above analysis: \n",
    "    - Of the 54681 entries, only 6137 drivers completed their first trip, which accounts for 11% of the signed-up population.\n",
    "    - Categorical data: city_name, signup_os, signup_channel, need to transform string data into numerical data\n",
    "    - Only about 24% users provided vehicle information.\n",
    "\n",
    "Let's do some data cleaning first, followed by some statistic analysis and visualization.\n",
    "\n",
    "First, we will map categorical data into numberical data."
   ]
  },
  {
   "cell_type": "code",
   "execution_count": 5,
   "metadata": {
    "collapsed": false
   },
   "outputs": [
    {
     "data": {
      "text/plain": [
       "Strark     29557\n",
       "Berton     20117\n",
       "Wrouver     5007\n",
       "Name: city_name, dtype: int64"
      ]
     },
     "execution_count": 5,
     "metadata": {},
     "output_type": "execute_result"
    }
   ],
   "source": [
    "data['city_name'].value_counts()"
   ]
  },
  {
   "cell_type": "code",
   "execution_count": 6,
   "metadata": {
    "collapsed": true
   },
   "outputs": [],
   "source": [
    "# map city_name into categorical value\n",
    "data['city'] = data['city_name'].map({'Strark': 1, 'Berton': 2, 'Wrouver':3}) "
   ]
  },
  {
   "cell_type": "code",
   "execution_count": 7,
   "metadata": {
    "collapsed": false
   },
   "outputs": [
    {
     "data": {
      "text/plain": [
       "ios web        16632\n",
       "android web    14944\n",
       "windows         6776\n",
       "mac             5824\n",
       "other           3648\n",
       "Name: signup_os, dtype: int64"
      ]
     },
     "execution_count": 7,
     "metadata": {},
     "output_type": "execute_result"
    }
   ],
   "source": [
    "data['signup_os'].value_counts()"
   ]
  },
  {
   "cell_type": "code",
   "execution_count": 8,
   "metadata": {
    "collapsed": false
   },
   "outputs": [
    {
     "data": {
      "text/plain": [
       "47824"
      ]
     },
     "execution_count": 8,
     "metadata": {},
     "output_type": "execute_result"
    }
   ],
   "source": [
    "data['signup_os'].count()"
   ]
  },
  {
   "cell_type": "code",
   "execution_count": 9,
   "metadata": {
    "collapsed": false
   },
   "outputs": [
    {
     "data": {
      "text/plain": [
       "0            ios web\n",
       "1            windows\n",
       "2            windows\n",
       "3        android web\n",
       "4        android web\n",
       "5        android web\n",
       "6            ios web\n",
       "7            ios web\n",
       "8                NaN\n",
       "9            ios web\n",
       "10           ios web\n",
       "11               mac\n",
       "12       android web\n",
       "13           ios web\n",
       "14           windows\n",
       "15           windows\n",
       "16           ios web\n",
       "17       android web\n",
       "18           ios web\n",
       "19           ios web\n",
       "20           ios web\n",
       "21           ios web\n",
       "22           ios web\n",
       "23             other\n",
       "24               mac\n",
       "25           windows\n",
       "26       android web\n",
       "27               NaN\n",
       "28       android web\n",
       "29       android web\n",
       "            ...     \n",
       "54651          other\n",
       "54652            NaN\n",
       "54653          other\n",
       "54654            NaN\n",
       "54655        ios web\n",
       "54656        ios web\n",
       "54657            NaN\n",
       "54658    android web\n",
       "54659        ios web\n",
       "54660    android web\n",
       "54661    android web\n",
       "54662            NaN\n",
       "54663          other\n",
       "54664        ios web\n",
       "54665            NaN\n",
       "54666            NaN\n",
       "54667        windows\n",
       "54668        ios web\n",
       "54669        windows\n",
       "54670          other\n",
       "54671            NaN\n",
       "54672            NaN\n",
       "54673        windows\n",
       "54674        ios web\n",
       "54675    android web\n",
       "54676          other\n",
       "54677          other\n",
       "54678        ios web\n",
       "54679    android web\n",
       "54680        ios web\n",
       "Name: signup_os, dtype: object"
      ]
     },
     "execution_count": 9,
     "metadata": {},
     "output_type": "execute_result"
    }
   ],
   "source": [
    "data['signup_os']"
   ]
  },
  {
   "cell_type": "markdown",
   "metadata": {},
   "source": [
    "Map signup_os to numerical values."
   ]
  },
  {
   "cell_type": "code",
   "execution_count": 10,
   "metadata": {
    "collapsed": true
   },
   "outputs": [],
   "source": [
    "data['os'] = data['signup_os'].map({'ios web': 1, 'android web': 2, 'windows': 3, 'mac':4, 'other':5}) \n",
    "data = data.drop(['signup_os'], axis = 1)"
   ]
  },
  {
   "cell_type": "code",
   "execution_count": 11,
   "metadata": {
    "collapsed": false
   },
   "outputs": [
    {
     "data": {
      "text/plain": [
       "Paid        23938\n",
       "Referral    17316\n",
       "Organic     13427\n",
       "Name: signup_channel, dtype: int64"
      ]
     },
     "execution_count": 11,
     "metadata": {},
     "output_type": "execute_result"
    }
   ],
   "source": [
    "data['signup_channel'].value_counts()"
   ]
  },
  {
   "cell_type": "markdown",
   "metadata": {},
   "source": [
    "Map signup_os to numerical values."
   ]
  },
  {
   "cell_type": "code",
   "execution_count": 12,
   "metadata": {
    "collapsed": true
   },
   "outputs": [],
   "source": [
    "data['channel'] = data['signup_channel'].map({'Paid':1, 'Organic':2, 'Referral':3})"
   ]
  },
  {
   "cell_type": "code",
   "execution_count": 13,
   "metadata": {
    "collapsed": false
   },
   "outputs": [],
   "source": [
    "data = data.drop(['city_name', 'signup_channel'], axis = 1)"
   ]
  },
  {
   "cell_type": "markdown",
   "metadata": {},
   "source": [
    "Next, we will convert bgc_date, vehicle_added_date and first completed date into lag time after signup_date."
   ]
  },
  {
   "cell_type": "code",
   "execution_count": 14,
   "metadata": {
    "collapsed": false
   },
   "outputs": [],
   "source": [
    "data['signup'] = pd.to_datetime(data['signup_date'])\n",
    "data['first_completed'] = pd.to_datetime(data['first_completed_date'])\n",
    "data['bgc'] = pd.to_datetime(data['bgc_date'])\n",
    "data['vehicle_added'] = pd.to_datetime(data['vehicle_added_date'])"
   ]
  },
  {
   "cell_type": "code",
   "execution_count": 15,
   "metadata": {
    "collapsed": true
   },
   "outputs": [],
   "source": [
    "data['signup_bgc'] = data['bgc'].sub(data['signup']).astype('timedelta64[D]')\n",
    "data['signup_vehicle_added'] = data['vehicle_added'].sub(data['signup']).astype('timedelta64[D]')\n",
    "data['signup_first_completed'] = data['first_completed'].sub(data['signup']).astype('timedelta64[D]')\n",
    "data['bgc_vehicle_added'] = data['vehicle_added'].sub(data['bgc']).astype('timedelta64[D]')\n",
    "\n",
    "data['completed'] = data['first_completed'].map(lambda x: 0 if x is pd.tslib.NaT else 1)  \n",
    "data = data.drop(['signup_date', 'first_completed_date', 'bgc_date', 'vehicle_added_date', 'first_completed', 'bgc', 'vehicle_added'], axis = 1)"
   ]
  },
  {
   "cell_type": "code",
   "execution_count": 16,
   "metadata": {
    "collapsed": false
   },
   "outputs": [
    {
     "data": {
      "text/html": [
       "<div>\n",
       "<table border=\"1\" class=\"dataframe\">\n",
       "  <thead>\n",
       "    <tr style=\"text-align: right;\">\n",
       "      <th></th>\n",
       "      <th>id</th>\n",
       "      <th>vehicle_make</th>\n",
       "      <th>vehicle_model</th>\n",
       "      <th>vehicle_year</th>\n",
       "      <th>city</th>\n",
       "      <th>os</th>\n",
       "      <th>channel</th>\n",
       "      <th>signup</th>\n",
       "      <th>signup_bgc</th>\n",
       "      <th>signup_vehicle_added</th>\n",
       "      <th>signup_first_completed</th>\n",
       "      <th>bgc_vehicle_added</th>\n",
       "      <th>completed</th>\n",
       "    </tr>\n",
       "  </thead>\n",
       "  <tbody>\n",
       "    <tr>\n",
       "      <th>0</th>\n",
       "      <td>1</td>\n",
       "      <td>NaN</td>\n",
       "      <td>NaN</td>\n",
       "      <td>NaN</td>\n",
       "      <td>1</td>\n",
       "      <td>1.0</td>\n",
       "      <td>1</td>\n",
       "      <td>2016-01-02</td>\n",
       "      <td>NaN</td>\n",
       "      <td>NaN</td>\n",
       "      <td>NaN</td>\n",
       "      <td>NaN</td>\n",
       "      <td>0</td>\n",
       "    </tr>\n",
       "    <tr>\n",
       "      <th>1</th>\n",
       "      <td>2</td>\n",
       "      <td>NaN</td>\n",
       "      <td>NaN</td>\n",
       "      <td>NaN</td>\n",
       "      <td>1</td>\n",
       "      <td>3.0</td>\n",
       "      <td>1</td>\n",
       "      <td>2016-01-21</td>\n",
       "      <td>NaN</td>\n",
       "      <td>NaN</td>\n",
       "      <td>NaN</td>\n",
       "      <td>NaN</td>\n",
       "      <td>0</td>\n",
       "    </tr>\n",
       "    <tr>\n",
       "      <th>2</th>\n",
       "      <td>3</td>\n",
       "      <td>NaN</td>\n",
       "      <td>NaN</td>\n",
       "      <td>NaN</td>\n",
       "      <td>3</td>\n",
       "      <td>3.0</td>\n",
       "      <td>2</td>\n",
       "      <td>2016-01-11</td>\n",
       "      <td>0.0</td>\n",
       "      <td>NaN</td>\n",
       "      <td>NaN</td>\n",
       "      <td>NaN</td>\n",
       "      <td>0</td>\n",
       "    </tr>\n",
       "    <tr>\n",
       "      <th>3</th>\n",
       "      <td>4</td>\n",
       "      <td>Toyota</td>\n",
       "      <td>Corolla</td>\n",
       "      <td>2016.0</td>\n",
       "      <td>2</td>\n",
       "      <td>2.0</td>\n",
       "      <td>3</td>\n",
       "      <td>2016-01-29</td>\n",
       "      <td>5.0</td>\n",
       "      <td>5.0</td>\n",
       "      <td>5.0</td>\n",
       "      <td>0.0</td>\n",
       "      <td>1</td>\n",
       "    </tr>\n",
       "    <tr>\n",
       "      <th>4</th>\n",
       "      <td>5</td>\n",
       "      <td>Hyundai</td>\n",
       "      <td>Sonata</td>\n",
       "      <td>2016.0</td>\n",
       "      <td>1</td>\n",
       "      <td>2.0</td>\n",
       "      <td>3</td>\n",
       "      <td>2016-01-10</td>\n",
       "      <td>15.0</td>\n",
       "      <td>16.0</td>\n",
       "      <td>NaN</td>\n",
       "      <td>1.0</td>\n",
       "      <td>0</td>\n",
       "    </tr>\n",
       "  </tbody>\n",
       "</table>\n",
       "</div>"
      ],
      "text/plain": [
       "   id vehicle_make vehicle_model  vehicle_year  city   os  channel     signup  \\\n",
       "0   1          NaN           NaN           NaN     1  1.0        1 2016-01-02   \n",
       "1   2          NaN           NaN           NaN     1  3.0        1 2016-01-21   \n",
       "2   3          NaN           NaN           NaN     3  3.0        2 2016-01-11   \n",
       "3   4       Toyota       Corolla        2016.0     2  2.0        3 2016-01-29   \n",
       "4   5      Hyundai        Sonata        2016.0     1  2.0        3 2016-01-10   \n",
       "\n",
       "   signup_bgc  signup_vehicle_added  signup_first_completed  \\\n",
       "0         NaN                   NaN                     NaN   \n",
       "1         NaN                   NaN                     NaN   \n",
       "2         0.0                   NaN                     NaN   \n",
       "3         5.0                   5.0                     5.0   \n",
       "4        15.0                  16.0                     NaN   \n",
       "\n",
       "   bgc_vehicle_added  completed  \n",
       "0                NaN          0  \n",
       "1                NaN          0  \n",
       "2                NaN          0  \n",
       "3                0.0          1  \n",
       "4                1.0          0  "
      ]
     },
     "execution_count": 16,
     "metadata": {},
     "output_type": "execute_result"
    }
   ],
   "source": [
    "data.head(5)"
   ]
  },
  {
   "cell_type": "markdown",
   "metadata": {},
   "source": [
    "Next, let's check the values of vehicle_make, vehicle_model."
   ]
  },
  {
   "cell_type": "code",
   "execution_count": 17,
   "metadata": {
    "collapsed": false
   },
   "outputs": [
    {
     "data": {
      "text/plain": [
       "Toyota           3219\n",
       "Honda            1845\n",
       "Nissan           1311\n",
       "Ford              778\n",
       "Hyundai           677\n",
       "Chevrolet         665\n",
       "Kia               584\n",
       "Volkswagen        503\n",
       "Dodge             393\n",
       "Mercedes-Benz     348\n",
       "Lexus             335\n",
       "BMW               330\n",
       "Mazda             292\n",
       "Subaru            221\n",
       "Jeep              203\n",
       "Chrysler          202\n",
       "Acura             190\n",
       "Scion             164\n",
       "Infiniti          147\n",
       "Audi              144\n",
       "Mitsubishi        113\n",
       "GMC                89\n",
       "Cadillac           86\n",
       "Lincoln            70\n",
       "Volvo              57\n",
       "Buick              46\n",
       "Saturn             30\n",
       "Pontiac            30\n",
       "Land Rover         20\n",
       "Mini               20\n",
       "Jaguar             15\n",
       "Tesla              13\n",
       "Suzuki             12\n",
       "Fiat               11\n",
       "Porsche            10\n",
       "Mercury             9\n",
       "Autobot             8\n",
       "Hummer              7\n",
       "Saab                7\n",
       "Bike                6\n",
       "Bicycle             5\n",
       "Isuzu               2\n",
       "Bentley             2\n",
       "Maserati            2\n",
       "Walker              1\n",
       "Oldsmobile          1\n",
       "Name: vehicle_make, dtype: int64"
      ]
     },
     "execution_count": 17,
     "metadata": {},
     "output_type": "execute_result"
    }
   ],
   "source": [
    "data['vehicle_make'].value_counts()"
   ]
  },
  {
   "cell_type": "markdown",
   "metadata": {},
   "source": [
    "Not sure how this is related to 'completion'."
   ]
  },
  {
   "cell_type": "code",
   "execution_count": 18,
   "metadata": {
    "collapsed": false
   },
   "outputs": [
    {
     "data": {
      "text/plain": [
       "Civic                   689\n",
       "Corolla                 688\n",
       "Camry                   683\n",
       "Accord                  595\n",
       "Prius V                 522\n",
       "Altima                  422\n",
       "Prius                   369\n",
       "Sentra                  330\n",
       "Sonata                  259\n",
       "Elantra                 255\n",
       "Optima                  212\n",
       "Jetta                   205\n",
       "CR-V                    193\n",
       "Versa                   192\n",
       "RAV4                    189\n",
       "Fusion                  186\n",
       "3-series                163\n",
       "Focus                   158\n",
       "Sienna                  154\n",
       "MAZDA3                  146\n",
       "C-Class                 145\n",
       "Malibu                  127\n",
       "Passat                  120\n",
       "Prius C                 118\n",
       "Soul                    117\n",
       "Odyssey                 113\n",
       "Cruze                   109\n",
       "Escape                  107\n",
       "Highlander              106\n",
       "Rogue                   103\n",
       "                       ... \n",
       "Bravada                   1\n",
       "6-series Gran Coupe       1\n",
       "Monterey                  1\n",
       "ZDX                       1\n",
       "Veloster                  1\n",
       "i3                        1\n",
       "Silverado 1500 4door      1\n",
       "Rainier                   1\n",
       "Jetta Hybrid              1\n",
       "RLX                       1\n",
       "Classic                   1\n",
       "Prizm                     1\n",
       "SL2                       1\n",
       "Aspen                     1\n",
       "Allroad                   1\n",
       "Torrent                   1\n",
       "G3                        1\n",
       "Beetle                    1\n",
       "QX50                      1\n",
       "Grand Vitara              1\n",
       "L300                      1\n",
       "Blazer                    1\n",
       "Zephyr                    1\n",
       "Voyager                   1\n",
       "Mountaineer               1\n",
       "SX4                       1\n",
       "CLK-Class                 1\n",
       "Rondo                     1\n",
       "Vitara                    1\n",
       "LX                        1\n",
       "Name: vehicle_model, dtype: int64"
      ]
     },
     "execution_count": 18,
     "metadata": {},
     "output_type": "execute_result"
    }
   ],
   "source": [
    "data['vehicle_model'].value_counts()"
   ]
  },
  {
   "cell_type": "markdown",
   "metadata": {},
   "source": [
    "Not sure how this is related to 'completion'."
   ]
  },
  {
   "cell_type": "code",
   "execution_count": 20,
   "metadata": {
    "collapsed": false
   },
   "outputs": [
    {
     "data": {
      "text/plain": [
       "2015.0    2402\n",
       "2014.0    1655\n",
       "2013.0    1451\n",
       "2016.0    1150\n",
       "2012.0    1122\n",
       "2007.0     711\n",
       "2011.0     702\n",
       "2008.0     659\n",
       "2010.0     645\n",
       "2006.0     550\n",
       "2009.0     513\n",
       "2005.0     450\n",
       "2004.0     369\n",
       "2003.0     350\n",
       "2002.0     251\n",
       "2001.0     169\n",
       "2000.0      29\n",
       "1999.0      14\n",
       "1998.0      10\n",
       "1997.0       6\n",
       "2017.0       6\n",
       "1996.0       4\n",
       "0.0          4\n",
       "1995.0       1\n",
       "Name: vehicle_year, dtype: int64"
      ]
     },
     "execution_count": 20,
     "metadata": {},
     "output_type": "execute_result"
    }
   ],
   "source": [
    "data['vehicle_year'].value_counts()"
   ]
  },
  {
   "cell_type": "markdown",
   "metadata": {},
   "source": [
    "Intuitively, vehicle_year gives us information about how old the vehicle is while vehicle_model and vehicle_maker doesn't give any direct information about the condition of the vehicle. Thus, let's not consider vehicle_model and vehicle_maker for now.\n",
    "We also need to drop the id column."
   ]
  },
  {
   "cell_type": "code",
   "execution_count": 22,
   "metadata": {
    "collapsed": false
   },
   "outputs": [],
   "source": [
    "data = data.drop(['vehicle_model','vehicle_make', 'id','signup'], axis = 1)"
   ]
  },
  {
   "cell_type": "code",
   "execution_count": 23,
   "metadata": {
    "collapsed": false
   },
   "outputs": [
    {
     "data": {
      "text/html": [
       "<div>\n",
       "<table border=\"1\" class=\"dataframe\">\n",
       "  <thead>\n",
       "    <tr style=\"text-align: right;\">\n",
       "      <th></th>\n",
       "      <th>vehicle_year</th>\n",
       "      <th>city</th>\n",
       "      <th>os</th>\n",
       "      <th>channel</th>\n",
       "      <th>signup_bgc</th>\n",
       "      <th>signup_vehicle_added</th>\n",
       "      <th>signup_first_completed</th>\n",
       "      <th>bgc_vehicle_added</th>\n",
       "      <th>completed</th>\n",
       "    </tr>\n",
       "  </thead>\n",
       "  <tbody>\n",
       "    <tr>\n",
       "      <th>0</th>\n",
       "      <td>NaN</td>\n",
       "      <td>1</td>\n",
       "      <td>1.0</td>\n",
       "      <td>1</td>\n",
       "      <td>NaN</td>\n",
       "      <td>NaN</td>\n",
       "      <td>NaN</td>\n",
       "      <td>NaN</td>\n",
       "      <td>0</td>\n",
       "    </tr>\n",
       "    <tr>\n",
       "      <th>1</th>\n",
       "      <td>NaN</td>\n",
       "      <td>1</td>\n",
       "      <td>3.0</td>\n",
       "      <td>1</td>\n",
       "      <td>NaN</td>\n",
       "      <td>NaN</td>\n",
       "      <td>NaN</td>\n",
       "      <td>NaN</td>\n",
       "      <td>0</td>\n",
       "    </tr>\n",
       "    <tr>\n",
       "      <th>2</th>\n",
       "      <td>NaN</td>\n",
       "      <td>3</td>\n",
       "      <td>3.0</td>\n",
       "      <td>2</td>\n",
       "      <td>0.0</td>\n",
       "      <td>NaN</td>\n",
       "      <td>NaN</td>\n",
       "      <td>NaN</td>\n",
       "      <td>0</td>\n",
       "    </tr>\n",
       "    <tr>\n",
       "      <th>3</th>\n",
       "      <td>2016.0</td>\n",
       "      <td>2</td>\n",
       "      <td>2.0</td>\n",
       "      <td>3</td>\n",
       "      <td>5.0</td>\n",
       "      <td>5.0</td>\n",
       "      <td>5.0</td>\n",
       "      <td>0.0</td>\n",
       "      <td>1</td>\n",
       "    </tr>\n",
       "    <tr>\n",
       "      <th>4</th>\n",
       "      <td>2016.0</td>\n",
       "      <td>1</td>\n",
       "      <td>2.0</td>\n",
       "      <td>3</td>\n",
       "      <td>15.0</td>\n",
       "      <td>16.0</td>\n",
       "      <td>NaN</td>\n",
       "      <td>1.0</td>\n",
       "      <td>0</td>\n",
       "    </tr>\n",
       "  </tbody>\n",
       "</table>\n",
       "</div>"
      ],
      "text/plain": [
       "   vehicle_year  city   os  channel  signup_bgc  signup_vehicle_added  \\\n",
       "0           NaN     1  1.0        1         NaN                   NaN   \n",
       "1           NaN     1  3.0        1         NaN                   NaN   \n",
       "2           NaN     3  3.0        2         0.0                   NaN   \n",
       "3        2016.0     2  2.0        3         5.0                   5.0   \n",
       "4        2016.0     1  2.0        3        15.0                  16.0   \n",
       "\n",
       "   signup_first_completed  bgc_vehicle_added  completed  \n",
       "0                     NaN                NaN          0  \n",
       "1                     NaN                NaN          0  \n",
       "2                     NaN                NaN          0  \n",
       "3                     5.0                0.0          1  \n",
       "4                     NaN                1.0          0  "
      ]
     },
     "execution_count": 23,
     "metadata": {},
     "output_type": "execute_result"
    }
   ],
   "source": [
    "data.head(5)"
   ]
  },
  {
   "cell_type": "markdown",
   "metadata": {},
   "source": [
    "### Data Visualization"
   ]
  },
  {
   "cell_type": "markdown",
   "metadata": {},
   "source": [
    "Let's first visualize the over distribution of all numerical features for all drivers. "
   ]
  },
  {
   "cell_type": "code",
   "execution_count": 24,
   "metadata": {
    "collapsed": false
   },
   "outputs": [
    {
     "data": {
      "image/png": "[encoded data removed]",
      "text/plain": [
       "<matplotlib.figure.Figure at 0x1b258c34cf8>"
      ]
     },
     "metadata": {},
     "output_type": "display_data"
    }
   ],
   "source": [
    "import matplotlib.pyplot as plt\n",
    "data.hist(figsize = (10, 8)) # default bin size = 10\n",
    "plt.show()"
   ]
  },
  {
   "cell_type": "markdown",
   "metadata": {},
   "source": [
    "We can tell all drivers who completed their first trip did so within 30 days after signup.\n",
    "Vehicle_year contains some invalid values smaller than 500. This required data cleaning which we will show later.\n",
    "\n",
    "Next, let's visualize the distribution of drivers who completed their first trip and who haven't statistically.\n",
    "\n",
    "Let's start with the distribution across three cities."
   ]
  },
  {
   "cell_type": "code",
   "execution_count": 25,
   "metadata": {
    "collapsed": false
   },
   "outputs": [
    {
     "data": {
      "image/png": "[encoded data removed]",
      "text/plain": [
       "<matplotlib.figure.Figure at 0x1b262ea3978>"
      ]
     },
     "metadata": {},
     "output_type": "display_data"
    },
    {
     "name": "stdout",
     "output_type": "stream",
     "text": [
      "0    0.890415\n",
      "1    0.109585\n",
      "Name: completed, dtype: float64 0    0.878859\n",
      "1    0.121141\n",
      "Name: completed, dtype: float64 0    0.907929\n",
      "1    0.092071\n",
      "Name: completed, dtype: float64\n"
     ]
    },
    {
     "data": {
      "image/png": "[encoded data removed]",
      "text/plain": [
       "<matplotlib.figure.Figure at 0x1b262eeff60>"
      ]
     },
     "metadata": {},
     "output_type": "display_data"
    }
   ],
   "source": [
    "# city distribution for two types of drivers\n",
    "plt.hist([data[data['completed'] == 1]['city'], data[data['completed'] == 0]['city']], stacked = True, \n",
    "         color = ['g','b'], label = ['completed, 1', 'Not completed, 0'])\n",
    "plt.legend()\n",
    "plt.xlabel('City(Strark: 1, Berton: 2, Wrouver:3)')\n",
    "plt.ylabel('Number')\n",
    "plt.show()\n",
    "\n",
    "city1, city2, city3 = data.groupby('city').size()\n",
    "Pcity1 = data[data['city'] == 1]['completed'].value_counts()/float(city1)\n",
    "Pcity2 = data[data['city'] == 2]['completed'].value_counts()/float(city2)\n",
    "Pcity3 = data[data['city'] == 3]['completed'].value_counts()/float(city3)\n",
    "df = pd.DataFrame([Pcity1, Pcity2, Pcity3])\n",
    "df.index = ['1_Strark','2_Berton', '3_Wrouver']\n",
    "df.plot(kind = 'bar',stacked = True, ylim = (0, 1.05), title = \"Percentage of Completion by City (1 = Completed, 0 = not completed)\")\n",
    "print(Pcity1, Pcity2, Pcity3)"
   ]
  },
  {
   "cell_type": "markdown",
   "metadata": {},
   "source": [
    "Insights from the above data:\n",
    "- 1, City Strark has the largest population of signed-up drivers for this transportation app, followed by city Berton and Wrouver.\n",
    "- 2, Percentage of completed drivers among all signed-up drivers: Strark: 11.0%, Berton: 12.1%, Wrouver: 9.2%. These percentage\n",
    "     differences are quite minor.\n",
    "     \n",
    "Next, let's explore the distributions among three different channels."
   ]
  },
  {
   "cell_type": "code",
   "execution_count": 26,
   "metadata": {
    "collapsed": false
   },
   "outputs": [
    {
     "data": {
      "image/png": "[encoded data removed]",
      "text/plain": [
       "<matplotlib.figure.Figure at 0x1b262c4acf8>"
      ]
     },
     "metadata": {},
     "output_type": "display_data"
    },
    {
     "name": "stdout",
     "output_type": "stream",
     "text": [
      "0    0.93809\n",
      "1    0.06191\n",
      "Name: completed, dtype: float64 0    0.909883\n",
      "1    0.090117\n",
      "Name: completed, dtype: float64 0    0.801051\n",
      "1    0.198949\n",
      "Name: completed, dtype: float64\n"
     ]
    },
    {
     "data": {
      "image/png": "[encoded data removed]",
      "text/plain": [
       "<matplotlib.figure.Figure at 0x1b262cfe4a8>"
      ]
     },
     "metadata": {},
     "output_type": "display_data"
    }
   ],
   "source": [
    "# Channel distribution for two types of drivers\n",
    "plt.hist([data[data['completed'] == 1]['channel'], data[data['completed'] == 0]['channel']], stacked = True, \n",
    "         color = ['g','b'], label = ['completed, 1', 'Not completed, 0'])\n",
    "plt.legend()\n",
    "plt.xlabel('Channel (Paid:1, Organic:2, Referral:3)')\n",
    "plt.ylabel('Number')\n",
    "plt.show()\n",
    "\n",
    "channel1, channel2, channel3 = data.groupby('channel').size()\n",
    "Pchannel1 = data[data['channel'] == 1]['completed'].value_counts()/float(channel1)\n",
    "Pchannel2 = data[data['channel'] == 2]['completed'].value_counts()/float(channel2)\n",
    "Pchannel3 = data[data['channel'] == 3]['completed'].value_counts()/float(channel3)\n",
    "df = pd.DataFrame([Pchannel1, Pchannel2, Pchannel3])\n",
    "df.index = ['1_Paid','2_Organic', '3_Referral']\n",
    "df.plot(kind = 'bar', stacked = True, ylim = (0, 1.05), title = \"Percentage of Completion by Sign-up Channel (1 = Completed, 0 = not completed)\")\n",
    "print(Pchannel1, Pchannel2, Pchannel3)"
   ]
  },
  {
   "cell_type": "markdown",
   "metadata": {},
   "source": [
    "Insights from the above data:\n",
    "\n",
    "- 1, Most drivers signed up for this transportation app by paid method, followed by referral and organic method.\n",
    "- 2, Percentage of completed drivers among three different sign-up methods: Referral: 19.9%, Organic: 9.0%, Paid: 6.2%. \n",
    "     These percentage differences are quite significant.\n",
    "    \n",
    "Next, let's explore the distributions among different sign-up operating systems."
   ]
  },
  {
   "cell_type": "code",
   "execution_count": 27,
   "metadata": {
    "collapsed": false
   },
   "outputs": [
    {
     "data": {
      "image/png": "[encoded data removed]",
      "text/plain": [
       "<matplotlib.figure.Figure at 0x1b262440160>"
      ]
     },
     "metadata": {},
     "output_type": "display_data"
    },
    {
     "name": "stdout",
     "output_type": "stream",
     "text": [
      "0    0.868266\n",
      "1    0.131734\n",
      "Name: completed, dtype: float64 0    0.902703\n",
      "1    0.097297\n",
      "Name: completed, dtype: float64 0    0.867473\n",
      "1    0.132527\n",
      "Name: completed, dtype: float64 0    0.837225\n",
      "1    0.162775\n",
      "Name: completed, dtype: float64 0    0.863487\n",
      "1    0.136513\n",
      "Name: completed, dtype: float64\n"
     ]
    },
    {
     "data": {
      "image/png": "[encoded data removed]",
      "text/plain": [
       "<matplotlib.figure.Figure at 0x1b26315be80>"
      ]
     },
     "metadata": {},
     "output_type": "display_data"
    }
   ],
   "source": [
    "# OS distribution for two types of drivers\n",
    "# remember to use .dropna() since hist doesn't take in NaN value.\n",
    "plt.hist([data[data['completed'] == 1]['os'].dropna(), data[data['completed'] == 0]['os'].dropna()], stacked = True, \n",
    "         color = ['g','b'], label = ['completed, 1', 'Not completed, 0'])\n",
    "plt.legend()\n",
    "plt.xlabel('OS(ios web: 1, android web: 2, windows: 3, mac:4, other:5)')\n",
    "plt.ylabel('Number')\n",
    "plt.show()\n",
    "\n",
    "ios1, android2, windows3, mac4, others5 = data.groupby('os').size()\n",
    "Pios1 = data[data['os'] == 1]['completed'].value_counts()/float(ios1)\n",
    "Pandroid2 = data[data['os'] == 2]['completed'].value_counts()/float(android2)\n",
    "Pwindows3 = data[data['os'] == 3]['completed'].value_counts()/float(windows3)\n",
    "Pmac4 = data[data['os'] == 4]['completed'].value_counts()/float(mac4)\n",
    "Pothers5 = data[data['os'] == 5]['completed'].value_counts()/float(others5)\n",
    "\n",
    "df = pd.DataFrame([Pios1, Pandroid2, Pwindows3, Pmac4, Pothers5])\n",
    "df.index = ['1_ios','2_android', '3_windows', '4_mac', '5_others']\n",
    "df.plot(kind = 'bar', stacked = True, ylim = (0, 1.05), title = \"Percentage of Completion by Sign-up Operating System (1 = Completed, 0 = not completed)\")\n",
    "\n",
    "print(Pios1, Pandroid2, Pwindows3, Pmac4, Pothers5)"
   ]
  },
  {
   "cell_type": "markdown",
   "metadata": {},
   "source": [
    "Insights from the above data:\n",
    "\n",
    "- 1, Most drivers signed up for this transportation app by ios web and android web, followed by windows, mac and other method.\n",
    "- 2, Percentage of completed drivers among all these different sign-up methods: mac: 16.3%, windows: 13.3%, ios web: 13.2%, android web: 9.7%,  others: 13.7%. \n",
    "\n",
    "Next, let's explore vehicle year."
   ]
  },
  {
   "cell_type": "code",
   "execution_count": 28,
   "metadata": {
    "collapsed": false
   },
   "outputs": [
    {
     "data": {
      "image/png": "[encoded data removed]",
      "text/plain": [
       "<matplotlib.figure.Figure at 0x1b26273aa58>"
      ]
     },
     "metadata": {},
     "output_type": "display_data"
    }
   ],
   "source": [
    "# vehicle year distribution for two types of drivers\n",
    "df1 = data[data['completed'] == 1]['vehicle_year'].dropna()\n",
    "df0 = data[data['completed'] == 0]['vehicle_year'].dropna()\n",
    "df1 = df1[df1 >= 1994]\n",
    "df0 = df0[df0 >= 1994]\n",
    "\n",
    "plt.hist([df1, df0], stacked = True, color = ['g','b'], bins = 26, label = ['completed, 1', 'Not completed, 0'], normed = True, log = False)\n",
    "plt.legend()\n",
    "plt.xlim(1994, 2019)\n",
    "plt.xlabel('vehicle_year')\n",
    "plt.ylabel('Number')\n",
    "plt.show()"
   ]
  },
  {
   "cell_type": "markdown",
   "metadata": {
    "collapsed": true
   },
   "source": [
    "Insight from above data:\n",
    "    - Those with vehicles from 2017 or before 1998 didn't complete their first trip.\n",
    "    - Those with vehicles from 2005 to 2015 are most likely to complete their first trip."
   ]
  },
  {
   "cell_type": "code",
   "execution_count": 29,
   "metadata": {
    "collapsed": false
   },
   "outputs": [
    {
     "data": {
      "image/png": "[encoded data removed]",
      "text/plain": [
       "<matplotlib.figure.Figure at 0x1b2632abfd0>"
      ]
     },
     "metadata": {},
     "output_type": "display_data"
    }
   ],
   "source": [
    "# Analyze signup - bgc time gap\n",
    "df1 = data[data['completed'] == 1]['signup_bgc'].dropna()\n",
    "df0 = data[data['completed'] == 0]['signup_bgc'].dropna()\n",
    "\n",
    "plt.hist([df1, df0], stacked = True, bins = 25, color = ['g','b'], label = ['completed, 1', 'Not completed, 0'], normed = True, log = False)\n",
    "plt.legend()\n",
    "plt.xlabel('Background check Date After Signup')\n",
    "plt.ylabel('Percentage')\n",
    "plt.show()"
   ]
  },
  {
   "cell_type": "markdown",
   "metadata": {},
   "source": [
    "Most user who completed their first trip finished their background check within 20 days after signing up."
   ]
  },
  {
   "cell_type": "code",
   "execution_count": 257,
   "metadata": {
    "collapsed": false,
    "scrolled": true
   },
   "outputs": [
    {
     "data": {
      "image/png": "[encoded data removed]",
      "text/plain": [
       "<matplotlib.figure.Figure at 0x25fc1d4b860>"
      ]
     },
     "metadata": {},
     "output_type": "display_data"
    }
   ],
   "source": [
    "# Analyze signup_vehicle_added\n",
    "df1 = data[data['completed'] == 1]['signup_vehicle_added'].dropna()\n",
    "df0 = data[data['completed'] == 0]['signup_vehicle_added'].dropna()\n",
    "\n",
    "plt.hist([df1, df0], stacked = True, bins = 25, color = ['g','b'], label = ['completed, 1', 'Not completed, 0'], normed = True, log = False)\n",
    "plt.legend()\n",
    "plt.xlabel('Vehicle added Date After Signup')\n",
    "plt.ylabel('Percentage')\n",
    "plt.show()"
   ]
  },
  {
   "cell_type": "markdown",
   "metadata": {},
   "source": [
    "Most user who completed their first trip added their vehicle information within 20 days after signing up."
   ]
  },
  {
   "cell_type": "code",
   "execution_count": 30,
   "metadata": {
    "collapsed": false
   },
   "outputs": [
    {
     "data": {
      "image/png": "[encoded data removed]",
      "text/plain": [
       "<matplotlib.figure.Figure at 0x1b2631b4630>"
      ]
     },
     "metadata": {},
     "output_type": "display_data"
    }
   ],
   "source": [
    "# Analyze bgc_vehicle_added\n",
    "df1 = data[data['completed'] == 1]['bgc_vehicle_added'].dropna()\n",
    "df0 = data[data['completed'] == 0]['bgc_vehicle_added'].dropna()\n",
    "\n",
    "plt.hist([df1, df0], stacked = True, bins = 25, color = ['g','b'], label = ['completed, 1', 'Not completed, 0'], normed = True, log = False)\n",
    "plt.legend()\n",
    "plt.xlabel('Vehicle added Date After Background check')\n",
    "plt.ylabel('Percentage')\n",
    "plt.show()"
   ]
  },
  {
   "cell_type": "markdown",
   "metadata": {
    "collapsed": false
   },
   "source": [
    "Most user who completed their first trip added their vehicle information within 10 days after background check."
   ]
  },
  {
   "cell_type": "markdown",
   "metadata": {},
   "source": [
    "# Summary"
   ]
  },
  {
   "cell_type": "markdown",
   "metadata": {
    "collapsed": true
   },
   "source": [
    "- Signed-up drivers from city Berton and Strark are more likely to complete their first trip than those signup from city Wrouver.\n",
    "  - Percentage of completed drivers among all signed-up drivers: Strark: 11.0%, Berton: 12.1%, Wrouver: 9.2%.\n",
    "\n",
    "- Drivers signed up from mac are more likely and those signed up from android web are less likely to complete their first trip \n",
    "  compared to the average.\n",
    "  - Percentage of completed drivers among all these different sign-up methods: mac: 16.3%, windows: 13.3%, ios web: 13.2%, android\n",
    "  web: 9.7%, others: 13.7%.\n",
    "\n",
    "- Drivers signed up by referral are two and three times more likely to complete their first trip compared to those signed up by \n",
    "  organic or paid method, respectively.\n",
    "  - Percentage of completed drivers among three different sign-up methods: Referral: 19.9%, Organic: 9.0%, Paid: 6.2%.                 \n",
    "\n",
    "- Drivers with signed-up vehicles from 2017 or before 1998 are less likely to complete their first trip than those with vehicles \n",
    "  between 2005 and 2015.\n",
    "    \n",
    "- Drivers who finished their background check within 20 days after signing up and added their vehicle information within 10 days \n",
    "after background check are more likely to complete their first trip.                                                                        "
   ]
  },
  {
   "cell_type": "code",
   "execution_count": null,
   "metadata": {
    "collapsed": true
   },
   "outputs": [],
   "source": []
  }
 ],
 "metadata": {
  "kernelspec": {
   "display_name": "Python 3",
   "language": "python",
   "name": "python3"
  },
  "language_info": {
   "codemirror_mode": {
    "name": "ipython",
    "version": 3
   },
   "file_extension": ".py",
   "mimetype": "text/x-python",
   "name": "python",
   "nbconvert_exporter": "python",
   "pygments_lexer": "ipython3",
   "version": "3.5.2"
  }
 },
 "nbformat": 4,
 "nbformat_minor": 0
}
