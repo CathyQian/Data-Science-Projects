{
 "cells": [
  {
   "cell_type": "markdown",
   "metadata": {},
   "source": [
    "# Problem description: \n",
    "### Use machine learning to predict the survival rate (0 or 1) of passengers on titanic in the test set using existing training data set\n",
    "\n",
    "### Details: https://www.kaggle.com/c/titanic"
   ]
  },
  {
   "cell_type": "markdown",
   "metadata": {},
   "source": [
    "### Step 1. Upload libraries and training/testing dataset\n",
    "#### (a) Let’s begin with common Python data parse and visualization packages (numpy, pandas, matplotlib) and a variety of scikit-learn models for scanning. We also need to import scikit learn model_selection module for parameter optimization."
   ]
  },
  {
   "cell_type": "code",
   "execution_count": 4,
   "metadata": {
    "collapsed": false
   },
   "outputs": [],
   "source": [
    "%matplotlib inline\n",
    "import csv as csv\n",
    "import numpy as np\n",
    "import pandas as pd\n",
    "import matplotlib.pyplot as plt\n",
    "from sklearn.model_selection import KFold\n",
    "from sklearn.model_selection import cross_val_score\n",
    "from sklearn.model_selection import GridSearchCV\n",
    "from sklearn.preprocessing import StandardScaler\n",
    "from sklearn.pipeline import Pipeline\n",
    "from sklearn.linear_model import LogisticRegression\n",
    "from sklearn.tree import DecisionTreeClassifier\n",
    "from sklearn.neighbors import KNeighborsClassifier\n",
    "from sklearn.discriminant_analysis import LinearDiscriminantAnalysis\n",
    "from sklearn.naive_bayes import GaussianNB\n",
    "from sklearn.svm import SVC\n",
    "from sklearn.ensemble import AdaBoostClassifier\n",
    "from sklearn.ensemble import GradientBoostingClassifier\n",
    "from sklearn.ensemble import RandomForestClassifier\n",
    "from sklearn.ensemble import ExtraTreesClassifier"
   ]
  },
  {
   "cell_type": "markdown",
   "metadata": {},
   "source": [
    "#### (b) Read training and testing dataset into pandas dataframe "
   ]
  },
  {
   "cell_type": "code",
   "execution_count": 5,
   "metadata": {
    "collapsed": true
   },
   "outputs": [],
   "source": [
    "# (row 0 is the header row)\n",
    "train = pd.read_csv('train.csv', header = 0)\n",
    "test = pd.read_csv('test.csv', header = 0)"
   ]
  },
  {
   "cell_type": "markdown",
   "metadata": {},
   "source": [
    "### Step 2. Training data analysis to get quantitative intuition about the training data set."
   ]
  },
  {
   "cell_type": "code",
   "execution_count": 6,
   "metadata": {
    "collapsed": false,
    "scrolled": true
   },
   "outputs": [
    {
     "data": {
      "text/html": [
       "<div>\n",
       "<table border=\"1\" class=\"dataframe\">\n",
       "  <thead>\n",
       "    <tr style=\"text-align: right;\">\n",
       "      <th></th>\n",
       "      <th>PassengerId</th>\n",
       "      <th>Survived</th>\n",
       "      <th>Pclass</th>\n",
       "      <th>Name</th>\n",
       "      <th>Sex</th>\n",
       "      <th>Age</th>\n",
       "      <th>SibSp</th>\n",
       "      <th>Parch</th>\n",
       "      <th>Ticket</th>\n",
       "      <th>Fare</th>\n",
       "      <th>Cabin</th>\n",
       "      <th>Embarked</th>\n",
       "    </tr>\n",
       "  </thead>\n",
       "  <tbody>\n",
       "    <tr>\n",
       "      <th>0</th>\n",
       "      <td>1</td>\n",
       "      <td>0</td>\n",
       "      <td>3</td>\n",
       "      <td>Braund, Mr. Owen Harris</td>\n",
       "      <td>male</td>\n",
       "      <td>22.0</td>\n",
       "      <td>1</td>\n",
       "      <td>0</td>\n",
       "      <td>A/5 21171</td>\n",
       "      <td>7.2500</td>\n",
       "      <td>NaN</td>\n",
       "      <td>S</td>\n",
       "    </tr>\n",
       "    <tr>\n",
       "      <th>1</th>\n",
       "      <td>2</td>\n",
       "      <td>1</td>\n",
       "      <td>1</td>\n",
       "      <td>Cumings, Mrs. John Bradley (Florence Briggs Th...</td>\n",
       "      <td>female</td>\n",
       "      <td>38.0</td>\n",
       "      <td>1</td>\n",
       "      <td>0</td>\n",
       "      <td>PC 17599</td>\n",
       "      <td>71.2833</td>\n",
       "      <td>C85</td>\n",
       "      <td>C</td>\n",
       "    </tr>\n",
       "    <tr>\n",
       "      <th>2</th>\n",
       "      <td>3</td>\n",
       "      <td>1</td>\n",
       "      <td>3</td>\n",
       "      <td>Heikkinen, Miss. Laina</td>\n",
       "      <td>female</td>\n",
       "      <td>26.0</td>\n",
       "      <td>0</td>\n",
       "      <td>0</td>\n",
       "      <td>STON/O2. 3101282</td>\n",
       "      <td>7.9250</td>\n",
       "      <td>NaN</td>\n",
       "      <td>S</td>\n",
       "    </tr>\n",
       "    <tr>\n",
       "      <th>3</th>\n",
       "      <td>4</td>\n",
       "      <td>1</td>\n",
       "      <td>1</td>\n",
       "      <td>Futrelle, Mrs. Jacques Heath (Lily May Peel)</td>\n",
       "      <td>female</td>\n",
       "      <td>35.0</td>\n",
       "      <td>1</td>\n",
       "      <td>0</td>\n",
       "      <td>113803</td>\n",
       "      <td>53.1000</td>\n",
       "      <td>C123</td>\n",
       "      <td>S</td>\n",
       "    </tr>\n",
       "    <tr>\n",
       "      <th>4</th>\n",
       "      <td>5</td>\n",
       "      <td>0</td>\n",
       "      <td>3</td>\n",
       "      <td>Allen, Mr. William Henry</td>\n",
       "      <td>male</td>\n",
       "      <td>35.0</td>\n",
       "      <td>0</td>\n",
       "      <td>0</td>\n",
       "      <td>373450</td>\n",
       "      <td>8.0500</td>\n",
       "      <td>NaN</td>\n",
       "      <td>S</td>\n",
       "    </tr>\n",
       "    <tr>\n",
       "      <th>5</th>\n",
       "      <td>6</td>\n",
       "      <td>0</td>\n",
       "      <td>3</td>\n",
       "      <td>Moran, Mr. James</td>\n",
       "      <td>male</td>\n",
       "      <td>NaN</td>\n",
       "      <td>0</td>\n",
       "      <td>0</td>\n",
       "      <td>330877</td>\n",
       "      <td>8.4583</td>\n",
       "      <td>NaN</td>\n",
       "      <td>Q</td>\n",
       "    </tr>\n",
       "    <tr>\n",
       "      <th>6</th>\n",
       "      <td>7</td>\n",
       "      <td>0</td>\n",
       "      <td>1</td>\n",
       "      <td>McCarthy, Mr. Timothy J</td>\n",
       "      <td>male</td>\n",
       "      <td>54.0</td>\n",
       "      <td>0</td>\n",
       "      <td>0</td>\n",
       "      <td>17463</td>\n",
       "      <td>51.8625</td>\n",
       "      <td>E46</td>\n",
       "      <td>S</td>\n",
       "    </tr>\n",
       "    <tr>\n",
       "      <th>7</th>\n",
       "      <td>8</td>\n",
       "      <td>0</td>\n",
       "      <td>3</td>\n",
       "      <td>Palsson, Master. Gosta Leonard</td>\n",
       "      <td>male</td>\n",
       "      <td>2.0</td>\n",
       "      <td>3</td>\n",
       "      <td>1</td>\n",
       "      <td>349909</td>\n",
       "      <td>21.0750</td>\n",
       "      <td>NaN</td>\n",
       "      <td>S</td>\n",
       "    </tr>\n",
       "    <tr>\n",
       "      <th>8</th>\n",
       "      <td>9</td>\n",
       "      <td>1</td>\n",
       "      <td>3</td>\n",
       "      <td>Johnson, Mrs. Oscar W (Elisabeth Vilhelmina Berg)</td>\n",
       "      <td>female</td>\n",
       "      <td>27.0</td>\n",
       "      <td>0</td>\n",
       "      <td>2</td>\n",
       "      <td>347742</td>\n",
       "      <td>11.1333</td>\n",
       "      <td>NaN</td>\n",
       "      <td>S</td>\n",
       "    </tr>\n",
       "    <tr>\n",
       "      <th>9</th>\n",
       "      <td>10</td>\n",
       "      <td>1</td>\n",
       "      <td>2</td>\n",
       "      <td>Nasser, Mrs. Nicholas (Adele Achem)</td>\n",
       "      <td>female</td>\n",
       "      <td>14.0</td>\n",
       "      <td>1</td>\n",
       "      <td>0</td>\n",
       "      <td>237736</td>\n",
       "      <td>30.0708</td>\n",
       "      <td>NaN</td>\n",
       "      <td>C</td>\n",
       "    </tr>\n",
       "  </tbody>\n",
       "</table>\n",
       "</div>"
      ],
      "text/plain": [
       "   PassengerId  Survived  Pclass  \\\n",
       "0            1         0       3   \n",
       "1            2         1       1   \n",
       "2            3         1       3   \n",
       "3            4         1       1   \n",
       "4            5         0       3   \n",
       "5            6         0       3   \n",
       "6            7         0       1   \n",
       "7            8         0       3   \n",
       "8            9         1       3   \n",
       "9           10         1       2   \n",
       "\n",
       "                                                Name     Sex   Age  SibSp  \\\n",
       "0                            Braund, Mr. Owen Harris    male  22.0      1   \n",
       "1  Cumings, Mrs. John Bradley (Florence Briggs Th...  female  38.0      1   \n",
       "2                             Heikkinen, Miss. Laina  female  26.0      0   \n",
       "3       Futrelle, Mrs. Jacques Heath (Lily May Peel)  female  35.0      1   \n",
       "4                           Allen, Mr. William Henry    male  35.0      0   \n",
       "5                                   Moran, Mr. James    male   NaN      0   \n",
       "6                            McCarthy, Mr. Timothy J    male  54.0      0   \n",
       "7                     Palsson, Master. Gosta Leonard    male   2.0      3   \n",
       "8  Johnson, Mrs. Oscar W (Elisabeth Vilhelmina Berg)  female  27.0      0   \n",
       "9                Nasser, Mrs. Nicholas (Adele Achem)  female  14.0      1   \n",
       "\n",
       "   Parch            Ticket     Fare Cabin Embarked  \n",
       "0      0         A/5 21171   7.2500   NaN        S  \n",
       "1      0          PC 17599  71.2833   C85        C  \n",
       "2      0  STON/O2. 3101282   7.9250   NaN        S  \n",
       "3      0            113803  53.1000  C123        S  \n",
       "4      0            373450   8.0500   NaN        S  \n",
       "5      0            330877   8.4583   NaN        Q  \n",
       "6      0             17463  51.8625   E46        S  \n",
       "7      1            349909  21.0750   NaN        S  \n",
       "8      2            347742  11.1333   NaN        S  \n",
       "9      0            237736  30.0708   NaN        C  "
      ]
     },
     "execution_count": 6,
     "metadata": {},
     "output_type": "execute_result"
    }
   ],
   "source": [
    "train.head(10)"
   ]
  },
  {
   "cell_type": "code",
   "execution_count": 7,
   "metadata": {
    "collapsed": false
   },
   "outputs": [
    {
     "name": "stdout",
     "output_type": "stream",
     "text": [
      "<class 'pandas.core.frame.DataFrame'>\n",
      "RangeIndex: 891 entries, 0 to 890\n",
      "Data columns (total 12 columns):\n",
      "PassengerId    891 non-null int64\n",
      "Survived       891 non-null int64\n",
      "Pclass         891 non-null int64\n",
      "Name           891 non-null object\n",
      "Sex            891 non-null object\n",
      "Age            714 non-null float64\n",
      "SibSp          891 non-null int64\n",
      "Parch          891 non-null int64\n",
      "Ticket         891 non-null object\n",
      "Fare           891 non-null float64\n",
      "Cabin          204 non-null object\n",
      "Embarked       889 non-null object\n",
      "dtypes: float64(2), int64(5), object(5)\n",
      "memory usage: 83.6+ KB\n"
     ]
    }
   ],
   "source": [
    "train.info()"
   ]
  },
  {
   "cell_type": "markdown",
   "metadata": {},
   "source": [
    "#### (a) Check missing values"
   ]
  },
  {
   "cell_type": "code",
   "execution_count": 8,
   "metadata": {
    "collapsed": false
   },
   "outputs": [
    {
     "data": {
      "text/plain": [
       "PassengerId      0\n",
       "Survived         0\n",
       "Pclass           0\n",
       "Name             0\n",
       "Sex              0\n",
       "Age            177\n",
       "SibSp            0\n",
       "Parch            0\n",
       "Ticket           0\n",
       "Fare             0\n",
       "Cabin          687\n",
       "Embarked         2\n",
       "dtype: int64"
      ]
     },
     "execution_count": 8,
     "metadata": {},
     "output_type": "execute_result"
    }
   ],
   "source": [
    "train.isnull().sum() \n",
    "# age (missing 177/891 values), embarked (missing 2 values), cabin (missing 687/891 values)"
   ]
  },
  {
   "cell_type": "markdown",
   "metadata": {},
   "source": [
    "#### (b) Check distribution of people by sex, class, number of sibling/spouse, parents/children, survival or not, embarking location"
   ]
  },
  {
   "cell_type": "code",
   "execution_count": 9,
   "metadata": {
    "collapsed": false
   },
   "outputs": [
    {
     "name": "stdout",
     "output_type": "stream",
     "text": [
      "Sex\n",
      "female    314\n",
      "male      577\n",
      "dtype: int64\n",
      "Pclass\n",
      "1    216\n",
      "2    184\n",
      "3    491\n",
      "dtype: int64\n",
      "SibSp\n",
      "0    608\n",
      "1    209\n",
      "2     28\n",
      "3     16\n",
      "4     18\n",
      "5      5\n",
      "8      7\n",
      "dtype: int64\n",
      "Parch\n",
      "0    678\n",
      "1    118\n",
      "2     80\n",
      "3      5\n",
      "4      4\n",
      "5      5\n",
      "6      1\n",
      "dtype: int64\n",
      "Survived\n",
      "0    549\n",
      "1    342\n",
      "dtype: int64\n",
      "Embarked\n",
      "C    168\n",
      "Q     77\n",
      "S    644\n",
      "dtype: int64\n"
     ]
    }
   ],
   "source": [
    "print(train.groupby('Sex').size())\n",
    "print(train.groupby('Pclass').size())\n",
    "print(train.groupby('SibSp').size())\n",
    "print(train.groupby('Parch').size())\n",
    "print(train.groupby('Survived').size())\n",
    "print(train.groupby('Embarked').size())"
   ]
  },
  {
   "cell_type": "markdown",
   "metadata": {},
   "source": [
    "### Step 3. Preliminary data cleaning\n",
    "#### To format/clean some intuitive data including sex, age, PassengerId and FamilySize for further visualization and analysis."
   ]
  },
  {
   "cell_type": "code",
   "execution_count": 10,
   "metadata": {
    "collapsed": false
   },
   "outputs": [
    {
     "name": "stdout",
     "output_type": "stream",
     "text": [
      "<class 'pandas.core.frame.DataFrame'>\n",
      "RangeIndex: 891 entries, 0 to 890\n",
      "Data columns (total 10 columns):\n",
      "Survived      891 non-null int64\n",
      "Pclass        891 non-null int64\n",
      "Name          891 non-null object\n",
      "Sex           891 non-null int64\n",
      "SibSp         891 non-null int64\n",
      "Parch         891 non-null int64\n",
      "Fare          891 non-null float64\n",
      "Embarked      889 non-null object\n",
      "AgeFill       891 non-null float64\n",
      "FamilySize    891 non-null int64\n",
      "dtypes: float64(2), int64(6), object(2)\n",
      "memory usage: 69.7+ KB\n"
     ]
    }
   ],
   "source": [
    "# map Sex into numerical values\n",
    "train['Sex'] = train['Sex'].map({'male':1,'female':0})\n",
    "\n",
    "# fill age NUll with average values based on Gender and Pclass\n",
    "train['AgeFill'] = train['Age']\n",
    "median_train_ages = np.zeros((2,3))\n",
    "for i in range(0, 2):\n",
    "    for j in range(0, 3):\n",
    "        median_train_ages[i,j] = train[(train['Sex'] == i) & (train['Pclass'] \n",
    "                                            == j+1)]['Age'].dropna().median()\n",
    "for i in range(0, 2):\n",
    "    for j in range(0, 3):\n",
    "        train.loc[(train.Age.isnull()) & (train.Sex == i) & (train.Pclass ==\n",
    "                                        j+1), 'AgeFill'] = median_train_ages[i,j]\n",
    "\n",
    "train['FamilySize'] = train['Parch'] + train['SibSp'] + 1\n",
    "train = train.drop(['PassengerId', 'Cabin', 'Age', 'Ticket'], axis=1)\n",
    "train.info()"
   ]
  },
  {
   "cell_type": "markdown",
   "metadata": {},
   "source": [
    "### Step 4. visualize/analyze train data\n",
    "### Goal: To visualize train data in search for preliminary correlation between survival and other numerical parameters."
   ]
  },
  {
   "cell_type": "code",
   "execution_count": 11,
   "metadata": {
    "collapsed": false
   },
   "outputs": [
    {
     "data": {
      "image/png": "[encoded data removed]",
      "text/plain": [
       "<matplotlib.figure.Figure at 0x2a412121d68>"
      ]
     },
     "metadata": {},
     "output_type": "display_data"
    },
    {
     "name": "stdout",
     "output_type": "stream",
     "text": [
      "<class 'pandas.core.frame.DataFrame'>\n",
      "RangeIndex: 891 entries, 0 to 890\n",
      "Data columns (total 10 columns):\n",
      "Survived      891 non-null int64\n",
      "Pclass        891 non-null int64\n",
      "Name          891 non-null object\n",
      "Sex           891 non-null int64\n",
      "SibSp         891 non-null int64\n",
      "Parch         891 non-null int64\n",
      "Fare          891 non-null float64\n",
      "Embarked      889 non-null object\n",
      "AgeFill       891 non-null float64\n",
      "FamilySize    891 non-null int64\n",
      "dtypes: float64(2), int64(6), object(2)\n",
      "memory usage: 69.7+ KB\n"
     ]
    }
   ],
   "source": [
    "# correlation matrix\n",
    "# 'survived' + other 7 numerical features\n",
    "fig = plt.figure()\n",
    "ax = fig.add_subplot(111)\n",
    "cax = ax.matshow(train.corr(), vmin = -1, vmax = 1, interpolation = 'none')\n",
    "fig.colorbar(cax)\n",
    "plt.show()\n",
    "# negatively correlated with Sex, Pclass; positively correlated with Fare, Parch\n",
    "train.info()"
   ]
  },
  {
   "cell_type": "code",
   "execution_count": 12,
   "metadata": {
    "collapsed": false,
    "scrolled": false
   },
   "outputs": [
    {
     "data": {
      "text/plain": [
       "<matplotlib.axes._subplots.AxesSubplot at 0x2a416ad59e8>"
      ]
     },
     "execution_count": 12,
     "metadata": {},
     "output_type": "execute_result"
    },
    {
     "data": {
      "image/png": "[encoded data removed]",
      "text/plain": [
       "<matplotlib.figure.Figure at 0x2a416aa3470>"
      ]
     },
     "metadata": {},
     "output_type": "display_data"
    }
   ],
   "source": [
    "# Sex: women are more likely to survive, female: 0, male: 1\n",
    "\n",
    "fig, axes = plt.subplots(nrows = 1, ncols = 2)\n",
    "\n",
    "survived_sex = train[train['Survived'] == 1]['Sex'].value_counts()\n",
    "dead_sex = train[train['Survived'] == 0]['Sex'].value_counts()\n",
    "df1 = pd.DataFrame([survived_sex,dead_sex])\n",
    "df1.index = ['Survived','Dead']\n",
    "df1.plot(kind = 'bar',stacked = True, figsize = (12,4), ax = axes[0], title = \"Distribution of Survival (1 = male, 0 = female)\")\n",
    "\n",
    "female_count, male_count = train.groupby('Sex').size()\n",
    "female = train[train['Sex'] == 0]['Survived'].value_counts()/float(female_count)\n",
    "male = train[train['Sex'] == 1]['Survived'].value_counts()/float(male_count)\n",
    "df2 = pd.DataFrame([female, male])\n",
    "df2.index = ['Female','Male']\n",
    "df2.plot(kind = 'bar',stacked = True, figsize = (12,4), ylim = (0, 1.05), ax = axes[1],\\\n",
    "         title = \"Percentage of Survival by Gender (1 = Survived, 0 = Dead)\")"
   ]
  },
  {
   "cell_type": "code",
   "execution_count": 13,
   "metadata": {
    "collapsed": false
   },
   "outputs": [
    {
     "data": {
      "text/plain": [
       "<matplotlib.axes._subplots.AxesSubplot at 0x2a416bc5ac8>"
      ]
     },
     "execution_count": 13,
     "metadata": {},
     "output_type": "execute_result"
    },
    {
     "data": {
      "image/png": "[encoded data removed]",
      "text/plain": [
       "<matplotlib.figure.Figure at 0x2a416aa3160>"
      ]
     },
     "metadata": {},
     "output_type": "display_data"
    }
   ],
   "source": [
    "# Pclass: survival rate: first class > second class > third class\n",
    "fig, axes = plt.subplots(nrows = 1, ncols = 2)\n",
    "\n",
    "survived_class = train[train['Survived'] == 1]['Pclass'].value_counts()\n",
    "dead_class = train[train['Survived'] == 0]['Pclass'].value_counts()\n",
    "df1 = pd.DataFrame([survived_class,dead_class])\n",
    "#df1.index = ['Survived','Dead']\n",
    "df1.plot(kind = 'bar',stacked = True, figsize = (12,4), ax = axes[0], title = \"Distribution of Survival by Class 1,2,3\")\n",
    "\n",
    "class1, class2, class3 = train.groupby('Pclass').size()\n",
    "Pclass1 = train[train['Pclass'] == 1]['Survived'].value_counts()/float(class1)\n",
    "Pclass2 = train[train['Pclass'] == 2]['Survived'].value_counts()/float(class2)\n",
    "Pclass3 = train[train['Pclass'] == 3]['Survived'].value_counts()/float(class3)\n",
    "df2 = pd.DataFrame([Pclass1, Pclass2, Pclass3])\n",
    "df2.index = ['Class_1','Class_2', 'Class_3']\n",
    "df2.plot(kind = 'bar',stacked = True, figsize = (12,4), ylim = (0, 1.05), ax = axes[1],\\\n",
    "         title = \"Percentage of Survival by Class (1 = Survived, 0 = Dead)\")"
   ]
  },
  {
   "cell_type": "code",
   "execution_count": 14,
   "metadata": {
    "collapsed": false
   },
   "outputs": [
    {
     "data": {
      "text/plain": [
       "<matplotlib.text.Text at 0x2a416caa0f0>"
      ]
     },
     "execution_count": 14,
     "metadata": {},
     "output_type": "execute_result"
    },
    {
     "data": {
      "image/png": "[encoded data removed]",
      "text/plain": [
       "<matplotlib.figure.Figure at 0x2a416b7a9b0>"
      ]
     },
     "metadata": {},
     "output_type": "display_data"
    }
   ],
   "source": [
    "# fare: low fare less likely to survive\n",
    "figure = plt.figure(figsize = (6, 4))\n",
    "plt.hist([train[train['Survived'] == 1]['Fare'],train[train['Survived'] == 0]['Fare']], stacked = True, color = ['g','r'],\n",
    "         bins = 20,label = ['Survived','Dead'], normed = True, log = False)\n",
    "plt.xlabel('Fare')\n",
    "plt.ylabel('Percentage of passengers')\n",
    "plt.legend()\n",
    "plt.title(\"Distribution of Fare\")"
   ]
  },
  {
   "cell_type": "code",
   "execution_count": 15,
   "metadata": {
    "collapsed": false
   },
   "outputs": [
    {
     "data": {
      "text/plain": [
       "<matplotlib.legend.Legend at 0x2a416d5ba90>"
      ]
     },
     "execution_count": 15,
     "metadata": {},
     "output_type": "execute_result"
    },
    {
     "data": {
      "image/png": "[encoded data removed]",
      "text/plain": [
       "<matplotlib.figure.Figure at 0x2a416b7af28>"
      ]
     },
     "metadata": {},
     "output_type": "display_data"
    }
   ],
   "source": [
    "# Parch: singlets or families with too many Parch are more likely to die \n",
    "figure = plt.figure(figsize = (6, 4))\n",
    "plt.hist([train[train['Survived'] == 1]['Parch'],train[train['Survived'] == 0]['Parch']], stacked = True, color = ['g','r'],\n",
    "         label = ['Survived','Dead'], normed = True)\n",
    "plt.xlabel('Parch')\n",
    "plt.ylabel('Percentage of passengers')\n",
    "plt.legend()"
   ]
  },
  {
   "cell_type": "code",
   "execution_count": 16,
   "metadata": {
    "collapsed": false
   },
   "outputs": [
    {
     "data": {
      "text/plain": [
       "<matplotlib.legend.Legend at 0x2a416d8f438>"
      ]
     },
     "execution_count": 16,
     "metadata": {},
     "output_type": "execute_result"
    },
    {
     "data": {
      "image/png": "[encoded data removed]",
      "text/plain": [
       "<matplotlib.figure.Figure at 0x2a416dbe390>"
      ]
     },
     "metadata": {},
     "output_type": "display_data"
    }
   ],
   "source": [
    "# SibSp: singleton or people with over 4 Sibling+Spouse are more likely to die.\n",
    "figure = plt.figure(figsize = (6, 4))\n",
    "plt.hist([train[train['Survived'] == 1]['SibSp'],train[train['Survived'] == 0]['SibSp']], stacked = True, color = ['g','r'],\n",
    "         label = ['Survived','Dead'], normed = True)\n",
    "plt.xlabel('SibSp')\n",
    "plt.ylabel('Percentage of passengers')\n",
    "plt.legend()"
   ]
  },
  {
   "cell_type": "code",
   "execution_count": 17,
   "metadata": {
    "collapsed": false
   },
   "outputs": [
    {
     "data": {
      "text/plain": [
       "<matplotlib.legend.Legend at 0x2a416e3eba8>"
      ]
     },
     "execution_count": 17,
     "metadata": {},
     "output_type": "execute_result"
    },
    {
     "data": {
      "image/png": "[encoded data removed]",
      "text/plain": [
       "<matplotlib.figure.Figure at 0x2a416edaba8>"
      ]
     },
     "metadata": {},
     "output_type": "display_data"
    }
   ],
   "source": [
    "# FamilySize: Survival rate: singlets or Families with over 4 people < mid-sized family\n",
    "figure = plt.figure(figsize = (6, 4))\n",
    "plt.hist([train[train['Survived'] == 1]['FamilySize'],train[train['Survived'] == 0]['FamilySize']], stacked = True, color = ['g','r'],\n",
    "         label = ['Survived','Dead'], normed = True)\n",
    "plt.xlabel('FamilySize')\n",
    "plt.ylabel('Percentage of passengers')\n",
    "plt.legend()"
   ]
  },
  {
   "cell_type": "code",
   "execution_count": 18,
   "metadata": {
    "collapsed": false
   },
   "outputs": [
    {
     "data": {
      "text/plain": [
       "<matplotlib.legend.Legend at 0x2a416f66cf8>"
      ]
     },
     "execution_count": 18,
     "metadata": {},
     "output_type": "execute_result"
    },
    {
     "data": {
      "image/png": "[encoded data removed]",
      "text/plain": [
       "<matplotlib.figure.Figure at 0x2a416f2f550>"
      ]
     },
     "metadata": {},
     "output_type": "display_data"
    }
   ],
   "source": [
    "# age: kids below 10 are more likely to survive, older than 65 are less likely.\n",
    "figure = plt.figure(figsize = (6,4))\n",
    "plt.hist([train[train['Survived'] == 1]['AgeFill'],train[train['Survived'] == 0]['AgeFill']],\n",
    "         stacked = True, color = ['g','r'],bins = 30,label = ['Survived','Dead'], normed = True)\n",
    "plt.xlabel('Age')\n",
    "plt.ylabel('Percentage of passengers')\n",
    "plt.legend()"
   ]
  },
  {
   "cell_type": "code",
   "execution_count": 19,
   "metadata": {
    "collapsed": false
   },
   "outputs": [
    {
     "data": {
      "text/plain": [
       "<matplotlib.axes._subplots.AxesSubplot at 0x2a41709f2e8>"
      ]
     },
     "execution_count": 19,
     "metadata": {},
     "output_type": "execute_result"
    },
    {
     "data": {
      "image/png": "[encoded data removed]",
      "text/plain": [
       "<matplotlib.figure.Figure at 0x2a4149021d0>"
      ]
     },
     "metadata": {},
     "output_type": "display_data"
    }
   ],
   "source": [
    "# ticket fare corelate with class\n",
    "ax = plt.subplot()\n",
    "ax.set_ylabel('Average fare')\n",
    "train.groupby('Pclass').mean()['Fare'].plot(kind='bar',figsize=(6,4), ax = ax)"
   ]
  },
  {
   "cell_type": "markdown",
   "metadata": {},
   "source": [
    "### Step 5. Feature engineering\n",
    "#### Engineer features and further cleaning data based on intuition on the data from previous analysis\n",
    "#### 1) map all object into numerical values 2) change all multivariant into binary(0, 1)/dummy columns 3) remove useless columns"
   ]
  },
  {
   "cell_type": "code",
   "execution_count": 20,
   "metadata": {
    "collapsed": false
   },
   "outputs": [
    {
     "name": "stdout",
     "output_type": "stream",
     "text": [
      "<class 'pandas.core.frame.DataFrame'>\n",
      "RangeIndex: 1309 entries, 0 to 1308\n",
      "Data columns (total 10 columns):\n",
      "Pclass      1309 non-null int64\n",
      "Name        1309 non-null object\n",
      "Sex         1309 non-null object\n",
      "Age         1046 non-null float64\n",
      "SibSp       1309 non-null int64\n",
      "Parch       1309 non-null int64\n",
      "Ticket      1309 non-null object\n",
      "Fare        1308 non-null float64\n",
      "Cabin       295 non-null object\n",
      "Embarked    1307 non-null object\n",
      "dtypes: float64(2), int64(3), object(5)\n",
      "memory usage: 102.3+ KB\n"
     ]
    }
   ],
   "source": [
    "# combine train and test data so that their features are engineered in the same way\n",
    "# the only difference between test data and training data is that test data doesn't have 'Survived' column.\n",
    "def get_combined_data():\n",
    "    # reading train data\n",
    "    train = pd.read_csv('train.csv', header=0)\n",
    "    test = pd.read_csv('test.csv', header=0)\n",
    "    \n",
    "    # extracting and then removing the targets from the training data \n",
    "    target = train['Survived']\n",
    "    train.drop('Survived', 1, inplace=True)\n",
    "\n",
    "    # merging train data and test data for future feature engineering\n",
    "    combined = train.append(test)\n",
    "    combined.reset_index(inplace=True)\n",
    "    combined.drop(['index', 'PassengerId'],inplace=True,axis=1)\n",
    "    \n",
    "    return combined, target\n",
    "    \n",
    "combined, train_y = get_combined_data()\n",
    "\n",
    "combined.info()"
   ]
  },
  {
   "cell_type": "code",
   "execution_count": 21,
   "metadata": {
    "collapsed": false
   },
   "outputs": [
    {
     "data": {
      "text/plain": [
       "0                                 Braund, Mr. Owen Harris\n",
       "1       Cumings, Mrs. John Bradley (Florence Briggs Th...\n",
       "2                                  Heikkinen, Miss. Laina\n",
       "3            Futrelle, Mrs. Jacques Heath (Lily May Peel)\n",
       "4                                Allen, Mr. William Henry\n",
       "5                                        Moran, Mr. James\n",
       "6                                 McCarthy, Mr. Timothy J\n",
       "7                          Palsson, Master. Gosta Leonard\n",
       "8       Johnson, Mrs. Oscar W (Elisabeth Vilhelmina Berg)\n",
       "9                     Nasser, Mrs. Nicholas (Adele Achem)\n",
       "10                        Sandstrom, Miss. Marguerite Rut\n",
       "11                               Bonnell, Miss. Elizabeth\n",
       "12                         Saundercock, Mr. William Henry\n",
       "13                            Andersson, Mr. Anders Johan\n",
       "14                   Vestrom, Miss. Hulda Amanda Adolfina\n",
       "15                       Hewlett, Mrs. (Mary D Kingcome) \n",
       "16                                   Rice, Master. Eugene\n",
       "17                           Williams, Mr. Charles Eugene\n",
       "18      Vander Planke, Mrs. Julius (Emelia Maria Vande...\n",
       "19                                Masselmani, Mrs. Fatima\n",
       "20                                   Fynney, Mr. Joseph J\n",
       "21                                  Beesley, Mr. Lawrence\n",
       "22                            McGowan, Miss. Anna \"Annie\"\n",
       "23                           Sloper, Mr. William Thompson\n",
       "24                          Palsson, Miss. Torborg Danira\n",
       "25      Asplund, Mrs. Carl Oscar (Selma Augusta Emilia...\n",
       "26                                Emir, Mr. Farred Chehab\n",
       "27                         Fortune, Mr. Charles Alexander\n",
       "28                          O'Dwyer, Miss. Ellen \"Nellie\"\n",
       "29                                    Todoroff, Mr. Lalio\n",
       "                              ...                        \n",
       "1279                                 Canavan, Mr. Patrick\n",
       "1280                          Palsson, Master. Paul Folke\n",
       "1281                           Payne, Mr. Vivian Ponsonby\n",
       "1282       Lines, Mrs. Ernest H (Elizabeth Lindsey James)\n",
       "1283                        Abbott, Master. Eugene Joseph\n",
       "1284                                 Gilbert, Mr. William\n",
       "1285                             Kink-Heilmann, Mr. Anton\n",
       "1286       Smith, Mrs. Lucien Philip (Mary Eloise Hughes)\n",
       "1287                                 Colbert, Mr. Patrick\n",
       "1288    Frolicher-Stehli, Mrs. Maxmillian (Margaretha ...\n",
       "1289                       Larsson-Rondberg, Mr. Edvard A\n",
       "1290                             Conlon, Mr. Thomas Henry\n",
       "1291                              Bonnell, Miss. Caroline\n",
       "1292                                      Gale, Mr. Harry\n",
       "1293                       Gibson, Miss. Dorothy Winifred\n",
       "1294                               Carrau, Mr. Jose Pedro\n",
       "1295                         Frauenthal, Mr. Isaac Gerald\n",
       "1296         Nourney, Mr. Alfred (Baron von Drachstedt\")\"\n",
       "1297                            Ware, Mr. William Jeffery\n",
       "1298                           Widener, Mr. George Dunton\n",
       "1299                      Riordan, Miss. Johanna Hannah\"\"\n",
       "1300                            Peacock, Miss. Treasteall\n",
       "1301                               Naughton, Miss. Hannah\n",
       "1302      Minahan, Mrs. William Edward (Lillian E Thorpe)\n",
       "1303                       Henriksson, Miss. Jenny Lovisa\n",
       "1304                                   Spector, Mr. Woolf\n",
       "1305                         Oliva y Ocana, Dona. Fermina\n",
       "1306                         Saether, Mr. Simon Sivertsen\n",
       "1307                                  Ware, Mr. Frederick\n",
       "1308                             Peter, Master. Michael J\n",
       "Name: Name, dtype: object"
      ]
     },
     "execution_count": 21,
     "metadata": {},
     "output_type": "execute_result"
    }
   ],
   "source": [
    "combined['Name']"
   ]
  },
  {
   "cell_type": "code",
   "execution_count": 22,
   "metadata": {
    "collapsed": false
   },
   "outputs": [
    {
     "name": "stdout",
     "output_type": "stream",
     "text": [
      "[('mr', 763), ('miss', 260), ('mrs', 201), ('william', 87), ('john', 72), ('master', 61), ('henry', 49), ('charles', 40), ('james', 38), ('george', 37), ('thomas', 36), ('joseph', 31), ('mary', 30), ('edward', 28), ('elizabeth', 25), ('johan', 22), ('frederick', 21), ('alexander', 20), ('arthur', 20), ('samuel', 20), ('alfred', 18), ('anna', 18), ('maria', 18), ('robert', 18), ('richard', 16), ('albert', 14), ('frank', 14), ('jr', 14), ('karl', 14), ('margaret', 14), ('peter', 13), ('alice', 12), ('andersson', 12), ('ernest', 12), ('patrick', 12), ('annie', 11), ('harry', 11), ('sage', 11), ('edith', 10), ('ellen', 10), ('helen', 10), ('kate', 10), ('leonard', 10), ('martin', 10), ('walter', 10), ('catherine', 9), ('david', 9), ('de', 9), ('elias', 9), ('francis', 9), ('asplund', 8), ('august', 8), ('brown', 8), ('carl', 8), ('daniel', 8), ('dr', 8), ('goodwin', 8), ('louise', 8), ('rev', 8), ('van', 8), ('victor', 8), ('benjamin', 7), ('bertha', 7), ('bertram', 7), ('davies', 7), ('emil', 7), ('ernst', 7), ('florence', 7), ('ford', 7), ('marie', 7), ('nils', 7), ('williams', 7), ('ada', 6), ('andrew', 6), ('augusta', 6), ('bridget', 6), ('carter', 6), ('delia', 6), ('douglas', 6), ('edvard', 6), ('emily', 6), ('fortune', 6), ('gustaf', 6), ('gustafsson', 6), ('hansen', 6), ('howard', 6), ('ida', 6), ('ivan', 6), ('johansson', 6), ('johnson', 6), ('katherine', 6), ('olsen', 6), ('panula', 6), ('philip', 6), ('rice', 6), ('skoog', 6), ('smith', 6), ('sofia', 6), ('abraham', 5), ('anne', 5), ('boulos', 5), ('edvin', 5), ('elisabeth', 5), ('emma', 5), ('gilbert', 5), ('hanna', 5), ('harris', 5), ('herbert', 5), ('herman', 5), ('hocking', 5), ('jane', 5), ('kelly', 5), ('kink', 5), ('lefebre', 5), ('marion', 5), ('michael', 5), ('nellie', 5), ('oscar', 5), ('palsson', 5), ('ryerson', 5), ('sidney', 5), ('vander', 5), ('white', 5), ('adolf', 4), ('agnes', 4), ('ali', 4), ('allison', 4), ('arnold', 4), ('augustus', 4), ('baclini', 4), ('barbara', 4), ('becker', 4), ('bengtsson', 4), ('betros', 4), ('bradley', 4), ('cacic', 4), ('clifford', 4), ('col', 4), ('constance', 4), ('dean', 4), ('dorothy', 4), ('edgar', 4), ('edwin', 4), ('elsie', 4), ('ethel', 4), ('eugene', 4), ('frances', 4), ('goldsmith', 4), ('graham', 4), ('hannah', 4), ('hans', 4), ('harper', 4), ('hart', 4), ('hays', 4), ('heilmann', 4), ('helene', 4), ('hugh', 4), ('jacob', 4), ('jakob', 4), ('jean', 4), ('jensen', 4), ('jessie', 4), ('johannes', 4), ('johnston', 4), ('julia', 4), ('julius', 4), ('karlsson', 4), ('katie', 4), ('khalil', 4), ('laroche', 4), ('larsson', 4), ('leo', 4), ('lillian', 4), ('martha', 4), ('matilda', 4), ('may', 4), ('morgan', 4), ('nora', 4), ('norman', 4), ('olof', 4), ('oskar', 4), ('paul', 4), ('percival', 4), ('percy', 4), ('phillips', 4), ('planke', 4), ('reginald', 4), ('richards', 4), ('solomon', 4), ('stanley', 4), ('stephen', 4), ('svensson', 4), ('tannous', 4), ('taylor', 4), ('thayer', 4), ('viktor', 4), ('ware', 4), ('washington', 4), ('watson', 4), ('west', 4), ('wilhelm', 4), ('youssef', 4), ('abbott', 3), ('allen', 3), ('amelia', 3), ('amy', 3), ('anders', 3), ('andersen', 3), ('anderson', 3), ('andrews', 3), ('ann', 3), ('baxter', 3), ('billiard', 3), ('borie', 3), ('borland', 3), ('bourke', 3), ('brien', 3), ('caldwell', 3), ('campbell', 3), ('carlsson', 3), ('caroline', 3), ('chapman', 3), ('charlotte', 3), ('christy', 3), ('clarke', 3), ('collyer', 3), ('compton', 3), ('cor', 3), ('coutts', 3), ('crosby', 3), ('daly', 3), ('danbom', 3), ('davis', 3), ('dodge', 3), ('drew', 3), ('eleanor', 3), ('elin', 3), ('eliza', 3), ('emilia', 3), ('emilio', 3), ('erik', 3), ('fleming', 3), ('flynn', 3), ('franchi', 3), ('frauenthal', 3), ('frederic', 3), ('fredrik', 3), ('frolicher', 3), ('gertrude', 3), ('giles', 3), ('gladys', 3), ('gordon', 3), ('hall', 3), ('hanora', 3), ('harold', 3), ('hickman', 3), ('hoyt', 3), ('hudson', 3), ('hughes', 3), ('ii', 3), ('impe', 3), ('irene', 3), ('isidor', 3), ('jacques', 3), ('jefferys', 3), ('johanna', 3), ('jose', 3), ('juha', 3), ('julian', 3), ('jussila', 3), ('keane', 3), ('klasen', 3), ('lamson', 3), ('lily', 3), ('lucien', 3), ('mabel', 3), ('madeleine', 3), ('maggie', 3), ('mallet', 3), ('mark', 3), ('marshall', 3), ('mccoy', 3), ('meyer', 3), ('miller', 3), ('minahan', 3), ('miriam', 3), ('moran', 3), ('moubarek', 3), ('murphy', 3), ('nakid', 3), ('navratil', 3), ('neal', 3), ('nelson', 3), ('newell', 3), ('nicola', 3), ('nilsson', 3), ('olsson', 3), ('oreskovic', 3), ('peacock', 3), ('persson', 3), ('quick', 3), ('rene', 3), ('rogers', 3), ('rosalie', 3), ('rosblom', 3), ('ruth', 3), ('samaan', 3), ('sandstrom', 3), ('sigrid', 3), ('simon', 3), ('spedden', 3), ('spencer', 3), ('stehli', 3), ('taussig', 3), ('thorne', 3), ('thornton', 3), ('touma', 3), ('vivian', 3), ('walton', 3), ('ward', 3), ('warren', 3), ('wells', 3), ('wick', 3), ('widener', 3), ('wilson', 3), ('wright', 3), ('aaron', 2), ('abelseth', 2), ('abelson', 2), ('abi', 2), ('achilles', 2), ('adele', 2), ('adrian', 2), ('aks', 2), ('alexandra', 2), ('alfons', 2), ('alfrida', 2), ('amin', 2), ('andreas', 2), ('angle', 2), ('anthony', 2), ('antoinette', 2), ('anton', 2), ('antoni', 2), ('antti', 2), ('archibald', 2), ('arne', 2), ('arvid', 2), ('assad', 2), ('assaf', 2), ('astor', 2), ('attalah', 2), ('austin', 2), ('backstrom', 2), ('baird', 2), ('baptiste', 2), ('beane', 2), ('beckwith', 2), ('berglund', 2), ('berk', 2), ('bessie', 2), ('birkhardt', 2), ('bishop', 2), ('bloomfield', 2), ('bonnell', 2), ('bowen', 2), ('bowerman', 2), ('braund', 2), ('brogren', 2), ('bryhl', 2), ('buckley', 2), ('bullen', 2), ('burns', 2), ('calic', 2), ('canavan', 2), ('caram', 2), ('cardeza', 2), ('carlo', 2), ('carr', 2), ('carrau', 2), ('carrie', 2), ('castellana', 2), ('cavendish', 2), ('chaffee', 2), ('chambers', 2), ('charlotta', 2), ('christian', 2), ('chronopoulos', 2), ('clara', 2), ('clarence', 2), ('clark', 2), ('claus', 2), ('coleff', 2), ('connolly', 2), ('connor', 2), ('cook', 2), ('courtenay', 2), ('cribb', 2), ('cumings', 2), ('daisy', 2), ('daniels', 2), ('davidson', 2), ('davison', 2), ('del', 2), ('denis', 2), ('dennick', 2), ('dennis', 2), ('dick', 2), ('dickinson', 2), ('doling', 2), ('donald', 2), ('drake', 2), ('duane', 2), ('duff', 2), ('dunton', 2), ('duran', 2), ('dyker', 2), ('edmond', 2), ('edmund', 2), ('edwy', 2), ('eileen', 2), ('einar', 2), ('eino', 2), ('elkins', 2), ('elmer', 2), ('emanuel', 2), ('eugenie', 2), ('eustis', 2), ('eva', 2), ('faunthorpe', 2), ('fischer', 2), ('foley', 2), ('forbes', 2), ('fox', 2), ('franklin', 2), ('franz', 2), ('fuller', 2), ('futrelle', 2), ('gale', 2), ('gerda', 2), ('gerios', 2), ('gerious', 2), ('gertrud', 2), ('gibson', 2), ('gifford', 2), ('gillespie', 2), ('godfrey', 2), ('goldenberg', 2), ('grace', 2), ('greenfield', 2), ('gretchen', 2), ('guillaume', 2), ('hagland', 2), ('hakkarainen', 2), ('hamalainen', 2), ('harald', 2), ('harbeck', 2), ('harder', 2), ('harvey', 2), ('heath', 2), ('hedwig', 2), ('helena', 2), ('henrik', 2), ('hilda', 2), ('hippach', 2), ('hirvonen', 2), ('hjalmar', 2), ('hold', 2), ('holverson', 2), ('hubert', 2), ('hugo', 2), ('hulda', 2), ('hunt', 2), ('ilmakangas', 2), ('ingeborg', 2), ('jacobsohn', 2), ('jeannie', 2), ('jennie', 2), ('jenny', 2), ('joel', 2), ('jonsson', 2), ('josef', 2), ('josefina', 2), ('juho', 2), ('kantor', 2), ('karun', 2), ('keefe', 2), ('kenyon', 2), ('kiernan', 2), ('kimball', 2), ('konrad', 2), ('kristina', 2), ('lahtinen', 2), ('lalio', 2), ('lam', 2), ('lane', 2), ('larned', 2), ('laura', 2), ('lauritz', 2), ('lawrence', 2), ('leary', 2), ('lee', 2), ('lennon', 2), ('leopold', 2), ('leslie', 2), ('lester', 2), ('lewis', 2), ('lilian', 2), ('lindell', 2), ('lindqvist', 2), ('lines', 2), ('ling', 2), ('lobb', 2), ('long', 2), ('louch', 2), ('louis', 2), ('louisa', 2), ('lucile', 2), ('lucy', 2), ('luise', 2), ('luka', 2), ('mahon', 2), ('major', 2), ('malkolm', 2), ('manley', 2), ('manuel', 2), ('marija', 2), ('marjorie', 2), ('martinez', 2), ('marvin', 2), ('mathias', 2), ('mathilde', 2), ('matthew', 2), ('matti', 2), ('maurice', 2), ('mauritz', 2), ('maxfield', 2), ('maxmillian', 2), ('mccarthy', 2), ('mcgowan', 2), ('mcnamee', 2), ('mellinger', 2), ('melville', 2), ('messemaeker', 2), ('michel', 2), ('minko', 2), ('mlle', 2), ('mock', 2), ('monypeny', 2), ('moor', 2), ('moore', 2), ('more', 2), ('morley', 2), ('morris', 2), ('ms', 2), ('nasser', 2), ('natalia', 2), ('needs', 2), ('nicholas', 2), ('nikolai', 2), ('noel', 2), ('oakley', 2), ('olaf', 2), ('oliver', 2), ('ostby', 2), ('owen', 2), ('parker', 2), ('parrish', 2), ('pauline', 2), ('pears', 2), ('peder', 2), ('pekka', 2), ('penasco', 2), ('petroff', 2), ('phyllis', 2), ('pietari', 2), ('pillsbury', 2), ('pokrnic', 2), ('polk', 2), ('potter', 2), ('ralph', 2), ('razi', 2), ('renouf', 2), ('risien', 2), ('robins', 2), ('roger', 2), ('romaine', 2), ('rosa', 2), ('rothschild', 2), ('rowe', 2), ('rudolf', 2), ('ryan', 2), ('saad', 2), ('sara', 2), ('sarah', 2), ('sarkis', 2), ('satode', 2), ('scott', 2), ('sebastiano', 2), ('sigvard', 2), ('silvey', 2), ('sinai', 2), ('sleeper', 2), ('snyder', 2), ('sophia', 2), ('stanton', 2), ('stengel', 2), ('stone', 2), ('straus', 2), ('strom', 2), ('stuart', 2), ('susan', 2), ('thamine', 2), ('theodor', 2), ('thompson', 2), ('thomson', 2), ('thorneycroft', 2), ('timothy', 2), ('tobin', 2), ('turpin', 2), ('tyrell', 2), ('vande', 2), ('vassilios', 2), ('vera', 2), ('vilhelm', 2), ('virginia', 2), ('warner', 2), ('watt', 2), ('webber', 2), ('weisz', 2), ('wiklund', 2), ('winifred', 2), ('winnie', 2), ('yarred', 2), ('yasbeck', 2), ('yousseff', 2), ('zabour', 2), ('zakarian', 2), ('zebley', 2), ('abbing', 1), ('abrahamsson', 1), ('abrahim', 1), ('achem', 1), ('achille', 1), ('adahl', 1), ('adams', 1), ('addie', 1), ('adelaide', 1), ('adelia', 1), ('adola', 1), ('adolfina', 1), ('adolphe', 1), ('agatha', 1), ('agda', 1), ('ahlin', 1), ('ahmed', 1), ('aijo', 1), ('aime', 1), ('aina', 1), ('akar', 1), ('albimona', 1), ('albin', 1), ('albina', 1), ('alden', 1), ('aldworth', 1), ('alexanteri', 1), ('alexenia', 1), ('alfonzo', 1), ('algernon', 1), ('algot', 1), ('alhomaki', 1), ('alicia', 1), ('aline', 1), ('allis', 1), ('allum', 1), ('alma', 1), ('aloisia', 1), ('amalie', 1), ('amanda', 1), ('ambrose', 1), ('amelie', 1), ('amenia', 1), ('andre', 1), ('andreasson', 1), ('andree', 1), ('andy', 1), ('angheloff', 1), ('annan', 1), ('antino', 1), ('antonine', 1), ('apostolos', 1), ('appleton', 1), ('archie', 1), ('argenia', 1), ('arman', 1), ('aronsson', 1), ('artagaveytia', 1), ('artur', 1), ('ashby', 1), ('asim', 1), ('assam', 1), ('assi', 1), ('asuncion', 1), ('atkinson', 1), ('aubart', 1), ('augustsson', 1), ('aurora', 1), ('austen', 1), ('axel', 1), ('ayoub', 1), ('baccos', 1), ('badman', 1), ('badt', 1), ('bailey', 1), ('baimbrigge', 1), ('balkic', 1), ('ball', 1), ('banfield', 1), ('banoura', 1), ('baptist', 1), ('barah', 1), ('barber', 1), ('barkworth', 1), ('baron', 1), ('barrett', 1), ('barron', 1), ('barry', 1), ('bartol', 1), ('barton', 1), ('bateman', 1), ('baumann', 1), ('baumgardner', 1), ('bazzani', 1), ('beard', 1), ('beatrice', 1), ('beattie', 1), ('beauchamp', 1), ('beavan', 1), ('bechstein', 1), ('beesley', 1), ('behr', 1), ('beila', 1), ('bengt', 1), ('bennett', 1), ('bentham', 1), ('berg', 1), ('bernard', 1), ('bernhardina', 1), ('bernt', 1), ('berriman', 1), ('berta', 1), ('berthe', 1), ('bidois', 1), ('bing', 1), ('bird', 1), ('birger', 1), ('birkeland', 1), ('birnbaum', 1), ('bissette', 1), ('bjorklund', 1), ('bjornstrom', 1), ('blackwell', 1), ('blanche', 1), ('blank', 1), ('blumer', 1), ('blun', 1), ('blyler', 1), ('boeson', 1), ('bone', 1), ('borebank', 1), ('bostandyeff', 1), ('botsford', 1), ('boulton', 1), ('bowenur', 1), ('bracken', 1), ('brady', 1), ('braf', 1), ('brandeis', 1), ('branko', 1), ('bratthammer', 1), ('brayton', 1), ('brewe', 1), ('brigdet', 1), ('briggs', 1), ('brines', 1), ('brito', 1), ('brobeck', 1), ('brocklebank', 1), ('bruce', 1), ('bucknell', 1), ('burke', 1), ('buss', 1), ('butler', 1), ('butt', 1), ('byles', 1), ('bystrom', 1), ('cahoone', 1), ('cairns', 1), ('calderhead', 1), ('cameron', 1), ('camille', 1), ('candee', 1), ('cann', 1), ('capt', 1), ('carbines', 1), ('carla', 1), ('carmichael', 1), ('carver', 1), ('case', 1), ('cassebeer', 1), ('cassem', 1), ('castello', 1), ('catavelas', 1), ('cater', 1), ('catharina', 1), ('celia', 1), ('celotti', 1), ('cerin', 1), ('cervin', 1), ('chamberlain', 1), ('chang', 1), ('chaput', 1), ('charity', 1), ('charters', 1), ('chaudanson', 1), ('chehab', 1), ('cherry', 1), ('chevre', 1), ('chibnall', 1), ('chip', 1), ('chisholm', 1), ('choong', 1), ('christiana', 1), ('christine', 1), ('christmann', 1), ('christo', 1), ('christopher', 1), ('churchill', 1), ('claire', 1), ('clear', 1), ('cleaver', 1), ('clemmer', 1), ('clinch', 1), ('clinton', 1), ('clyde', 1), ('coelho', 1), ('cohen', 1), ('colbert', 1), ('coleridge', 1), ('collander', 1), ('collett', 1), ('colley', 1), ('colvin', 1), ('conlon', 1), ('connaghton', 1), ('connell', 1), ('connors', 1), ('conover', 1), ('constanzia', 1), ('corbett', 1), ('cordelia', 1), ('corey', 1), ('corn', 1), ('cornelia', 1), ('cornelius', 1), ('cornell', 1), ('corning', 1), ('corse', 1), ('cosmo', 1), ('cotterill', 1), ('countess', 1), ('coxon', 1), ('crafton', 1), ('crease', 1), ('creighton', 1), ('cresson', 1), ('crispin', 1), ('crothers', 1), ('cruyssen', 1), ('culumovic', 1), ('cummins', 1), ('cunningham', 1), ('curnow', 1), ('cyriel', 1), ('dagmar', 1), ('daher', 1), ('dahl', 1), ('dahlberg', 1), ('dai', 1), ('dakic', 1), ('dale', 1), ('damsgaard', 1), ('danielsen', 1), ('danira', 1), ('danoff', 1), ('dantcheff', 1), ('dart', 1), ('darwis', 1), ('davids', 1), ('deacon', 1), ('delalic', 1), ('delaudeniere', 1), ('demetri', 1), ('demetrios', 1), ('denbury', 1), ('denkoff', 1), ('denzil', 1), ('der', 1), ('devaney', 1), ('dibden', 1), ('dibo', 1), ('dika', 1), ('dimic', 1), ('dintcheff', 1), ('doharr', 1), ('dolck', 1), ('dolly', 1), ('domingos', 1), ('don', 1), ('dona', 1), ('donoghue', 1), ('dooley', 1), ('doolina', 1), ('dorking', 1), ('dowdell', 1), ('downton', 1), ('doyle', 1), ('drachstedt', 1), ('drapkin', 1), ('drazenoic', 1), ('driscoll', 1), ('dulles', 1), ('duquemin', 1), ('dutton', 1), ('dwyer', 1), ('dyer', 1), ('earnshaw', 1), ('easu', 1), ('ebba', 1), ('eberhard', 1), ('eden', 1), ('edgardo', 1), ('edmondus', 1), ('edvardsson', 1), ('edwards', 1), ('edwart', 1), ('edwiga', 1), ('edwina', 1), ('eiriik', 1), ('eitemiller', 1), ('eklund', 1), ('ekstrom', 1), ('elida', 1), ('eliezer', 1), ('eliina', 1), ('elina', 1), ('elise', 1), ('ella', 1), ('ellie', 1), ('ellis', 1), ('elna', 1), ('eloise', 1), ('elon', 1), ('elsbury', 1), ('emelia', 1), ('emerentia', 1), ('emile', 1), ('emilie', 1), ('emir', 1), ('enander', 1), ('encarnacion', 1), ('endres', 1), ('engelhart', 1), ('ennis', 1), ('eric', 1), ('erland', 1), ('erna', 1), ('ernesti', 1), ('ervin', 1), ('escott', 1), ('estanslas', 1), ('ester', 1), ('esther', 1), ('eugen', 1), ('eugenia', 1), ('evan', 1), ('evans', 1), ('evelyn', 1), ('everett', 1), ('fabian', 1), ('fahim', 1), ('fahlstrom', 1), ('fang', 1), ('fannie', 1), ('fardon', 1), ('fared', 1), ('farnham', 1), ('farquarson', 1), ('farred', 1), ('farrell', 1), ('farthing', 1), ('fatima', 1), ('felix', 1), ('fellows', 1), ('fenton', 1), ('ferdinand', 1), ('fermina', 1), ('fernand', 1), ('fernandeo', 1), ('filip', 1), ('fillbrook', 1), ('finck', 1), ('finoli', 1), ('fisher', 1), ('fiske', 1), ('flegenheim', 1), ('fletcher', 1), ('flora', 1), ('florentina', 1), ('floyd', 1), ('folke', 1), ('foo', 1), ('forby', 1), ('force', 1), ('foreman', 1), ('fosdick', 1), ('francatelli', 1), ('francesco', 1), ('francisco', 1), ('francoise', 1), ('frankie', 1), ('frans', 1), ('frasar', 1), ('fridtjof', 1), ('frost', 1), ('fry', 1), ('funk', 1), ('fynney', 1), ('gallagher', 1), ('garfirth', 1), ('garside', 1), ('gaskell', 1), ('gates', 1), ('gavey', 1), ('gee', 1), ('geiger', 1), ('genevieve', 1), ('genovesi', 1), ('georges', 1), ('georgetta', 1), ('georgette', 1), ('gerald', 1), ('gervasius', 1), ('gheorgheff', 1), ('gideon', 1), ('giglio', 1), ('gilinski', 1), ('gill', 1), ('gilnagh', 1), ('giuseppe', 1), ('givard', 1), ('glynn', 1), ('goldschmidt', 1), ('goncalves', 1), ('gonios', 1), ('goransson', 1), ('gosta', 1), ('gottfrid', 1), ('govaert', 1), ('grabowska', 1), ('gracie', 1), ('green', 1), ('greenberg', 1), ('gregg', 1), ('grga', 1), ('grice', 1), ('griggs', 1), ('gronnestad', 1), ('guentcho', 1), ('guest', 1), ('guggenheim', 1), ('gunnar', 1), ('gurshon', 1), ('gus', 1), ('gustave', 1), ('haas', 1), ('hagardon', 1), ('haim', 1), ('hakan', 1), ('halaut', 1), ('hale', 1), ('halim', 1), ('hallace', 1), ('halstead', 1), ('halvorsen', 1), ('hammad', 1), ('hampe', 1), ('hanne', 1), ('harbaugh', 1), ('harknett', 1), ('harmer', 1), ('harriet', 1), ('harrington', 1), ('harrison', 1), ('hassab', 1), ('hassan', 1), ('hastings', 1), ('hatfield', 1), ('haven', 1), ('hawksford', 1), ('haxtun', 1), ('hayden', 1), ('head', 1), ('healy', 1), ('hedman', 1), ('hee', 1), ('hegarty', 1), ('heikkinen', 1), ('heininen', 1), ('heinsheimer', 1), ('helga', 1), ('hellstrom', 1), ('helmina', 1), ('hendekovic', 1), ('henriette', 1), ('henriksson', 1), ('hewlett', 1), ('hilding', 1), ('hildur', 1), ('hileni', 1), ('hill', 1), ('hilliard', 1), ('hiltunen', 1), ('hipkins', 1), ('hitchcock', 1), ('hodges', 1), ('hoef', 1), ('hoffman', 1), ('hogeboom', 1), ('holland', 1), ('holm', 1), ('holmes', 1), ('holthen', 1), ('homer', 1), ('honkanen', 1), ('honora', 1), ('hood', 1), ('horgan', 1), ('hosono', 1), ('houssein', 1), ('howell', 1), ('hull', 1), ('humblen', 1), ('hungerford', 1), ('husein', 1), ('hyman', 1), ('ibrahim', 1), ('icard', 1), ('ignjac', 1), ('iisakki', 1), ('ilario', 1), ('ileen', 1), ('ilett', 1), ('ilia', 1), ('ilieff', 1), ('ilmari', 1), ('imanita', 1), ('ingersoll', 1), ('inglis', 1), ('ingvald', 1), ('ingvar', 1), ('iris', 1), ('irving', 1), ('irwin', 1), ('isaac', 1), ('isham', 1), ('ismay', 1), ('israel', 1), ('iv', 1), ('ivanoff', 1), ('ivar', 1), ('jaako', 1), ('jackson', 1), ('jacobsen', 1), ('jalsevac', 1), ('jamila', 1), ('jan', 1), ('janko', 1), ('jansson', 1), ('jardin', 1), ('jarvis', 1), ('jeffery', 1), ('jego', 1), ('jelka', 1), ('jenkin', 1), ('jennings', 1), ('jeremiah', 1), ('jermyn', 1), ('jerwan', 1), ('jeso', 1), ('joackim', 1), ('joan', 1), ('joaquim', 1), ('johann', 1), ('johannesen', 1), ('johannesson', 1), ('johanson', 1), ('jonas', 1), ('jones', 1), ('jonkheer', 1), ('jonkoff', 1), ('jorgensen', 1), ('josefa', 1), ('josefine', 1), ('joshua', 1), ('jovan', 1), ('jovo', 1), ('jozef', 1), ('judith', 1), ('juhantytar', 1), ('julie', 1), ('juliet', 1), ('juliette', 1), ('junkins', 1), ('juozas', 1), ('juul', 1), ('kalle', 1), ('kallio', 1), ('kalvik', 1), ('kanio', 1), ('karaic', 1), ('karen', 1), ('karnes', 1), ('karoliina', 1), ('karolina', 1), ('karvin', 1), ('kassem', 1), ('katavelas', 1), ('katriina', 1), ('keeping', 1), ('kennedy', 1), ('kent', 1), ('kiamie', 1), ('kilgannon', 1), ('kimber', 1), ('kingcome', 1), ('kirkland', 1), ('klaber', 1), ('klas', 1), ('knight', 1), ('knud', 1), ('konstantia', 1), ('kornelia', 1), ('kraeff', 1), ('krekorian', 1), ('kreuchen', 1), ('kristensen', 1), ('kristine', 1), ('kristo', 1), ('kurt', 1), ('kvillner', 1), ('lady', 1), ('lafargue', 1), ('lahoud', 1), ('laina', 1), ('laitinen', 1), ('laleff', 1), ('lamb', 1), ('lambert', 1), ('landergren', 1), ('lang', 1), ('latifa', 1), ('laury', 1), ('laventall', 1), ('laver', 1), ('lawry', 1), ('lazar', 1), ('leader', 1), ('leah', 1), ('leander', 1), ('leeni', 1), ('lehmann', 1), ('leila', 1), ('leinonen', 1), ('leitch', 1), ('lemberopolous', 1), ('lemercier', 1), ('lemore', 1), ('len', 1), ('lena', 1), ('leon', 1), ('leontine', 1), ('leroy', 1), ('lesurer', 1), ('levy', 1), ('lewy', 1), ('leyson', 1), ('lievens', 1), ('light', 1), ('lind', 1), ('lindahl', 1), ('lindblom', 1), ('lindeberg', 1), ('lindsey', 1), ('lindstrom', 1), ('linehan', 1), ('lingane', 1), ('lingrey', 1), ('linhart', 1), ('linus', 1), ('lionel', 1), ('lishin', 1), ('lithman', 1), ('liudevit', 1), ('livija', 1), ('lizzie', 1), ('loch', 1), ('lockyer', 1), ('lofqvist', 1), ('longley', 1), ('longstreth', 1), ('loraine', 1), ('loring', 1), ('lottie', 1), ('lovell', 1), ('lovisa', 1), ('lucille', 1), ('luigi', 1), ('lulic', 1), ('lulu', 1), ('lundahl', 1), ('lundin', 1), ('lundstrom', 1), ('lurette', 1), ('lutie', 1), ('lyntakoff', 1), ('lyyli', 1), ('mack', 1), ('mackay', 1), ('madigan', 1), ('madill', 1), ('madsen', 1), ('mae', 1), ('maeglin', 1), ('maenpaa', 1), ('magnin', 1), ('maguire', 1), ('mahala', 1), ('maidment', 1), ('maioni', 1), ('maisner', 1), ('makinen', 1), ('malachard', 1), ('malake', 1), ('malvina', 1), ('mamee', 1), ('manca', 1), ('manda', 1), ('mandelbaum', 1), ('manent', 1), ('mangan', 1), ('mangiavacchi', 1), ('mannion', 1), ('mansouer', 1), ('mansour', 1), ('manta', 1), ('mantoura', 1), ('mapriededer', 1), ('mara', 1), ('marcella', 1), ('mardirosian', 1), ('marechal', 1), ('margareta', 1), ('margareth', 1), ('margaretha', 1), ('margaretta', 1), ('margaritha', 1), ('margido', 1), ('margit', 1), ('marguerite', 1), ('mari', 1), ('marian', 1), ('mariana', 1), ('marin', 1), ('marinko', 1), ('marius', 1), ('markland', 1), ('markoff', 1), ('markun', 1), ('marsh', 1), ('marta', 1), ('marthe', 1), ('masabumi', 1), ('masselmani', 1), ('mate', 1), ('mathilda', 1), ('matinoff', 1), ('matthews', 1), ('maude', 1), ('max', 1), ('maybelle', 1), ('maybery', 1), ('mayne', 1), ('mccaffry', 1), ('mccormack', 1), ('mccrae', 1), ('mccrie', 1), ('mcdermott', 1), ('mcdougald', 1), ('mcdowell', 1), ('mcevoy', 1), ('mcgough', 1), ('mcgovern', 1), ('mckane', 1), ('mcmahon', 1), ('mcmillan', 1), ('mcneill', 1), ('meanwell', 1), ('meek', 1), ('meier', 1), ('melkebeke', 1), ('mellors', 1), ('meo', 1), ('mernagh', 1), ('metcalfe', 1), ('midtsjo', 1), ('milan', 1), ('mildred', 1), ('mile', 1), ('miles', 1), ('millet', 1), ('milley', 1), ('milligan', 1), ('milling', 1), ('millvina', 1), ('milne', 1), ('milton', 1), ('mineff', 1), ('minkoff', 1), ('minnie', 1), ('mionoff', 1), ('mirium', 1), ('mirko', 1), ('mitchell', 1), ('mitkoff', 1), ('mito', 1), ('mitto', 1), ('mme', 1), ('mockler', 1), ('moen', 1), ('mohamed', 1), ('molson', 1), ('monsen', 1), ('montgomery', 1), ('montvila', 1), ('moraweck', 1), ('morrison', 1), ('morrow', 1), ('moses', 1), ('moss', 1), ('moussa', 1), ('moutal', 1), ('mowad', 1), ('mudd', 1), ('mulder', 1), ('mullens', 1), ('mulvihill', 1), ('munger', 1), ('murdlin', 1), ('murray', 1), ('mussey', 1), ('mustafa', 1), ('myhrman', 1), ('myles', 1), ('myna', 1), ('naidenoff', 1), ('najib', 1), ('nakli', 1), ('nancarrow', 1), ('nankoff', 1), ('nasr', 1), ('nassef', 1), ('nassr', 1), ('natalie', 1), ('nathan', 1), ('natsch', 1), ('naughton', 1), ('nedelio', 1), ('nelle', 1), ('nenkoff', 1), ('neshan', 1), ('nesson', 1), ('nestor', 1), ('neto', 1), ('neville', 1), ('newsom', 1), ('nicholls', 1), ('nicholson', 1), ('nicolai', 1), ('niels', 1), ('nielsine', 1), ('nieminen', 1), ('niilo', 1), ('niklasson', 1), ('nikola', 1), ('nile', 1), ('nina', 1), ('nirva', 1), ('niskanen', 1), ('norah', 1), ('norris', 1), ('norton', 1), ('nosworthy', 1), ('nourelain', 1), ('nourney', 1), ('novel', 1), ('nye', 1), ('nysten', 1), ('nysveen', 1), ('oberst', 1), ('ocana', 1), ('odahl', 1), ('of', 1), ('ogden', 1), ('ohman', 1), ('ojala', 1), ('olai', 1), ('olaus', 1), ('ole', 1), ('olga', 1), ('oliva', 1), ('olive', 1), ('olivia', 1), ('olsvigen', 1), ('omine', 1), ('omont', 1), ('orian', 1), ('orsen', 1), ('ortin', 1), ('osen', 1), ('osman', 1), ('ossian', 1), ('otter', 1), ('ovies', 1), ('oxenham', 1), ('padro', 1), ('pain', 1), ('pallas', 1), ('palmquist', 1), ('parham', 1), ('parkes', 1), ('parr', 1), ('parsons', 1), ('partner', 1), ('pasic', 1), ('pastcho', 1), ('patchett', 1), ('paula', 1), ('paulner', 1), ('paust', 1), ('pavlovic', 1), ('payne', 1), ('pearce', 1), ('pede', 1), ('pedersen', 1), ('pedro', 1), ('peduzzi', 1), ('peel', 1), ('pehr', 1), ('peju', 1), ('pekoniemi', 1), ('pelsmaeker', 1), ('peltomaki', 1), ('pengelly', 1), ('penko', 1), ('pennington', 1), ('pentcho', 1), ('perez', 1), ('perkin', 1), ('pernot', 1), ('perreault', 1), ('persdotter', 1), ('peruschitz', 1), ('petar', 1), ('petco', 1), ('peters', 1), ('petersen', 1), ('petranec', 1), ('petterson', 1), ('pettersson', 1), ('peuchen', 1), ('philemon', 1), ('philipp', 1), ('philippe', 1), ('phillippe', 1), ('phoebe', 1), ('pickard', 1), ('pierre', 1), ('pieta', 1), ('pinsky', 1), ('plotcharsky', 1), ('pomeroy', 1), ('ponesell', 1), ('ponsonby', 1), ('portage', 1), ('portaluppi', 1), ('porter', 1), ('posse', 1), ('price', 1), ('pulbaum', 1), ('quigg', 1), ('quincy', 1), ('qurban', 1), ('rachel', 1), ('radeff', 1), ('raffull', 1), ('ragnhild', 1), ('rahamin', 1), ('raihed', 1), ('ramell', 1), ('ramon', 1), ('rasmussen', 1), ('rebecca', 1), ('redjo', 1), ('reed', 1), ('reeves', 1), ('reiersen', 1), ('rekic', 1), ('reuchlin', 1), ('reynaldo', 1), ('reynolds', 1), ('rheims', 1), ('ridsdale', 1), ('riihivouri', 1), ('ringhini', 1), ('rintamaki', 1), ('riordan', 1), ('ristiu', 1), ('rizk', 1), ('robbins', 1), ('roberta', 1), ('robina', 1), ('roderick', 1), ('rodriguez', 1), ('roebling', 1), ('rojj', 1), ('roland', 1), ('rolmane', 1), ('rommetvedt', 1), ('rondberg', 1), ('rood', 1), ('roscoe', 1), ('rosen', 1), ('rosenbaum', 1), ('rosenshine', 1), ('ross', 1), ('rossmore', 1), ('roth', 1), ('rothes', 1), ('rouse', 1), ('roussel', 1), ('rowan', 1), ('rowley', 1), ('ruby', 1), ('rugg', 1), ('rush', 1), ('rut', 1), ('saab', 1), ('saade', 1), ('saalfeld', 1), ('sadlier', 1), ('sadowitz', 1), ('saether', 1), ('sagesser', 1), ('sahid', 1), ('said', 1), ('saiide', 1), ('saks', 1), ('salander', 1), ('salkjelsvik', 1), ('salli', 1), ('sallie', 1), ('salomon', 1), ('salonen', 1), ('sam', 1), ('sanni', 1), ('sante', 1), ('sap', 1), ('satio', 1), ('saundercock', 1), ('sawyer', 1), ('scanlan', 1), ('schabert', 1), ('schmidt', 1), ('sdycoff', 1), ('sedgwick', 1), ('selena', 1), ('selini', 1), ('selma', 1), ('selman', 1), ('seman', 1), ('serafino', 1), ('serepeca', 1), ('servando', 1), ('seward', 1), ('shadrach', 1), ('sharp', 1), ('shaughnessy', 1), ('shawah', 1), ('shawneene', 1), ('shedid', 1), ('sheerlinck', 1), ('shellard', 1), ('shelley', 1), ('shine', 1), ('shorney', 1), ('shutes', 1), ('sibley', 1), ('siegel', 1), ('siegwart', 1), ('sigfrid', 1), ('sigurd', 1), ('silven', 1), ('silverthorne', 1), ('simmons', 1), ('simonius', 1), ('simonne', 1), ('sincock', 1), ('sinkkonen', 1), ('sir', 1), ('sirayanian', 1), ('sirota', 1), ('sivertsen', 1), ('sivic', 1), ('sivola', 1), ('sjoblom', 1), ('sjostedt', 1), ('slabenoff', 1), ('slayter', 1), ('sleiman', 1), ('slemen', 1), ('slocovski', 1), ('sloper', 1), ('slow', 1), ('smart', 1), ('smiljanic', 1), ('smyth', 1), ('sobey', 1), ('soholt', 1), ('solvang', 1), ('somerton', 1), ('sophie', 1), ('soto', 1), ('spector', 1), ('spinner', 1), ('stahelin', 1), ('staneff', 1), ('stanio', 1), ('stanko', 1), ('stankovic', 1), ('stanlick', 1), ('stead', 1), ('steen', 1), ('steffansson', 1), ('stefo', 1), ('stella', 1), ('stephenson', 1), ('sternin', 1), ('stevenson', 1), ('stewart', 1), ('stina', 1), ('stjepan', 1), ('stokes', 1), ('storey', 1), ('stoytcheff', 1), ('stoytcho', 1), ('strandberg', 1), ('stranden', 1), ('strilic', 1), ('strouse', 1), ('sullivan', 1), ('sultana', 1), ('sunderland', 1), ('sundman', 1), ('susanna', 1), ('sutehall', 1), ('sutherland', 1), ('sutton', 1), ('suzette', 1), ('sven', 1), ('svend', 1), ('swane', 1), ('sweet', 1), ('swift', 1), ('sylfven', 1), ('sylvia', 1), ('talmadge', 1), ('tate', 1), ('telma', 1), ('tenglin', 1), ('the', 1), ('thelander', 1), ('thelma', 1), ('theobald', 1), ('theodore', 1), ('theodosia', 1), ('thor', 1), ('thorilda', 1), ('thorpe', 1), ('thorsten', 1), ('thuillard', 1), ('thure', 1), ('tido', 1), ('tikkanen', 1), ('tillie', 1), ('todor', 1), ('todoroff', 1), ('tome', 1), ('tomlin', 1), ('toogood', 1), ('toomey', 1), ('torber', 1), ('torborg', 1), ('torfa', 1), ('tornquist', 1), ('toufik', 1), ('towner', 1), ('treanor', 1), ('treasteall', 1), ('trembisky', 1), ('trevaskis', 1), ('trevor', 1), ('troupiansky', 1), ('trout', 1), ('troutt', 1), ('truelove', 1), ('tucker', 1), ('turcin', 1), ('turja', 1), ('turkula', 1), ('tyler', 1), ('ulrik', 1), ('ulrika', 1), ('urho', 1), ('uruchurtu', 1), ('uscher', 1), ('valentine', 1), ('vallejo', 1), ('valtcho', 1), ('vandemoortele', 1), ('vanden', 1), ('vartanian', 1), ('vasil', 1), ('veal', 1), ('velde', 1), ('velin', 1), ('vendel', 1), ('vere', 1), ('vestrom', 1), ('victorine', 1), ('vidaver', 1), ('viktoria', 1), ('vilhelmina', 1), ('viljami', 1), ('viljo', 1), ('villiers', 1), ('vincenz', 1), ('viola', 1), ('violet', 1), ('von', 1), ('vovk', 1), ('waddington', 1), ('waelens', 1), ('waika', 1), ('walcroft', 1), ('waldo', 1), ('walker', 1), ('wallach', 1), ('walle', 1), ('warburton', 1), ('wardle', 1), ('wayland', 1), ('wazli', 1), ('wearne', 1), ('weart', 1), ('webster', 1), ('weir', 1), ('weller', 1), ('welles', 1), ('wendla', 1), ('wennerstrom', 1), ('wenzel', 1), ('werner', 1), ('whabee', 1), ('wheadon', 1), ('wheeler', 1), ('widegren', 1), ('wilfred', 1), ('wilhelmina', 1), ('wilhelms', 1), ('wilkes', 1), ('wilkinson', 1), ('willard', 1), ('willer', 1), ('willey', 1), ('willie', 1), ('willingham', 1), ('wills', 1), ('windelov', 1), ('winfield', 1), ('wirz', 1), ('wiseman', 1), ('wittevrongel', 1), ('wizosky', 1), ('wonnacott', 1), ('wood', 1), ('woolf', 1), ('woolner', 1), ('worth', 1), ('wyckoff', 1), ('ylio', 1), ('yoto', 1), ('young', 1), ('youseff', 1), ('yousif', 1), ('yrois', 1), ('zahie', 1), ('zenni', 1), ('zillah', 1), ('zimmerman', 1)]\n"
     ]
    }
   ],
   "source": [
    "# extract name, title etc from 'Name' column\n",
    "from sklearn.feature_extraction.text import CountVectorizer\n",
    "import numpy as np\n",
    "import itertools\n",
    "\n",
    "vectorizer = CountVectorizer()\n",
    "y = vectorizer.fit_transform(itertools.chain(combined['Name']))\n",
    "\n",
    "name = vectorizer.get_feature_names()\n",
    "count = np.sum(y.toarray(), axis=0)\n",
    "ntoc = list(zip(name, count))\n",
    "ntoc.sort(key=lambda x: x[1], reverse=True)\n",
    "print(ntoc)\n",
    "\n",
    "# most frequently appeared title： mr, miss, mrs, master, jr"
   ]
  },
  {
   "cell_type": "code",
   "execution_count": 23,
   "metadata": {
    "collapsed": false
   },
   "outputs": [
    {
     "name": "stdout",
     "output_type": "stream",
     "text": [
      "['Mr' 'Mrs' 'Miss' 'Master' 'Don' 'Rev' 'Dr' 'Mme' 'Ms' 'Major' 'Lady'\n",
      " 'Sir' 'Mlle' 'Col' 'Capt' 'the Countess' 'Jonkheer' 'Dona']\n"
     ]
    }
   ],
   "source": [
    "def get_titles():\n",
    "    global combined\n",
    "    \n",
    "    # we extract the title from each name\n",
    "    combined['Title'] = combined['Name'].map(lambda name:name.split(',')[1].\n",
    "                        split('.')[0].strip())\n",
    "    titles = combined['Title'].unique()\n",
    "    print(titles)\n",
    "    # a map of more aggregated titles\n",
    "    Title_Dictionary = {\n",
    "                        \"Capt\":       \"Officer\",\n",
    "                        \"Col\":        \"Officer\",\n",
    "                        \"Major\":      \"Officer\",\n",
    "                        \"Jonkheer\":   \"Royalty\",\n",
    "                        \"Don\":        \"Royalty\",\n",
    "                        \"Sir\" :       \"Royalty\",\n",
    "                        \"Dr\":         \"Officer\",\n",
    "                        \"Rev\":        \"Officer\",\n",
    "                        \"the Countess\":\"Royalty\",\n",
    "                        \"Dona\":       \"Royalty\",\n",
    "                        \"Mme\":        \"Mrs\",\n",
    "                        \"Mlle\":       \"Miss\",\n",
    "                        \"Ms\":         \"Mrs\",\n",
    "                        \"Mr\" :        \"Mr\",\n",
    "                        \"Mrs\" :       \"Mrs\",\n",
    "                        \"Miss\" :      \"Miss\",\n",
    "                        \"Master\" :    \"Master\",\n",
    "                        \"Lady\" :      \"Royalty\"\n",
    "\n",
    "                        }\n",
    "    \n",
    "    # we map each title\n",
    "    combined['Title'] = combined.Title.map(Title_Dictionary)\n",
    "\n",
    "get_titles()\n",
    "# combined['Title'].isnull().sum()  # return 0, all values are mapped"
   ]
  },
  {
   "cell_type": "code",
   "execution_count": 24,
   "metadata": {
    "collapsed": false
   },
   "outputs": [
    {
     "data": {
      "text/html": [
       "<div>\n",
       "<table border=\"1\" class=\"dataframe\">\n",
       "  <thead>\n",
       "    <tr style=\"text-align: right;\">\n",
       "      <th></th>\n",
       "      <th></th>\n",
       "      <th></th>\n",
       "      <th>Age</th>\n",
       "      <th>SibSp</th>\n",
       "      <th>Parch</th>\n",
       "      <th>Fare</th>\n",
       "    </tr>\n",
       "    <tr>\n",
       "      <th>Sex</th>\n",
       "      <th>Pclass</th>\n",
       "      <th>Title</th>\n",
       "      <th></th>\n",
       "      <th></th>\n",
       "      <th></th>\n",
       "      <th></th>\n",
       "    </tr>\n",
       "  </thead>\n",
       "  <tbody>\n",
       "    <tr>\n",
       "      <th rowspan=\"8\" valign=\"top\">female</th>\n",
       "      <th rowspan=\"4\" valign=\"top\">1</th>\n",
       "      <th>Miss</th>\n",
       "      <td>30.0</td>\n",
       "      <td>0</td>\n",
       "      <td>0</td>\n",
       "      <td>99.9625</td>\n",
       "    </tr>\n",
       "    <tr>\n",
       "      <th>Mrs</th>\n",
       "      <td>45.0</td>\n",
       "      <td>1</td>\n",
       "      <td>0</td>\n",
       "      <td>78.1125</td>\n",
       "    </tr>\n",
       "    <tr>\n",
       "      <th>Officer</th>\n",
       "      <td>49.0</td>\n",
       "      <td>0</td>\n",
       "      <td>0</td>\n",
       "      <td>25.9292</td>\n",
       "    </tr>\n",
       "    <tr>\n",
       "      <th>Royalty</th>\n",
       "      <td>39.0</td>\n",
       "      <td>0</td>\n",
       "      <td>0</td>\n",
       "      <td>86.5000</td>\n",
       "    </tr>\n",
       "    <tr>\n",
       "      <th rowspan=\"2\" valign=\"top\">2</th>\n",
       "      <th>Miss</th>\n",
       "      <td>20.0</td>\n",
       "      <td>0</td>\n",
       "      <td>0</td>\n",
       "      <td>20.2500</td>\n",
       "    </tr>\n",
       "    <tr>\n",
       "      <th>Mrs</th>\n",
       "      <td>30.0</td>\n",
       "      <td>1</td>\n",
       "      <td>0</td>\n",
       "      <td>26.0000</td>\n",
       "    </tr>\n",
       "    <tr>\n",
       "      <th rowspan=\"2\" valign=\"top\">3</th>\n",
       "      <th>Miss</th>\n",
       "      <td>18.0</td>\n",
       "      <td>0</td>\n",
       "      <td>0</td>\n",
       "      <td>8.0500</td>\n",
       "    </tr>\n",
       "    <tr>\n",
       "      <th>Mrs</th>\n",
       "      <td>31.0</td>\n",
       "      <td>1</td>\n",
       "      <td>1</td>\n",
       "      <td>15.5000</td>\n",
       "    </tr>\n",
       "    <tr>\n",
       "      <th rowspan=\"9\" valign=\"top\">male</th>\n",
       "      <th rowspan=\"4\" valign=\"top\">1</th>\n",
       "      <th>Master</th>\n",
       "      <td>6.0</td>\n",
       "      <td>1</td>\n",
       "      <td>2</td>\n",
       "      <td>134.5000</td>\n",
       "    </tr>\n",
       "    <tr>\n",
       "      <th>Mr</th>\n",
       "      <td>41.5</td>\n",
       "      <td>0</td>\n",
       "      <td>0</td>\n",
       "      <td>47.1000</td>\n",
       "    </tr>\n",
       "    <tr>\n",
       "      <th>Officer</th>\n",
       "      <td>52.0</td>\n",
       "      <td>0</td>\n",
       "      <td>0</td>\n",
       "      <td>37.5500</td>\n",
       "    </tr>\n",
       "    <tr>\n",
       "      <th>Royalty</th>\n",
       "      <td>40.0</td>\n",
       "      <td>0</td>\n",
       "      <td>0</td>\n",
       "      <td>27.7208</td>\n",
       "    </tr>\n",
       "    <tr>\n",
       "      <th rowspan=\"3\" valign=\"top\">2</th>\n",
       "      <th>Master</th>\n",
       "      <td>2.0</td>\n",
       "      <td>1</td>\n",
       "      <td>1</td>\n",
       "      <td>26.0000</td>\n",
       "    </tr>\n",
       "    <tr>\n",
       "      <th>Mr</th>\n",
       "      <td>30.0</td>\n",
       "      <td>0</td>\n",
       "      <td>0</td>\n",
       "      <td>13.0000</td>\n",
       "    </tr>\n",
       "    <tr>\n",
       "      <th>Officer</th>\n",
       "      <td>41.5</td>\n",
       "      <td>0</td>\n",
       "      <td>0</td>\n",
       "      <td>13.0000</td>\n",
       "    </tr>\n",
       "    <tr>\n",
       "      <th rowspan=\"2\" valign=\"top\">3</th>\n",
       "      <th>Master</th>\n",
       "      <td>6.0</td>\n",
       "      <td>3</td>\n",
       "      <td>1</td>\n",
       "      <td>22.3583</td>\n",
       "    </tr>\n",
       "    <tr>\n",
       "      <th>Mr</th>\n",
       "      <td>26.0</td>\n",
       "      <td>0</td>\n",
       "      <td>0</td>\n",
       "      <td>7.8958</td>\n",
       "    </tr>\n",
       "  </tbody>\n",
       "</table>\n",
       "</div>"
      ],
      "text/plain": [
       "                        Age  SibSp  Parch      Fare\n",
       "Sex    Pclass Title                                \n",
       "female 1      Miss     30.0      0      0   99.9625\n",
       "              Mrs      45.0      1      0   78.1125\n",
       "              Officer  49.0      0      0   25.9292\n",
       "              Royalty  39.0      0      0   86.5000\n",
       "       2      Miss     20.0      0      0   20.2500\n",
       "              Mrs      30.0      1      0   26.0000\n",
       "       3      Miss     18.0      0      0    8.0500\n",
       "              Mrs      31.0      1      1   15.5000\n",
       "male   1      Master    6.0      1      2  134.5000\n",
       "              Mr       41.5      0      0   47.1000\n",
       "              Officer  52.0      0      0   37.5500\n",
       "              Royalty  40.0      0      0   27.7208\n",
       "       2      Master    2.0      1      1   26.0000\n",
       "              Mr       30.0      0      0   13.0000\n",
       "              Officer  41.5      0      0   13.0000\n",
       "       3      Master    6.0      3      1   22.3583\n",
       "              Mr       26.0      0      0    7.8958"
      ]
     },
     "execution_count": 24,
     "metadata": {},
     "output_type": "execute_result"
    }
   ],
   "source": [
    "# Let's create a function that fills in the missing age in combined based on \n",
    "# sex, Pclass, Title\n",
    "\n",
    "grouped = combined.groupby(['Sex','Pclass','Title'])\n",
    "grouped.median()"
   ]
  },
  {
   "cell_type": "code",
   "execution_count": 25,
   "metadata": {
    "collapsed": false,
    "scrolled": true
   },
   "outputs": [],
   "source": [
    "def process_age():    \n",
    "    global combined   \n",
    "    # a function that fills the missing values of the Age variable   \n",
    "    def fillAges(row):\n",
    "        if row['Sex'] == 'female' and row['Pclass'] == 1:\n",
    "            if row['Title'] == 'Miss':\n",
    "                return 30\n",
    "            elif row['Title'] == 'Mrs':\n",
    "                return 45\n",
    "            elif row['Title'] == 'Officer':\n",
    "                return 49\n",
    "            elif row['Title'] == 'Royalty':\n",
    "                return 39\n",
    "\n",
    "        elif row['Sex'] == 'female' and row['Pclass'] == 2:\n",
    "            if row['Title'] == 'Miss':\n",
    "                return 20\n",
    "            elif row['Title'] == 'Mrs':\n",
    "                return 30\n",
    "\n",
    "        elif row['Sex'] == 'female' and row['Pclass'] == 3:\n",
    "            if row['Title'] == 'Miss':\n",
    "                return 18\n",
    "            elif row['Title'] == 'Mrs':\n",
    "                return 31\n",
    "\n",
    "        elif row['Sex'] == 'male' and row['Pclass'] == 1:\n",
    "            if row['Title'] == 'Master':\n",
    "                return 6\n",
    "            elif row['Title'] == 'Mr':\n",
    "                return 41.5\n",
    "            elif row['Title'] == 'Officer':\n",
    "                return 52\n",
    "            elif row['Title'] == 'Royalty':\n",
    "                return 40\n",
    "\n",
    "        elif row['Sex'] == 'male' and row['Pclass'] == 2:\n",
    "            if row['Title'] == 'Master':\n",
    "                return 2\n",
    "            elif row['Title'] == 'Mr':\n",
    "                return 30\n",
    "            elif row['Title'] == 'Officer':\n",
    "                return 41.5\n",
    "\n",
    "        elif row['Sex'] == 'male' and row['Pclass'] == 3:\n",
    "            if row['Title'] == 'Master':\n",
    "                return 6\n",
    "            elif row['Title'] == 'Mr':\n",
    "                return 26    \n",
    "    combined.Age = combined.apply(lambda r : fillAges(r) if np.isnan(r['Age'])\n",
    "                                                        else r['Age'], axis=1)\n",
    "\n",
    "process_age()\n"
   ]
  },
  {
   "cell_type": "code",
   "execution_count": 26,
   "metadata": {
    "collapsed": true
   },
   "outputs": [],
   "source": [
    "# process fare by the mean value\n",
    "def process_fares():\n",
    "    \n",
    "    global combined\n",
    "    combined.Fare.fillna(combined.Fare.mean(),inplace=True) \n",
    "\n",
    "process_fares()"
   ]
  },
  {
   "cell_type": "code",
   "execution_count": 27,
   "metadata": {
    "collapsed": true
   },
   "outputs": [],
   "source": [
    "# map sex to numerical values (0, 1)\n",
    "def process_sex():\n",
    "    global combined\n",
    "  \n",
    "    # mapping string values to numerical one \n",
    "    combined['Sex'] = combined['Sex'].map({'male':1,'female':0})\n",
    "    \n",
    "process_sex()"
   ]
  },
  {
   "cell_type": "code",
   "execution_count": 28,
   "metadata": {
    "collapsed": false
   },
   "outputs": [],
   "source": [
    "# process name: drop Name, Title; Convert categorical variable 'Title' into dummy/indicator variables\n",
    "def process_names():\n",
    "    \n",
    "    global combined\n",
    "    # we clean the Name variable\n",
    "    combined.drop('Name',axis=1,inplace=True)\n",
    "    \n",
    "    # encoding in dummy variable\n",
    "    titles_dummies = pd.get_dummies(combined['Title'],prefix='Title')\n",
    "    combined = pd.concat([combined,titles_dummies],axis=1)\n",
    "    \n",
    "    # removing the title variable\n",
    "    combined.drop('Title',axis=1,inplace=True)\n",
    "\n",
    "process_names()"
   ]
  },
  {
   "cell_type": "code",
   "execution_count": 29,
   "metadata": {
    "collapsed": false
   },
   "outputs": [
    {
     "data": {
      "text/plain": [
       "Embarked\n",
       "C    270\n",
       "Q    123\n",
       "S    914\n",
       "dtype: int64"
      ]
     },
     "execution_count": 29,
     "metadata": {},
     "output_type": "execute_result"
    }
   ],
   "source": [
    "combined.groupby('Embarked').size()"
   ]
  },
  {
   "cell_type": "code",
   "execution_count": 30,
   "metadata": {
    "collapsed": true
   },
   "outputs": [],
   "source": [
    "# fill in two missing values of Embarked with the most frequent Embarked value.\n",
    "def process_embarked():\n",
    "    \n",
    "    global combined\n",
    "    # two missing embarked values - filling them with the most frequent one (S)\n",
    "    combined.Embarked.fillna('S',inplace=True)\n",
    "    \n",
    "    # dummy encoding \n",
    "    embarked_dummies = pd.get_dummies(combined['Embarked'],prefix='Embarked')\n",
    "    combined = pd.concat([combined,embarked_dummies],axis=1)\n",
    "    combined.drop('Embarked',axis=1,inplace=True)\n",
    "    \n",
    "process_embarked()"
   ]
  },
  {
   "cell_type": "code",
   "execution_count": 31,
   "metadata": {
    "collapsed": false
   },
   "outputs": [
    {
     "data": {
      "text/plain": [
       "Cabin\n",
       "A10        1\n",
       "A11        1\n",
       "A14        1\n",
       "A16        1\n",
       "A18        1\n",
       "A19        1\n",
       "A20        1\n",
       "A21        1\n",
       "A23        1\n",
       "A24        1\n",
       "A26        1\n",
       "A29        1\n",
       "A31        1\n",
       "A32        1\n",
       "A34        3\n",
       "A36        1\n",
       "A5         1\n",
       "A6         1\n",
       "A7         1\n",
       "A9         1\n",
       "B10        1\n",
       "B101       1\n",
       "B102       1\n",
       "B11        1\n",
       "B18        2\n",
       "B19        1\n",
       "B20        2\n",
       "B22        2\n",
       "B24        1\n",
       "B26        1\n",
       "          ..\n",
       "E34        3\n",
       "E36        1\n",
       "E38        1\n",
       "E39 E41    1\n",
       "E40        1\n",
       "E44        2\n",
       "E45        1\n",
       "E46        2\n",
       "E49        1\n",
       "E50        2\n",
       "E52        1\n",
       "E58        1\n",
       "E60        1\n",
       "E63        1\n",
       "E67        2\n",
       "E68        1\n",
       "E77        1\n",
       "E8         2\n",
       "F          1\n",
       "F E46      1\n",
       "F E57      1\n",
       "F E69      1\n",
       "F G63      2\n",
       "F G73      2\n",
       "F2         4\n",
       "F33        4\n",
       "F38        1\n",
       "F4         4\n",
       "G6         5\n",
       "T          1\n",
       "dtype: int64"
      ]
     },
     "execution_count": 31,
     "metadata": {},
     "output_type": "execute_result"
    }
   ],
   "source": [
    "combined.groupby('Cabin').size()"
   ]
  },
  {
   "cell_type": "code",
   "execution_count": 32,
   "metadata": {
    "collapsed": false
   },
   "outputs": [],
   "source": [
    "\n",
    "# This function replaces NaN values with U (for Unknow). It then maps each Cabin\n",
    "# value to the first letter. Then it encodes the cabin values using dummy \n",
    "# encoding again.\n",
    "def process_cabin():   \n",
    "    global combined   \n",
    "    # replacing missing cabins with U (for Uknown)\n",
    "    combined.Cabin.fillna('U',inplace = True)\n",
    "    \n",
    "    # mapping each Cabin value with the cabin letter\n",
    "    combined['Cabin'] = combined['Cabin'].map(lambda c : c[0])\n",
    "    \n",
    "    # dummy encoding ...\n",
    "    cabin_dummies = pd.get_dummies(combined['Cabin'],prefix = 'Cabin')    \n",
    "    combined = pd.concat([combined,cabin_dummies],axis = 1)    \n",
    "    combined.drop('Cabin',axis = 1,inplace = True)\n",
    "\n",
    "# process_cabin() # too much missing values, may add inaccuracy into the prediction\n",
    "# let's toss 'Cabin' instead\n",
    "combined.drop(['Cabin','Ticket'],axis=1,inplace=True)"
   ]
  },
  {
   "cell_type": "code",
   "execution_count": 33,
   "metadata": {
    "collapsed": true
   },
   "outputs": [],
   "source": [
    "def process_pclass():\n",
    "    \n",
    "    global combined\n",
    "    # encoding into 3 categories:\n",
    "    pclass_dummies = pd.get_dummies(combined['Pclass'],prefix=\"Pclass\")\n",
    "    \n",
    "    # adding dummy variables\n",
    "    combined = pd.concat([combined,pclass_dummies],axis=1)\n",
    "    \n",
    "    # removing \"Pclass\"\n",
    "    \n",
    "    combined.drop('Pclass',axis=1,inplace=True)\n",
    "    \n",
    "    \n",
    "process_pclass()"
   ]
  },
  {
   "cell_type": "code",
   "execution_count": 34,
   "metadata": {
    "collapsed": false
   },
   "outputs": [],
   "source": [
    "# singleton, small family, large family, large families are more likely to be rescued\n",
    "def process_family():\n",
    "    \n",
    "    global combined\n",
    "    # introducing a new feature : the size of families (including the passenger)\n",
    "    combined['FamilySize'] = combined['Parch'] + combined['SibSp'] + 1\n",
    "    #combined.drop('Parch',inplace = True, axis = 1)\n",
    "    #combined.drop('SibSp',inplace = True, axis = 1)\n",
    "\n",
    "process_family()   "
   ]
  },
  {
   "cell_type": "code",
   "execution_count": 35,
   "metadata": {
    "collapsed": false
   },
   "outputs": [
    {
     "name": "stdout",
     "output_type": "stream",
     "text": [
      "<class 'pandas.core.frame.DataFrame'>\n",
      "RangeIndex: 1309 entries, 0 to 1308\n",
      "Data columns (total 18 columns):\n",
      "Sex              1309 non-null int64\n",
      "Age              1309 non-null float64\n",
      "SibSp            1309 non-null int64\n",
      "Parch            1309 non-null int64\n",
      "Fare             1309 non-null float64\n",
      "Title_Master     1309 non-null uint8\n",
      "Title_Miss       1309 non-null uint8\n",
      "Title_Mr         1309 non-null uint8\n",
      "Title_Mrs        1309 non-null uint8\n",
      "Title_Officer    1309 non-null uint8\n",
      "Title_Royalty    1309 non-null uint8\n",
      "Embarked_C       1309 non-null uint8\n",
      "Embarked_Q       1309 non-null uint8\n",
      "Embarked_S       1309 non-null uint8\n",
      "Pclass_1         1309 non-null uint8\n",
      "Pclass_2         1309 non-null uint8\n",
      "Pclass_3         1309 non-null uint8\n",
      "FamilySize       1309 non-null int64\n",
      "dtypes: float64(2), int64(4), uint8(12)\n",
      "memory usage: 76.8 KB\n"
     ]
    }
   ],
   "source": [
    "combined.info()"
   ]
  },
  {
   "cell_type": "markdown",
   "metadata": {},
   "source": [
    "### Step 6. Feature Scaling to make gradient descent faster"
   ]
  },
  {
   "cell_type": "code",
   "execution_count": 68,
   "metadata": {
    "collapsed": false
   },
   "outputs": [],
   "source": [
    "# scale features except PassengerId to 0 ~ 1\n",
    "\n",
    "def scale_all_features():\n",
    "    \n",
    "    global combined\n",
    "    features = list(combined.columns)\n",
    "    combined[features] = combined[features].apply(lambda x: x/x.max(), axis=0)\n",
    "         \n",
    "scale_all_features()    "
   ]
  },
  {
   "cell_type": "code",
   "execution_count": 69,
   "metadata": {
    "collapsed": false
   },
   "outputs": [
    {
     "name": "stdout",
     "output_type": "stream",
     "text": [
      "<class 'pandas.core.frame.DataFrame'>\n",
      "RangeIndex: 1309 entries, 0 to 1308\n",
      "Data columns (total 18 columns):\n",
      "Sex              1309 non-null float64\n",
      "Age              1309 non-null float64\n",
      "SibSp            1309 non-null float64\n",
      "Parch            1309 non-null float64\n",
      "Fare             1309 non-null float64\n",
      "Title_Master     1309 non-null float64\n",
      "Title_Miss       1309 non-null float64\n",
      "Title_Mr         1309 non-null float64\n",
      "Title_Mrs        1309 non-null float64\n",
      "Title_Officer    1309 non-null float64\n",
      "Title_Royalty    1309 non-null float64\n",
      "Embarked_C       1309 non-null float64\n",
      "Embarked_Q       1309 non-null float64\n",
      "Embarked_S       1309 non-null float64\n",
      "Pclass_1         1309 non-null float64\n",
      "Pclass_2         1309 non-null float64\n",
      "Pclass_3         1309 non-null float64\n",
      "FamilySize       1309 non-null float64\n",
      "dtypes: float64(18)\n",
      "memory usage: 184.2 KB\n"
     ]
    }
   ],
   "source": [
    "combined.info()"
   ]
  },
  {
   "cell_type": "markdown",
   "metadata": {},
   "source": [
    "### Step 7. Recover training and testing dataset"
   ]
  },
  {
   "cell_type": "code",
   "execution_count": 70,
   "metadata": {
    "collapsed": true
   },
   "outputs": [],
   "source": [
    "# recovering the train set and the test set from the combined dataset \n",
    "\n",
    "def recover_train_test_target():\n",
    "    global combined\n",
    "    train = combined.ix[0:890]\n",
    "    test = combined.ix[891:]\n",
    "    \n",
    "    return train,test\n",
    "\n",
    "train, test = recover_train_test_target()\n"
   ]
  },
  {
   "cell_type": "code",
   "execution_count": 71,
   "metadata": {
    "collapsed": false
   },
   "outputs": [
    {
     "name": "stdout",
     "output_type": "stream",
     "text": [
      "<class 'pandas.core.frame.DataFrame'>\n",
      "RangeIndex: 418 entries, 891 to 1308\n",
      "Data columns (total 18 columns):\n",
      "Sex              418 non-null float64\n",
      "Age              418 non-null float64\n",
      "SibSp            418 non-null float64\n",
      "Parch            418 non-null float64\n",
      "Fare             418 non-null float64\n",
      "Title_Master     418 non-null float64\n",
      "Title_Miss       418 non-null float64\n",
      "Title_Mr         418 non-null float64\n",
      "Title_Mrs        418 non-null float64\n",
      "Title_Officer    418 non-null float64\n",
      "Title_Royalty    418 non-null float64\n",
      "Embarked_C       418 non-null float64\n",
      "Embarked_Q       418 non-null float64\n",
      "Embarked_S       418 non-null float64\n",
      "Pclass_1         418 non-null float64\n",
      "Pclass_2         418 non-null float64\n",
      "Pclass_3         418 non-null float64\n",
      "FamilySize       418 non-null float64\n",
      "dtypes: float64(18)\n",
      "memory usage: 58.9 KB\n"
     ]
    }
   ],
   "source": [
    "test.info()"
   ]
  },
  {
   "cell_type": "code",
   "execution_count": 72,
   "metadata": {
    "collapsed": false
   },
   "outputs": [
    {
     "name": "stdout",
     "output_type": "stream",
     "text": [
      "<class 'pandas.core.frame.DataFrame'>\n",
      "RangeIndex: 891 entries, 0 to 890\n",
      "Data columns (total 18 columns):\n",
      "Sex              891 non-null float64\n",
      "Age              891 non-null float64\n",
      "SibSp            891 non-null float64\n",
      "Parch            891 non-null float64\n",
      "Fare             891 non-null float64\n",
      "Title_Master     891 non-null float64\n",
      "Title_Miss       891 non-null float64\n",
      "Title_Mr         891 non-null float64\n",
      "Title_Mrs        891 non-null float64\n",
      "Title_Officer    891 non-null float64\n",
      "Title_Royalty    891 non-null float64\n",
      "Embarked_C       891 non-null float64\n",
      "Embarked_Q       891 non-null float64\n",
      "Embarked_S       891 non-null float64\n",
      "Pclass_1         891 non-null float64\n",
      "Pclass_2         891 non-null float64\n",
      "Pclass_3         891 non-null float64\n",
      "FamilySize       891 non-null float64\n",
      "dtypes: float64(18)\n",
      "memory usage: 125.4 KB\n"
     ]
    }
   ],
   "source": [
    "train.info()"
   ]
  },
  {
   "cell_type": "markdown",
   "metadata": {},
   "source": [
    "### Step 8. Building models"
   ]
  },
  {
   "cell_type": "code",
   "execution_count": 42,
   "metadata": {
    "collapsed": false
   },
   "outputs": [
    {
     "name": "stdout",
     "output_type": "stream",
     "text": [
      "ScaledLR: 0.816769 (0.055545)\n",
      "ScaledLDA: 0.811956 (0.062545)\n",
      "ScaledKNN: 0.810343 (0.057609)\n"
     ]
    },
    {
     "name": "stderr",
     "output_type": "stream",
     "text": [
      "C:\\Users\\Administrator\\Anaconda3\\lib\\site-packages\\sklearn\\discriminant_analysis.py:389: UserWarning: Variables are collinear.\n",
      "  warnings.warn(\"Variables are collinear.\")\n",
      "C:\\Users\\Administrator\\Anaconda3\\lib\\site-packages\\sklearn\\discriminant_analysis.py:389: UserWarning: Variables are collinear.\n",
      "  warnings.warn(\"Variables are collinear.\")\n",
      "C:\\Users\\Administrator\\Anaconda3\\lib\\site-packages\\sklearn\\discriminant_analysis.py:389: UserWarning: Variables are collinear.\n",
      "  warnings.warn(\"Variables are collinear.\")\n",
      "C:\\Users\\Administrator\\Anaconda3\\lib\\site-packages\\sklearn\\discriminant_analysis.py:389: UserWarning: Variables are collinear.\n",
      "  warnings.warn(\"Variables are collinear.\")\n",
      "C:\\Users\\Administrator\\Anaconda3\\lib\\site-packages\\sklearn\\discriminant_analysis.py:389: UserWarning: Variables are collinear.\n",
      "  warnings.warn(\"Variables are collinear.\")\n",
      "C:\\Users\\Administrator\\Anaconda3\\lib\\site-packages\\sklearn\\discriminant_analysis.py:389: UserWarning: Variables are collinear.\n",
      "  warnings.warn(\"Variables are collinear.\")\n",
      "C:\\Users\\Administrator\\Anaconda3\\lib\\site-packages\\sklearn\\discriminant_analysis.py:389: UserWarning: Variables are collinear.\n",
      "  warnings.warn(\"Variables are collinear.\")\n",
      "C:\\Users\\Administrator\\Anaconda3\\lib\\site-packages\\sklearn\\discriminant_analysis.py:389: UserWarning: Variables are collinear.\n",
      "  warnings.warn(\"Variables are collinear.\")\n",
      "C:\\Users\\Administrator\\Anaconda3\\lib\\site-packages\\sklearn\\discriminant_analysis.py:389: UserWarning: Variables are collinear.\n",
      "  warnings.warn(\"Variables are collinear.\")\n",
      "C:\\Users\\Administrator\\Anaconda3\\lib\\site-packages\\sklearn\\discriminant_analysis.py:389: UserWarning: Variables are collinear.\n",
      "  warnings.warn(\"Variables are collinear.\")\n"
     ]
    },
    {
     "name": "stdout",
     "output_type": "stream",
     "text": [
      "ScaledCART: 0.760599 (0.054392)\n",
      "ScaledNB: 0.774987 (0.092849)\n",
      "ScaledSVM: 0.823195 (0.059427)\n"
     ]
    },
    {
     "data": {
      "image/png": "[encoded data removed]",
      "text/plain": [
       "<matplotlib.figure.Figure at 0x2a412e956a0>"
      ]
     },
     "metadata": {},
     "output_type": "display_data"
    }
   ],
   "source": [
    "# split training data set into 70% (for training algorithm) and 30% (for cross validation)\n",
    "\n",
    "from sklearn.model_selection import train_test_split\n",
    "\n",
    "validation_size = 0.30\n",
    "seed = 6\n",
    "X_train, X_validation, Y_train, Y_validation = train_test_split(train, train_y, test_size \n",
    "                                               = validation_size, random_state = seed)\n",
    "# standardize the dataset\n",
    "pipelines = []\n",
    "pipelines.append(('ScaledLR', Pipeline([('Scaler', StandardScaler()), ('LR', LogisticRegression())])))\n",
    "pipelines.append(('ScaledLDA', Pipeline([('Scaler', StandardScaler()), ('LDA', LinearDiscriminantAnalysis())])))\n",
    "pipelines.append(('ScaledKNN', Pipeline([('Scaler', StandardScaler()), ('KNN', KNeighborsClassifier())])))\n",
    "pipelines.append(('ScaledCART', Pipeline([('Scaler', StandardScaler()), ('CART', DecisionTreeClassifier())])))\n",
    "pipelines.append(('ScaledNB', Pipeline([('Scaler', StandardScaler()), ('NB', GaussianNB())])))\n",
    "pipelines.append(('ScaledSVM', Pipeline([('Scaler', StandardScaler()), ('SVM', SVC())])))\n",
    "\n",
    "from sklearn.metrics import accuracy_score\n",
    "results = []\n",
    "names = []\n",
    "scoring = 'accuracy'\n",
    "num_folds = 10\n",
    "seed = 7\n",
    "\n",
    "for name, model in pipelines:\n",
    "    kfold = KFold(n_splits = num_folds, random_state = seed)\n",
    "    cv_results = cross_val_score(model, X_train, Y_train, cv = kfold, scoring = 'accuracy')\n",
    "    results.append(cv_results)\n",
    "    names.append(name)\n",
    "    msg = \"%s: %f (%f)\" % (name, cv_results.mean(), cv_results.std())\n",
    "    print(msg)    \n",
    "\n",
    "# compare algorithms\n",
    "fig = plt.figure()\n",
    "fig.suptitle('Scaled Algorithm Comparison')\n",
    "ax = fig.add_subplot(111)\n",
    "plt.boxplot(results)\n",
    "ax.set_xticklabels(names)\n",
    "plt.show()"
   ]
  },
  {
   "cell_type": "code",
   "execution_count": 43,
   "metadata": {
    "collapsed": false
   },
   "outputs": [
    {
     "name": "stdout",
     "output_type": "stream",
     "text": [
      "Best: 0.821830 using {'penalty': 'l1', 'C': 1.5}\n"
     ]
    }
   ],
   "source": [
    "# tune scaled LR\n",
    "scaler = StandardScaler().fit(X_train)\n",
    "rescaledX = scaler.transform(X_train)\n",
    "penalty_value = ['l1', 'l2']\n",
    "c_values = [0.1, 0.3, 0.5, 0.7, 0.9, 1.0, 1.3, 1.5, 1.7, 2.0, 10, 20]\n",
    "param_grid = dict(penalty = penalty_value, C = c_values)\n",
    "model = LogisticRegression()\n",
    "kfold = KFold(n_splits = num_folds, random_state = seed)\n",
    "grid = GridSearchCV(estimator = model, param_grid = param_grid, scoring = 'accuracy', cv = kfold)\n",
    "grid_result = grid.fit(rescaledX, Y_train)\n",
    "print(\"Best: %f using %s\" % (grid_result.best_score_, grid_result.best_params_))\n",
    "#means = grid_result.cv_results_['mean_test_score']\n",
    "#stds = grid_result.cv_results_['std_test_score']\n",
    "#params = grid_result.cv_results_['params']\n",
    "#for mean, stdev, param in zip(means, stds, params):\n",
    "#    print(\"results from scaled LR are %f (%f) with: %r\" % (mean, stdev, params))"
   ]
  },
  {
   "cell_type": "code",
   "execution_count": 44,
   "metadata": {
    "collapsed": false
   },
   "outputs": [
    {
     "name": "stdout",
     "output_type": "stream",
     "text": [
      "Best: 0.826645 using {'kernel': 'rbf', 'C': 0.5}\n"
     ]
    }
   ],
   "source": [
    "# tune scaled SVM\n",
    "scaler = StandardScaler().fit(X_train)\n",
    "rescaledX = scaler.transform(X_train)\n",
    "c_values = [0.1, 0.3, 0.5, 0.7, 0.9, 1.0, 1.3, 1.5, 1.7, 2.0]\n",
    "kernel_values = ['linear', 'poly', 'rbf', 'sigmoid']\n",
    "param_grid = dict(C=c_values, kernel= kernel_values)\n",
    "model = SVC()\n",
    "kfold = KFold(n_splits = num_folds, random_state = seed)\n",
    "grid = GridSearchCV(estimator = model, param_grid = param_grid, scoring = 'accuracy', cv = kfold)\n",
    "grid_result = grid.fit(rescaledX, Y_train)\n",
    "print(\"Best: %f using %s\" %(grid_result.best_score_, grid_result.best_params_))\n",
    "#means = grid_result.cv_results_['mean_test_score']\n",
    "#stds = grid_result.cv_results_['std_test_score']\n",
    "#params = grid_result.cv_results_['params']\n",
    "#for mean, stdev, param in zip(means, stds, params):\n",
    "#    print(\"results from scaled SVM are %f (%f) with: %r\" % (mean, stdev, param))"
   ]
  },
  {
   "cell_type": "code",
   "execution_count": 45,
   "metadata": {
    "collapsed": false
   },
   "outputs": [
    {
     "name": "stdout",
     "output_type": "stream",
     "text": [
      "AB: 0.787916 (0.054924)\n",
      "GBM: 0.815182 (0.055532)\n",
      "RF: 0.805684 (0.043854)\n",
      "ET: 0.787839 (0.069043)\n"
     ]
    }
   ],
   "source": [
    "# ensemble methods\n",
    "ensembles = []\n",
    "ensembles.append(('AB', AdaBoostClassifier()))\n",
    "ensembles.append(('GBM', GradientBoostingClassifier()))\n",
    "ensembles.append(('RF', RandomForestClassifier()))\n",
    "ensembles.append(('ET', ExtraTreesClassifier()))\n",
    "results = []\n",
    "names = []\n",
    "for name, model in ensembles:\n",
    "    kfold = KFold(n_splits = num_folds, random_state = seed)\n",
    "    cv_results = cross_val_score(model, X_train, Y_train, cv=kfold, scoring = scoring)\n",
    "    results.append(cv_results)\n",
    "    names.append(name)\n",
    "    msg = \"%s: %f (%f)\" %(name, cv_results.mean(), cv_results.std())\n",
    "    print(msg)"
   ]
  },
  {
   "cell_type": "code",
   "execution_count": 46,
   "metadata": {
    "collapsed": false
   },
   "outputs": [
    {
     "data": {
      "image/png": "[encoded data removed]",
      "text/plain": [
       "<matplotlib.figure.Figure at 0x2a41832b128>"
      ]
     },
     "metadata": {},
     "output_type": "display_data"
    }
   ],
   "source": [
    "# compare algorithms\n",
    "fig = plt.figure()\n",
    "fig.suptitle('Ensemble Algorithm Comparison')\n",
    "ax = fig.add_subplot(111)\n",
    "plt.boxplot(results)\n",
    "ax.set_xticklabels(names)\n",
    "plt.show()"
   ]
  },
  {
   "cell_type": "code",
   "execution_count": 47,
   "metadata": {
    "collapsed": false
   },
   "outputs": [
    {
     "name": "stdout",
     "output_type": "stream",
     "text": [
      "Best: 0.834671 using {'n_estimators': 200, 'min_samples_split': 1, 'max_features': 7, 'loss': 'deviance'}\n"
     ]
    }
   ],
   "source": [
    "# tuned GMB\n",
    "scaler = StandardScaler().fit(X_train)\n",
    "rescaledX = scaler.transform(X_train)\n",
    "loss_values = ['deviance', 'exponential']\n",
    "n_estimators_value = [100, 200, 300, 400, 500]\n",
    "min_samples_split_value = [1, 2]\n",
    "max_features_value = [2, 3, 4, 5, 6, 7, 8, 9, 10, 11, 12, 13, 14]\n",
    "param_grid = dict(loss = loss_values, n_estimators = n_estimators_value,\n",
    "                  min_samples_split = min_samples_split_value, max_features = max_features_value)\n",
    "model = GradientBoostingClassifier()\n",
    "kfold = KFold(n_splits = num_folds, random_state = seed)\n",
    "grid = GridSearchCV(estimator = model, param_grid = param_grid, scoring = 'accuracy', cv = kfold)\n",
    "grid_result = grid.fit(rescaledX, Y_train)\n",
    "print(\"Best: %f using %s\" %(grid_result.best_score_, grid_result.best_params_))\n",
    "#means = grid_result.cv_results_['mean_test_score']\n",
    "#stds = grid_result.cv_results_['std_test_score']\n",
    "#params = grid_result.cv_results_['params']\n",
    "#for mean, stdev, param in zip(means, stds, params):\n",
    " #   print(\"results from scaled SVM are %f (%f) with: %r\" % (mean, stdev, param))"
   ]
  },
  {
   "cell_type": "code",
   "execution_count": 48,
   "metadata": {
    "collapsed": false
   },
   "outputs": [
    {
     "name": "stdout",
     "output_type": "stream",
     "text": [
      "Best: 0.829856 using {'n_estimators': 240, 'max_depth': 5, 'criterion': 'entropy'}\n"
     ]
    }
   ],
   "source": [
    "# tuned Random Forest\n",
    "scaler = StandardScaler().fit(X_train)\n",
    "rescaledX = scaler.transform(X_train)\n",
    "parameter_grid = {\n",
    "                 'max_depth' : [4,5,6,7,8],\n",
    "                 'n_estimators': [50, 100, 150, 200, 210, 240, 250, 300, 400, 500],\n",
    "                 'criterion': ['gini','entropy']\n",
    "                 }\n",
    "model = RandomForestClassifier(max_features='sqrt')\n",
    "grid = GridSearchCV(model, param_grid=parameter_grid, cv=kfold)\n",
    "grid_result = grid.fit(rescaledX, Y_train)\n",
    "print(\"Best: %f using %s\" %(grid_result.best_score_, grid_result.best_params_))\n",
    "#means = grid_result.cv_results_['mean_test_score']\n",
    "#stds = grid_result.cv_results_['std_test_score']\n",
    "#params = grid_result.cv_results_['params']\n",
    "#for mean, stdev, param in zip(means, stds, params):\n",
    "#    print(\"results from scaled SVM are %f (%f) with: %r\" % (mean, stdev, param))"
   ]
  },
  {
   "cell_type": "markdown",
   "metadata": {},
   "source": [
    "### Step 9, Finalize models\n",
    "#### Check accuracy on validation dataset using optimized algorithms"
   ]
  },
  {
   "cell_type": "code",
   "execution_count": 55,
   "metadata": {
    "collapsed": false
   },
   "outputs": [
    {
     "name": "stdout",
     "output_type": "stream",
     "text": [
      "Accuracy: 84.70%\n"
     ]
    }
   ],
   "source": [
    "# finalize logistic regression\n",
    "scaler = StandardScaler().fit(X_train)\n",
    "rescaledX = scaler.transform(X_train)\n",
    "scaler = StandardScaler().fit(X_validation)\n",
    "rescaledX_validation = scaler.transform(X_validation)\n",
    "modelLR = LogisticRegression(penalty = 'l1', C = 1.5)\n",
    "modelLR.fit(rescaledX, Y_train)\n",
    "y_pred = modelLR.predict(rescaledX_validation)\n",
    "predictions = [round(value) for value in y_pred]\n",
    "accuracy = accuracy_score(Y_validation, predictions)\n",
    "print(\"Accuracy: %.2f%%\"%(accuracy*100.0))"
   ]
  },
  {
   "cell_type": "code",
   "execution_count": 56,
   "metadata": {
    "collapsed": false
   },
   "outputs": [
    {
     "name": "stdout",
     "output_type": "stream",
     "text": [
      "Accuracy: 83.96%\n"
     ]
    }
   ],
   "source": [
    "# finalize model_SVC\n",
    "scaler = StandardScaler().fit(X_train)\n",
    "rescaledX = scaler.transform(X_train)\n",
    "scaler = StandardScaler().fit(X_validation)\n",
    "rescaledX_validation = scaler.transform(X_validation)\n",
    "modelSVC = SVC(C = 0.5, kernel = 'rbf')\n",
    "modelSVC.fit(rescaledX, Y_train)\n",
    "y_pred = modelSVC.predict(rescaledX_validation)\n",
    "predictions = [round(value) for value in y_pred]\n",
    "accuracy = accuracy_score(Y_validation, predictions)\n",
    "print(\"Accuracy: %.2f%%\"%(accuracy*100.0))"
   ]
  },
  {
   "cell_type": "code",
   "execution_count": 58,
   "metadata": {
    "collapsed": false
   },
   "outputs": [
    {
     "name": "stdout",
     "output_type": "stream",
     "text": [
      "Accuracy: 82.46%\n"
     ]
    }
   ],
   "source": [
    "# finalize model_GBM\n",
    "scaler = StandardScaler().fit(X_train)\n",
    "rescaledX = scaler.transform(X_train)\n",
    "scaler = StandardScaler().fit(X_validation)\n",
    "rescaledX_validation = scaler.transform(X_validation)\n",
    "modelGBM = GradientBoostingClassifier(loss = 'deviance', n_estimators = 200, \n",
    "                                   min_samples_split = 1, max_features = 7)\n",
    "modelGBM.fit(rescaledX, Y_train)\n",
    "y_pred = modelGBM.predict(rescaledX_validation)\n",
    "predictions = [round(value) for value in y_pred]\n",
    "accuracy = accuracy_score(Y_validation, predictions)\n",
    "print(\"Accuracy: %.2f%%\"%(accuracy*100.0)) "
   ]
  },
  {
   "cell_type": "code",
   "execution_count": 60,
   "metadata": {
    "collapsed": false
   },
   "outputs": [
    {
     "name": "stdout",
     "output_type": "stream",
     "text": [
      "Accuracy: 86.19%\n"
     ]
    }
   ],
   "source": [
    "# finalize model_random Forest\n",
    "scaler = StandardScaler().fit(X_train)\n",
    "rescaledX = scaler.transform(X_train)\n",
    "scaler = StandardScaler().fit(X_validation)\n",
    "rescaledX_validation = scaler.transform(X_validation)\n",
    "modelRF = RandomForestClassifier(criterion = 'entropy', n_estimators = 240, max_depth = 5)\n",
    "modelRF.fit(rescaledX, Y_train)\n",
    "y_pred = modelRF.predict(rescaledX_validation)\n",
    "predictions = [round(value) for value in y_pred]\n",
    "accuracy = accuracy_score(Y_validation, predictions)\n",
    "print(\"Accuracy: %.2f%%\"%(accuracy*100.0)) "
   ]
  },
  {
   "cell_type": "markdown",
   "metadata": {},
   "source": [
    "### Step 10, Finalize model and output results"
   ]
  },
  {
   "cell_type": "code",
   "execution_count": 65,
   "metadata": {
    "collapsed": false
   },
   "outputs": [
    {
     "name": "stdout",
     "output_type": "stream",
     "text": [
      "<class 'pandas.core.frame.DataFrame'>\n",
      "RangeIndex: 418 entries, 891 to 1308\n",
      "Data columns (total 18 columns):\n",
      "Sex              418 non-null float64\n",
      "Age              418 non-null float64\n",
      "SibSp            418 non-null float64\n",
      "Parch            418 non-null float64\n",
      "Fare             418 non-null float64\n",
      "Title_Master     418 non-null float64\n",
      "Title_Miss       418 non-null float64\n",
      "Title_Mr         418 non-null float64\n",
      "Title_Mrs        418 non-null float64\n",
      "Title_Officer    418 non-null float64\n",
      "Title_Royalty    418 non-null float64\n",
      "Embarked_C       418 non-null float64\n",
      "Embarked_Q       418 non-null float64\n",
      "Embarked_S       418 non-null float64\n",
      "Pclass_1         418 non-null float64\n",
      "Pclass_2         418 non-null float64\n",
      "Pclass_3         418 non-null float64\n",
      "FamilySize       418 non-null float64\n",
      "dtypes: float64(18)\n",
      "memory usage: 58.9 KB\n"
     ]
    }
   ],
   "source": [
    "test.info()"
   ]
  },
  {
   "cell_type": "code",
   "execution_count": 73,
   "metadata": {
    "collapsed": false
   },
   "outputs": [
    {
     "name": "stdout",
     "output_type": "stream",
     "text": [
      "Done.\n"
     ]
    }
   ],
   "source": [
    "# Give predictions on testing dataset\n",
    "\n",
    "scaler = StandardScaler().fit(test)\n",
    "rescaledtest = scaler.transform(test)\n",
    "predictions = modelRF.predict(rescaledtest).astype(int)\n",
    "test = pd.read_csv('test.csv', header = 0)\n",
    "ids = test['PassengerId'].values\n",
    "\n",
    "predictions_file = open(\"RF_Oct2017.csv\", \"w\", newline='')\n",
    "open_file_object = csv.writer(predictions_file)\n",
    "open_file_object.writerow([\"PassengerId\",\"Survived\"])\n",
    "open_file_object.writerows(zip(ids, predictions))\n",
    "predictions_file.close()\n",
    "print('Done.')"
   ]
  },
  {
   "cell_type": "code",
   "execution_count": null,
   "metadata": {
    "collapsed": true
   },
   "outputs": [],
   "source": []
  }
 ],
 "metadata": {
  "kernelspec": {
   "display_name": "Python 3",
   "language": "python",
   "name": "python3"
  },
  "language_info": {
   "codemirror_mode": {
    "name": "ipython",
    "version": 3
   },
   "file_extension": ".py",
   "mimetype": "text/x-python",
   "name": "python",
   "nbconvert_exporter": "python",
   "pygments_lexer": "ipython3",
   "version": "3.5.2"
  }
 },
 "nbformat": 4,
 "nbformat_minor": 0
}
